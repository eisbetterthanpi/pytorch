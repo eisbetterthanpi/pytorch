{
  "nbformat": 4,
  "nbformat_minor": 0,
  "metadata": {
    "colab": {
      "provenance": [],
      "mount_file_id": "1BT6i4s-STshUDJUAFdIovUNFo8FWBeNm",
      "authorship_tag": "ABX9TyOoSm2PxLLtIjLnG4MlcqJK",
      "include_colab_link": true
    },
    "kernelspec": {
      "name": "python3",
      "display_name": "Python 3"
    },
    "language_info": {
      "name": "python"
    },
    "accelerator": "GPU",
    "gpuClass": "standard",
    "widgets": {
      "application/vnd.jupyter.widget-state+json": {
        "e908168470d841f7a374c4832d6b461a": {
          "model_module": "@jupyter-widgets/controls",
          "model_name": "HBoxModel",
          "model_module_version": "1.5.0",
          "state": {
            "_dom_classes": [],
            "_model_module": "@jupyter-widgets/controls",
            "_model_module_version": "1.5.0",
            "_model_name": "HBoxModel",
            "_view_count": null,
            "_view_module": "@jupyter-widgets/controls",
            "_view_module_version": "1.5.0",
            "_view_name": "HBoxView",
            "box_style": "",
            "children": [
              "IPY_MODEL_20dceb16fd3c41c8a83214c7fa38ea6f",
              "IPY_MODEL_57a8ab3d28e641c6984d8fc8e6fa9dc6",
              "IPY_MODEL_81acd030b20d4ae4ab64fe260d677055"
            ],
            "layout": "IPY_MODEL_0ea251bd618941b6a4dcf0561331f17d"
          }
        },
        "20dceb16fd3c41c8a83214c7fa38ea6f": {
          "model_module": "@jupyter-widgets/controls",
          "model_name": "HTMLModel",
          "model_module_version": "1.5.0",
          "state": {
            "_dom_classes": [],
            "_model_module": "@jupyter-widgets/controls",
            "_model_module_version": "1.5.0",
            "_model_name": "HTMLModel",
            "_view_count": null,
            "_view_module": "@jupyter-widgets/controls",
            "_view_module_version": "1.5.0",
            "_view_name": "HTMLView",
            "description": "",
            "description_tooltip": null,
            "layout": "IPY_MODEL_14a236342a794d8f831130af5a3bd51c",
            "placeholder": "​",
            "style": "IPY_MODEL_9e082d861b894e19a2ef3a88d22319ce",
            "value": "100%"
          }
        },
        "57a8ab3d28e641c6984d8fc8e6fa9dc6": {
          "model_module": "@jupyter-widgets/controls",
          "model_name": "FloatProgressModel",
          "model_module_version": "1.5.0",
          "state": {
            "_dom_classes": [],
            "_model_module": "@jupyter-widgets/controls",
            "_model_module_version": "1.5.0",
            "_model_name": "FloatProgressModel",
            "_view_count": null,
            "_view_module": "@jupyter-widgets/controls",
            "_view_module_version": "1.5.0",
            "_view_name": "ProgressView",
            "bar_style": "success",
            "description": "",
            "description_tooltip": null,
            "layout": "IPY_MODEL_a5e6799a9eca4290886dcc42c9f8791f",
            "max": 241627721,
            "min": 0,
            "orientation": "horizontal",
            "style": "IPY_MODEL_6b7d22f8252e46a08cd1829ad03bff18",
            "value": 241627721
          }
        },
        "81acd030b20d4ae4ab64fe260d677055": {
          "model_module": "@jupyter-widgets/controls",
          "model_name": "HTMLModel",
          "model_module_version": "1.5.0",
          "state": {
            "_dom_classes": [],
            "_model_module": "@jupyter-widgets/controls",
            "_model_module_version": "1.5.0",
            "_model_name": "HTMLModel",
            "_view_count": null,
            "_view_module": "@jupyter-widgets/controls",
            "_view_module_version": "1.5.0",
            "_view_name": "HTMLView",
            "description": "",
            "description_tooltip": null,
            "layout": "IPY_MODEL_02673a46afe6409dbef7d2e953b9ecf7",
            "placeholder": "​",
            "style": "IPY_MODEL_b70ee3c512084a6d8be599062fc48e26",
            "value": " 230M/230M [00:03&lt;00:00, 75.9MB/s]"
          }
        },
        "0ea251bd618941b6a4dcf0561331f17d": {
          "model_module": "@jupyter-widgets/base",
          "model_name": "LayoutModel",
          "model_module_version": "1.2.0",
          "state": {
            "_model_module": "@jupyter-widgets/base",
            "_model_module_version": "1.2.0",
            "_model_name": "LayoutModel",
            "_view_count": null,
            "_view_module": "@jupyter-widgets/base",
            "_view_module_version": "1.2.0",
            "_view_name": "LayoutView",
            "align_content": null,
            "align_items": null,
            "align_self": null,
            "border": null,
            "bottom": null,
            "display": null,
            "flex": null,
            "flex_flow": null,
            "grid_area": null,
            "grid_auto_columns": null,
            "grid_auto_flow": null,
            "grid_auto_rows": null,
            "grid_column": null,
            "grid_gap": null,
            "grid_row": null,
            "grid_template_areas": null,
            "grid_template_columns": null,
            "grid_template_rows": null,
            "height": null,
            "justify_content": null,
            "justify_items": null,
            "left": null,
            "margin": null,
            "max_height": null,
            "max_width": null,
            "min_height": null,
            "min_width": null,
            "object_fit": null,
            "object_position": null,
            "order": null,
            "overflow": null,
            "overflow_x": null,
            "overflow_y": null,
            "padding": null,
            "right": null,
            "top": null,
            "visibility": null,
            "width": null
          }
        },
        "14a236342a794d8f831130af5a3bd51c": {
          "model_module": "@jupyter-widgets/base",
          "model_name": "LayoutModel",
          "model_module_version": "1.2.0",
          "state": {
            "_model_module": "@jupyter-widgets/base",
            "_model_module_version": "1.2.0",
            "_model_name": "LayoutModel",
            "_view_count": null,
            "_view_module": "@jupyter-widgets/base",
            "_view_module_version": "1.2.0",
            "_view_name": "LayoutView",
            "align_content": null,
            "align_items": null,
            "align_self": null,
            "border": null,
            "bottom": null,
            "display": null,
            "flex": null,
            "flex_flow": null,
            "grid_area": null,
            "grid_auto_columns": null,
            "grid_auto_flow": null,
            "grid_auto_rows": null,
            "grid_column": null,
            "grid_gap": null,
            "grid_row": null,
            "grid_template_areas": null,
            "grid_template_columns": null,
            "grid_template_rows": null,
            "height": null,
            "justify_content": null,
            "justify_items": null,
            "left": null,
            "margin": null,
            "max_height": null,
            "max_width": null,
            "min_height": null,
            "min_width": null,
            "object_fit": null,
            "object_position": null,
            "order": null,
            "overflow": null,
            "overflow_x": null,
            "overflow_y": null,
            "padding": null,
            "right": null,
            "top": null,
            "visibility": null,
            "width": null
          }
        },
        "9e082d861b894e19a2ef3a88d22319ce": {
          "model_module": "@jupyter-widgets/controls",
          "model_name": "DescriptionStyleModel",
          "model_module_version": "1.5.0",
          "state": {
            "_model_module": "@jupyter-widgets/controls",
            "_model_module_version": "1.5.0",
            "_model_name": "DescriptionStyleModel",
            "_view_count": null,
            "_view_module": "@jupyter-widgets/base",
            "_view_module_version": "1.2.0",
            "_view_name": "StyleView",
            "description_width": ""
          }
        },
        "a5e6799a9eca4290886dcc42c9f8791f": {
          "model_module": "@jupyter-widgets/base",
          "model_name": "LayoutModel",
          "model_module_version": "1.2.0",
          "state": {
            "_model_module": "@jupyter-widgets/base",
            "_model_module_version": "1.2.0",
            "_model_name": "LayoutModel",
            "_view_count": null,
            "_view_module": "@jupyter-widgets/base",
            "_view_module_version": "1.2.0",
            "_view_name": "LayoutView",
            "align_content": null,
            "align_items": null,
            "align_self": null,
            "border": null,
            "bottom": null,
            "display": null,
            "flex": null,
            "flex_flow": null,
            "grid_area": null,
            "grid_auto_columns": null,
            "grid_auto_flow": null,
            "grid_auto_rows": null,
            "grid_column": null,
            "grid_gap": null,
            "grid_row": null,
            "grid_template_areas": null,
            "grid_template_columns": null,
            "grid_template_rows": null,
            "height": null,
            "justify_content": null,
            "justify_items": null,
            "left": null,
            "margin": null,
            "max_height": null,
            "max_width": null,
            "min_height": null,
            "min_width": null,
            "object_fit": null,
            "object_position": null,
            "order": null,
            "overflow": null,
            "overflow_x": null,
            "overflow_y": null,
            "padding": null,
            "right": null,
            "top": null,
            "visibility": null,
            "width": null
          }
        },
        "6b7d22f8252e46a08cd1829ad03bff18": {
          "model_module": "@jupyter-widgets/controls",
          "model_name": "ProgressStyleModel",
          "model_module_version": "1.5.0",
          "state": {
            "_model_module": "@jupyter-widgets/controls",
            "_model_module_version": "1.5.0",
            "_model_name": "ProgressStyleModel",
            "_view_count": null,
            "_view_module": "@jupyter-widgets/base",
            "_view_module_version": "1.2.0",
            "_view_name": "StyleView",
            "bar_color": null,
            "description_width": ""
          }
        },
        "02673a46afe6409dbef7d2e953b9ecf7": {
          "model_module": "@jupyter-widgets/base",
          "model_name": "LayoutModel",
          "model_module_version": "1.2.0",
          "state": {
            "_model_module": "@jupyter-widgets/base",
            "_model_module_version": "1.2.0",
            "_model_name": "LayoutModel",
            "_view_count": null,
            "_view_module": "@jupyter-widgets/base",
            "_view_module_version": "1.2.0",
            "_view_name": "LayoutView",
            "align_content": null,
            "align_items": null,
            "align_self": null,
            "border": null,
            "bottom": null,
            "display": null,
            "flex": null,
            "flex_flow": null,
            "grid_area": null,
            "grid_auto_columns": null,
            "grid_auto_flow": null,
            "grid_auto_rows": null,
            "grid_column": null,
            "grid_gap": null,
            "grid_row": null,
            "grid_template_areas": null,
            "grid_template_columns": null,
            "grid_template_rows": null,
            "height": null,
            "justify_content": null,
            "justify_items": null,
            "left": null,
            "margin": null,
            "max_height": null,
            "max_width": null,
            "min_height": null,
            "min_width": null,
            "object_fit": null,
            "object_position": null,
            "order": null,
            "overflow": null,
            "overflow_x": null,
            "overflow_y": null,
            "padding": null,
            "right": null,
            "top": null,
            "visibility": null,
            "width": null
          }
        },
        "b70ee3c512084a6d8be599062fc48e26": {
          "model_module": "@jupyter-widgets/controls",
          "model_name": "DescriptionStyleModel",
          "model_module_version": "1.5.0",
          "state": {
            "_model_module": "@jupyter-widgets/controls",
            "_model_module_version": "1.5.0",
            "_model_name": "DescriptionStyleModel",
            "_view_count": null,
            "_view_module": "@jupyter-widgets/base",
            "_view_module_version": "1.2.0",
            "_view_name": "StyleView",
            "description_width": ""
          }
        }
      }
    }
  },
  "cells": [
    {
      "cell_type": "markdown",
      "metadata": {
        "id": "view-in-github",
        "colab_type": "text"
      },
      "source": [
        "<a href=\"https://colab.research.google.com/github/eisbetterthanpi/pytorch/blob/main/miniproj.ipynb\" target=\"_parent\"><img src=\"https://colab.research.google.com/assets/colab-badge.svg\" alt=\"Open In Colab\"/></a>"
      ]
    },
    {
      "cell_type": "code",
      "source": [
        "from google.colab import drive\n",
        "drive.mount('/content/drive')"
      ],
      "metadata": {
        "id": "AK5tX5S3LOwP",
        "colab": {
          "base_uri": "https://localhost:8080/"
        },
        "outputId": "bb925ae2-99ab-45b1-d8c6-c98ff01eb288"
      },
      "execution_count": null,
      "outputs": [
        {
          "output_type": "stream",
          "name": "stdout",
          "text": [
            "Drive already mounted at /content/drive; to attempt to forcibly remount, call drive.mount(\"/content/drive\", force_remount=True).\n"
          ]
        }
      ]
    },
    {
      "cell_type": "code",
      "execution_count": null,
      "metadata": {
        "id": "U9HjjsoPSTCx"
      },
      "outputs": [],
      "source": [
        "!unzip /content/drive/MyDrive/frame/trainnorm.zip -d /train\n",
        "!unzip /content/drive/MyDrive/frame/trainweap.zip -d /train\n",
        "\n",
        "!unzip /content/drive/MyDrive/frame/testnorm.zip -d /test\n",
        "!unzip /content/drive/MyDrive/frame/testweap.zip -d /test"
      ]
    },
    {
      "cell_type": "markdown",
      "source": [
        "###fast"
      ],
      "metadata": {
        "id": "kUzaJJdFHpZq"
      }
    },
    {
      "cell_type": "code",
      "execution_count": 1,
      "metadata": {
        "id": "LxACli7GdyGq",
        "cellView": "form"
      },
      "outputs": [],
      "source": [
        "# @title data\n",
        "import torch\n",
        "import torch.nn as nn\n",
        "# import torch.nn.functional as F\n",
        "import torchvision\n",
        "# import torchvision.transforms as transforms\n",
        "from torchvision import datasets, transforms\n",
        "\n",
        "import matplotlib.pyplot as plt\n",
        "import numpy as np\n",
        "# https://github.com/python-engineer/pytorchTutorial/blob/master/14_cnn.py\n",
        "\n",
        "# dataset has PILImage images of range [0, 1], transform them to Tensors of normalized range [-1, 1]\n",
        "transform = transforms.Compose([transforms.ToTensor(), transforms.Normalize((0.5, 0.5, 0.5), (0.5, 0.5, 0.5))])\n",
        "# transform = transforms.Compose([transforms.ToTensor(), transforms.Resize((224,224)), transforms.Normalize((0.5, 0.5, 0.5), (0.5, 0.5, 0.5))])\n",
        "# transform = transforms.Compose(transforms.ToTensor())\n",
        "\n",
        "train_dir='/train/content/'\n",
        "test_dir='/test/content/'\n",
        "\n",
        "# train_data = datasets.CIFAR10(root='./data', train=True, download=True, transform=transform)\n",
        "# test_data = datasets.CIFAR10(root='./data', train=False, download=True, transform=transform)\n",
        "train_data = datasets.ImageFolder(train_dir, transform=transform)\n",
        "test_data = datasets.ImageFolder(test_dir, transform=transform)\n",
        "\n",
        "# batch_size = 64 # 4\n",
        "\n",
        "# # train_loader = torch.utils.data.DataLoader(train_data, batch_size=batch_size, shuffle=True)\n",
        "# # test_loader = torch.utils.data.DataLoader(test_data, batch_size=batch_size, shuffle=True)\n",
        "# train_loader = torch.utils.data.DataLoader(train_data, batch_size=batch_size, shuffle=True, num_workers=4, pin_memory=True)\n",
        "# test_loader = torch.utils.data.DataLoader(test_data, batch_size=batch_size, shuffle=False, num_workers=4, pin_memory=True)\n",
        "\n",
        "# def imshow(img):\n",
        "#     img = img / 2 + 0.5  # unnormalize\n",
        "#     npimg = img.numpy()\n",
        "#     plt.imshow(np.transpose(npimg, (1, 2, 0)))\n",
        "#     plt.show()\n",
        "\n",
        "# dataiter = iter(train_loader) # get some random training images\n",
        "# images, labels = next(dataiter)\n",
        "# # imshow(torchvision.utils.make_grid(images))"
      ]
    },
    {
      "cell_type": "code",
      "execution_count": null,
      "metadata": {
        "id": "r0mXVAUnVYX-",
        "cellView": "form"
      },
      "outputs": [],
      "source": [
        "# @title simplifi\n",
        "# https://github.com/JayPatwardhan/ResNet-PyTorch/blob/master/ResNet/ResNet.py\n",
        "import torch\n",
        "import torch.nn as nn\n",
        "import torch.nn.functional as F\n",
        "\n",
        "class Block(nn.Module):\n",
        "    expansion = 1\n",
        "    def __init__(self, in_channels, out_channels, i_downsample=None, stride=1):\n",
        "        super(Block, self).__init__()\n",
        "        self.conv = nn.Sequential(\n",
        "            nn.Conv2d(in_channels, out_channels, kernel_size=3, padding=1, stride=stride, bias=False),\n",
        "            nn.BatchNorm2d(out_channels), nn.ReLU(),\n",
        "            nn.Conv2d(out_channels, out_channels, kernel_size=3, padding=1, stride=stride, bias=False),\n",
        "            nn.BatchNorm2d(out_channels),\n",
        "        )\n",
        "        self.i_downsample = i_downsample\n",
        "\n",
        "    def forward(self, x):\n",
        "        identity = x.clone()\n",
        "        x = self.conv(x)\n",
        "        if self.i_downsample is not None:\n",
        "            identity = self.i_downsample(identity)\n",
        "        x += identity\n",
        "        x = nn.ReLU()(x)\n",
        "        return x\n",
        "\n",
        "\n",
        "class Bottleneck(nn.Module):\n",
        "    expansion = 4\n",
        "    def __init__(self, in_channels, out_channels, i_downsample=None, stride=1):\n",
        "        super(Bottleneck, self).__init__()\n",
        "        self.conv = nn.Sequential(\n",
        "            nn.Conv2d(in_channels, out_channels, kernel_size=1, stride=1, padding=0),\n",
        "            nn.BatchNorm2d(out_channels), nn.ReLU(),\n",
        "            nn.Conv2d(out_channels, out_channels, kernel_size=3, stride=stride, padding=1),\n",
        "            nn.BatchNorm2d(out_channels), nn.ReLU(),\n",
        "            nn.Conv2d(out_channels, out_channels*self.expansion, kernel_size=1, stride=1, padding=0),\n",
        "            nn.BatchNorm2d(out_channels*self.expansion),\n",
        "        )\n",
        "        self.i_downsample = i_downsample\n",
        "        \n",
        "    def forward(self, x):\n",
        "        identity = x.clone()\n",
        "        x = self.conv(x)\n",
        "        if self.i_downsample is not None: #downsample if needed\n",
        "            identity = self.i_downsample(identity)\n",
        "        x += identity #add identity\n",
        "        x = nn.ReLU()(x)\n",
        "        return x\n",
        "\n",
        "\n",
        "class ResNet(nn.Module):\n",
        "    def __init__(self, ResBlock, layer_list, num_classes, num_channels=3):\n",
        "        super(ResNet, self).__init__()\n",
        "        # https://github.com/akamaster/pytorch_resnet_cifar10/blob/master/resnet.py\n",
        "        # num_blocks=[3,3,3] aka layer_list\n",
        "        # plane_list=[64,128,256]\n",
        "        plane_list=[16,32,64] #og\n",
        "        self.in_channels = plane_list[0]\n",
        "        self.conv = nn.Sequential(\n",
        "            nn.Conv2d(3, plane_list[0], kernel_size=3, stride=1, padding=1, bias=False),\n",
        "            nn.BatchNorm2d(plane_list[0]), nn.ReLU(),\n",
        "            self._make_layer(ResBlock, layer_list[0], plane_list[0], stride=1),\n",
        "            self._make_layer(ResBlock, layer_list[1], plane_list[1], stride=2),\n",
        "            self._make_layer(ResBlock, layer_list[2], plane_list[2], stride=2),\n",
        "            nn.AdaptiveAvgPool2d((1,1)),\n",
        "        )\n",
        "        # self.fc = nn.Linear(plane_list[2]*ResBlock.expansion, num_classes)\n",
        "        self.cc = nn.Conv2d(plane_list[2]*ResBlock.expansion, num_classes, kernel_size=1, stride=1, padding=0)\n",
        "\n",
        "    def forward(self, x):\n",
        "        x = self.conv(x)\n",
        "        # print(\"forward x\",x.shape)\n",
        "        # x = x.reshape(x.shape[0], -1)\n",
        "        # x = self.fc(x)\n",
        "        x = self.cc(x)\n",
        "        x = torch.squeeze(x)\n",
        "        return x\n",
        "        \n",
        "    def _make_layer(self, ResBlock, blocks, planes, stride=1):\n",
        "        ii_downsample = None\n",
        "        layers = []\n",
        "        if stride != 1 or self.in_channels != planes*ResBlock.expansion:\n",
        "            ii_downsample = nn.Sequential(\n",
        "                nn.Conv2d(self.in_channels, planes*ResBlock.expansion, kernel_size=1, stride=stride),\n",
        "                nn.BatchNorm2d(planes*ResBlock.expansion)\n",
        "            )\n",
        "        layers.append(ResBlock(self.in_channels, planes, i_downsample=ii_downsample, stride=stride))\n",
        "        self.in_channels = planes*ResBlock.expansion\n",
        "        for i in range(blocks-1):\n",
        "            layers.append(ResBlock(self.in_channels, planes))\n",
        "        return nn.Sequential(*layers)\n",
        "\n",
        "\n",
        "device = torch.device('cuda' if torch.cuda.is_available() else 'cpu')\n",
        "# model = ResNet(Bottleneck, [3,4,6,3], num_classes=10, num_channels=3).to(device)\n",
        "model = ResNet(Bottleneck, [3,3,3], num_classes=2, num_channels=3).to(device)\n",
        "# print(model)\n",
        "\n",
        "loss_list=[]"
      ]
    },
    {
      "cell_type": "code",
      "execution_count": null,
      "metadata": {
        "cellView": "form",
        "id": "h7iCNId6oXUK"
      },
      "outputs": [],
      "source": [
        "# @title convnet\n",
        "\n",
        "# class ConvNet(nn.Module):\n",
        "#     def __init__(self):\n",
        "#         super(ConvNet, self).__init__()\n",
        "#         plane_list=[64,128,256,512]\n",
        "#         self.conv = nn.Sequential( # nn.Conv2d(in_channels, out_channels, kernel_size=1, stride=1, padding=0),\n",
        "#             nn.Conv2d(3, plane_list[0], 3, 1, 1), nn.BatchNorm2d(plane_list[0]), nn.ReLU(),# nn.MaxPool2d(2, 2),\n",
        "#             nn.Conv2d(plane_list[0], plane_list[1], 5, 1, 2), nn.BatchNorm2d(plane_list[1]), nn.ReLU(), nn.MaxPool2d(2, 2),\n",
        "#             nn.Conv2d(plane_list[1], plane_list[2], 7, 1, 3), nn.BatchNorm2d(plane_list[2]), nn.ReLU(), nn.MaxPool2d(2, 2),\n",
        "#         )\n",
        "#         self.linear = nn.Sequential(\n",
        "#             # nn.Linear(16 * 8 * 8, 256), nn.ReLU(),\n",
        "#             nn.Linear(plane_list[2] * 8 * 8, 256), nn.ReLU(),\n",
        "#             # nn.Linear(plane_list[2]//16, 256), nn.ReLU(),\n",
        "#             nn.Linear(256, 64), nn.ReLU(),\n",
        "#             nn.Linear(64, 10),\n",
        "#         )\n",
        "\n",
        "class ConvNet(nn.Module):\n",
        "    def __init__(self):\n",
        "        super(ConvNet, self).__init__()\n",
        "        plane_list=[64,128,256,512]\n",
        "        self.conv = nn.Sequential( # nn.Conv2d(in_channels, out_channels, kernel_size=1, stride=1, padding=0),\n",
        "            nn.Conv2d(3, plane_list[0], 3, 1, 1), nn.BatchNorm2d(plane_list[0]), nn.ReLU(), #nn.MaxPool2d(2, 2),\n",
        "            nn.Conv2d(plane_list[0], plane_list[1], 3, 1, 1), nn.BatchNorm2d(plane_list[1]), nn.ReLU(), nn.MaxPool2d(2, 2),\n",
        "            nn.Conv2d(plane_list[1], plane_list[2], 3, 1, 1), nn.BatchNorm2d(plane_list[2]), nn.ReLU(), nn.MaxPool2d(2, 2),\n",
        "            nn.AdaptiveAvgPool2d((1,1)),\n",
        "            nn.Conv2d(plane_list[2],64, 1, 1, 0), #nn.BatchNorm2d(64), \n",
        "            nn.ReLU(),\n",
        "            nn.Conv2d(64, 10, 1, 1, 0),\n",
        "        )\n",
        "\n",
        "    def forward(self, x):\n",
        "        x = self.conv(x)\n",
        "        # print(\"forward x\",x.shape)\n",
        "        # x = x.view(-1, 16 * 5 * 5)\n",
        "        # x = nn.Flatten()(x)\n",
        "        # x = self.linear(x)\n",
        "        x = torch.squeeze(x)\n",
        "        return x\n",
        "\n",
        "device = torch.device('cuda' if torch.cuda.is_available() else 'cpu')\n",
        "\n",
        "model = ConvNet().to(device)\n",
        "# print(model)\n",
        "\n",
        "loss_list=[]"
      ]
    },
    {
      "cell_type": "code",
      "source": [
        "# @title pretrained\n",
        "import torch\n",
        "import torch.nn as nn\n",
        "import torch.nn.functional as F\n",
        "\n",
        "from torchvision import datasets, models, transforms\n",
        "# https://pytorch.org/vision/0.12/models.html#id10\n",
        "model = models.resnet152(pretrained=True) # 18 34 50 101 152\n",
        "num_ftrs = model.fc.in_features\n",
        "# model.fc = nn.Linear(num_ftrs, 2)\n",
        "model.fc = nn.Sequential(\n",
        "    nn.Linear(num_ftrs, 2),\n",
        "    nn.Softmax(),\n",
        "    )\n",
        "\n",
        "c=0\n",
        "for param in model.parameters():\n",
        "    # print(param.shape)\n",
        "    if c>=300: #101(312)\n",
        "        param.requires_grad = True\n",
        "    else:\n",
        "        param.requires_grad = False\n",
        "    c+=1\n",
        "\n",
        "# for param in model.parameters():\n",
        "#     print(param.requires_grad,param.shape)\n",
        "\n",
        "device = torch.device('cuda' if torch.cuda.is_available() else 'cpu')\n",
        "model = model.to(device)\n",
        "# print(model)"
      ],
      "metadata": {
        "id": "7oYDr8kuA5Bl",
        "outputId": "bbb1c71a-44b3-4af5-9312-c4b77c6a5925",
        "colab": {
          "base_uri": "https://localhost:8080/",
          "height": 121,
          "referenced_widgets": [
            "e908168470d841f7a374c4832d6b461a",
            "20dceb16fd3c41c8a83214c7fa38ea6f",
            "57a8ab3d28e641c6984d8fc8e6fa9dc6",
            "81acd030b20d4ae4ab64fe260d677055",
            "0ea251bd618941b6a4dcf0561331f17d",
            "14a236342a794d8f831130af5a3bd51c",
            "9e082d861b894e19a2ef3a88d22319ce",
            "a5e6799a9eca4290886dcc42c9f8791f",
            "6b7d22f8252e46a08cd1829ad03bff18",
            "02673a46afe6409dbef7d2e953b9ecf7",
            "b70ee3c512084a6d8be599062fc48e26"
          ]
        }
      },
      "execution_count": 6,
      "outputs": [
        {
          "output_type": "stream",
          "name": "stderr",
          "text": [
            "/usr/local/lib/python3.9/dist-packages/torchvision/models/_utils.py:223: UserWarning: Arguments other than a weight enum or `None` for 'weights' are deprecated since 0.13 and may be removed in the future. The current behavior is equivalent to passing `weights=ResNet152_Weights.IMAGENET1K_V1`. You can also use `weights=ResNet152_Weights.DEFAULT` to get the most up-to-date weights.\n",
            "  warnings.warn(msg)\n",
            "Downloading: \"https://download.pytorch.org/models/resnet152-394f9c45.pth\" to /root/.cache/torch/hub/checkpoints/resnet152-394f9c45.pth\n"
          ]
        },
        {
          "output_type": "display_data",
          "data": {
            "text/plain": [
              "  0%|          | 0.00/230M [00:00<?, ?B/s]"
            ],
            "application/vnd.jupyter.widget-view+json": {
              "version_major": 2,
              "version_minor": 0,
              "model_id": "e908168470d841f7a374c4832d6b461a"
            }
          },
          "metadata": {}
        }
      ]
    },
    {
      "cell_type": "code",
      "source": [
        "c=0\n",
        "for param in model.parameters():\n",
        "    param.requires_grad = False\n",
        "    # print(param.shape)\n",
        "    c+=1\n",
        "    if c>=0: #312\n",
        "        param.requires_grad = True"
      ],
      "metadata": {
        "id": "zw91Nv3dH2m3"
      },
      "execution_count": null,
      "outputs": []
    },
    {
      "cell_type": "code",
      "execution_count": null,
      "metadata": {
        "colab": {
          "base_uri": "https://localhost:8080/"
        },
        "id": "vEZCFg5YSS9J",
        "outputId": "3e815da6-cc6b-4144-8180-87bb7034598f"
      },
      "outputs": [
        {
          "output_type": "stream",
          "name": "stdout",
          "text": [
            "torch.Size([64, 2])\n"
          ]
        }
      ],
      "source": [
        "X = torch.rand(64, 3, 32, 32, device=device)\n",
        "logits = model(X)\n",
        "print(logits.shape)\n",
        "# print(logits[0])\n",
        "# print(logits[0].argmax(1))\n",
        "pred_probab = nn.Softmax(dim=1)(logits)\n",
        "y_pred = pred_probab.argmax(1)\n",
        "# print(f\"Predicted class: {y_pred}\")\n"
      ]
    },
    {
      "cell_type": "code",
      "execution_count": 3,
      "metadata": {
        "id": "fsealXK3OPQa",
        "cellView": "form"
      },
      "outputs": [],
      "source": [
        "# @title train test function\n",
        "\n",
        "scaler = torch.cuda.amp.GradScaler()\n",
        "# for data, label in data_iter:\n",
        "#    optimizer.zero_grad()\n",
        "#    # Casts operations to mixed precision\n",
        "#    with torch.cuda.amp.autocast():\n",
        "#       loss = model(data)\n",
        "#    scaler.scale(loss).backward()\n",
        "#    scaler.step(optimizer)\n",
        "#    scaler.update()\n",
        "\n",
        "# def strain(dataloader, model, loss_fn, optimizer):\n",
        "def strain(dataloader, model, loss_fn, optimizer, scheduler=None, verbose=True):\n",
        "    size = len(dataloader.dataset)\n",
        "    model.train()\n",
        "    # lr_list, loss_list = [], []\n",
        "    for batch, (x, y) in enumerate(dataloader):\n",
        "        sx, sy = x.to(device), y.to(device)\n",
        "        optimizer.zero_grad()\n",
        "        \n",
        "        with torch.cuda.amp.autocast():\n",
        "            pred = model(sx)\n",
        "            loss = loss_fn(pred, sy)\n",
        "        scaler.scale(loss).backward()\n",
        "        scaler.step(optimizer)\n",
        "        scaler.update()\n",
        "        if scheduler is not None:\n",
        "            # lr_list.append(optimizer.param_groups[0][\"lr\"])\n",
        "            scheduler.step()\n",
        "            # loss_list.append(loss.item())\n",
        "\n",
        "        # loss.backward()\n",
        "        # optimizer.step()\n",
        "        if (batch) % (size//(10* len(x))) == 0:\n",
        "            loss, current = loss.item(), batch * len(x)\n",
        "            if verbose: print(f\"loss: {loss:>7f}  [{current:>5d}/{size:>5d}]\")\n",
        "    return #lr_list, loss_list\n",
        "\n",
        "# def train(dataloader, model, loss_fn, optimizer):\n",
        "def train(dataloader, model, loss_fn, optimizer, scheduler=None, verbose=True):\n",
        "    size = len(dataloader.dataset)\n",
        "    model.train()\n",
        "    for batch, (x, y) in enumerate(dataloader):\n",
        "    # for batch, ((x,y), labels) in enumerate(dataloader):\n",
        "        sx, sy = x.to(device), y.to(device)\n",
        "        # print(\"sx sy\",sx.shape,sy.shape)\n",
        "        pred = model(sx)\n",
        "        loss = loss_fn(pred, sy)\n",
        "        # loss = model.loss(sx,sy)\n",
        "        optimizer.zero_grad() # reset gradients of model parameters, to prevent double-counting\n",
        "        loss.backward() # Backpropagate gradients\n",
        "        optimizer.step() # adjust the parameters by the gradients\n",
        "        if scheduler is not None: scheduler.step()\n",
        "        if (batch) % (size//(10* len(x))) == 0:\n",
        "            loss, current = loss.item(), batch * len(x)\n",
        "            loss_list.append(loss)\n",
        "            if verbose: print(f\"loss: {loss:>7f}  [{current:>5d}/{size:>5d}]\")\n",
        "\n",
        "# def test(dataloader, model, loss_fn):\n",
        "def test(dataloader, model, loss_fn, verbose=True):\n",
        "    size = len(dataloader.dataset)\n",
        "    num_batches = len(dataloader)\n",
        "    model.eval()\n",
        "    test_loss, correct = 0, 0\n",
        "    with torch.no_grad():\n",
        "        for X, y in dataloader:\n",
        "            x, y = X.to(device), y.to(device)\n",
        "            pred = model(x)\n",
        "            loss = loss_fn(pred, y)\n",
        "            # predicted, actual = classes[pred[0].argmax(0)], classes[y]\n",
        "            test_loss += loss_fn(pred, y).item()\n",
        "            correct += (pred.argmax(1) == y).type(torch.float).sum().item()\n",
        "    test_loss /= num_batches\n",
        "    correct /= size\n",
        "    # if verbose: print(f\"Test Error: \\n Accuracy: {(100*correct):>0.1f}%, Avg loss: {test_loss:>8f} \\n\")\n",
        "    if verbose: print(f\"Accuracy: {(100*correct):>0.1f}%, Avg loss: {test_loss:>8f}\")\n",
        "    return correct"
      ]
    },
    {
      "cell_type": "code",
      "source": [
        "import matplotlib.pyplot as plt\n",
        "# plt.plot(lr_list,acc_list)\n",
        "# plt.plot(acc_list)\n",
        "plt.plot(lr_list, loss_list)\n",
        "# plt.plot(lr_list[:-40], loss_list[:-40])\n",
        "plt.xscale('log')\n",
        "plt.show()\n",
        "plt.close()\n"
      ],
      "metadata": {
        "id": "WUDgi0PQpSto",
        "outputId": "a169241f-33f5-4bf4-8d4d-0e6716552d62",
        "colab": {
          "base_uri": "https://localhost:8080/",
          "height": 235
        }
      },
      "execution_count": null,
      "outputs": [
        {
          "output_type": "error",
          "ename": "NameError",
          "evalue": "ignored",
          "traceback": [
            "\u001b[0;31m---------------------------------------------------------------------------\u001b[0m",
            "\u001b[0;31mNameError\u001b[0m                                 Traceback (most recent call last)",
            "\u001b[0;32m<ipython-input-14-b5a131cc591d>\u001b[0m in \u001b[0;36m<module>\u001b[0;34m\u001b[0m\n\u001b[1;32m      2\u001b[0m \u001b[0;31m# plt.plot(lr_list,acc_list)\u001b[0m\u001b[0;34m\u001b[0m\u001b[0;34m\u001b[0m\u001b[0m\n\u001b[1;32m      3\u001b[0m \u001b[0;31m# plt.plot(acc_list)\u001b[0m\u001b[0;34m\u001b[0m\u001b[0;34m\u001b[0m\u001b[0m\n\u001b[0;32m----> 4\u001b[0;31m \u001b[0mplt\u001b[0m\u001b[0;34m.\u001b[0m\u001b[0mplot\u001b[0m\u001b[0;34m(\u001b[0m\u001b[0mlr_list\u001b[0m\u001b[0;34m,\u001b[0m \u001b[0mloss_list\u001b[0m\u001b[0;34m)\u001b[0m\u001b[0;34m\u001b[0m\u001b[0;34m\u001b[0m\u001b[0m\n\u001b[0m\u001b[1;32m      5\u001b[0m \u001b[0;31m# plt.plot(lr_list[:-40], loss_list[:-40])\u001b[0m\u001b[0;34m\u001b[0m\u001b[0;34m\u001b[0m\u001b[0m\n\u001b[1;32m      6\u001b[0m \u001b[0mplt\u001b[0m\u001b[0;34m.\u001b[0m\u001b[0mxscale\u001b[0m\u001b[0;34m(\u001b[0m\u001b[0;34m'log'\u001b[0m\u001b[0;34m)\u001b[0m\u001b[0;34m\u001b[0m\u001b[0;34m\u001b[0m\u001b[0m\n",
            "\u001b[0;31mNameError\u001b[0m: name 'lr_list' is not defined"
          ]
        }
      ]
    },
    {
      "cell_type": "code",
      "source": [
        "#  time epoch\n",
        "import time\n",
        "start = time.time()\n",
        "\n",
        "train_loader = torch.utils.data.DataLoader(train_dataset, batch_size=batch_size, shuffle=True, num_workers=4, pin_memory=True)\n",
        "strain(train_loader, model, loss_fn, optimizer, verbose=False)\n",
        "\n",
        "end = time.time()\n",
        "print(\"time: \",end - start)\n"
      ],
      "metadata": {
        "id": "8kjZ2lMGpwNS"
      },
      "execution_count": null,
      "outputs": []
    },
    {
      "cell_type": "code",
      "execution_count": null,
      "metadata": {
        "id": "kDBEk-l-Oxjn",
        "outputId": "87e787a1-eb1a-4a1d-b8f8-3700c7046476",
        "colab": {
          "base_uri": "https://localhost:8080/"
        }
      },
      "outputs": [
        {
          "output_type": "stream",
          "name": "stdout",
          "text": [
            "Epoch 1\n",
            "-------------------------------\n",
            "1.0000000000000026e-05\n",
            "loss: 0.749246  [    0/ 8329]\n",
            "loss: 0.674052  [  832/ 8329]\n",
            "loss: 0.635130  [ 1664/ 8329]\n",
            "loss: 0.595596  [ 2496/ 8329]\n",
            "loss: 0.531310  [ 3328/ 8329]\n",
            "loss: 0.497580  [ 4160/ 8329]\n",
            "loss: 0.409624  [ 4992/ 8329]\n",
            "loss: 0.416685  [ 5824/ 8329]\n",
            "loss: 0.362956  [ 6656/ 8329]\n",
            "loss: 0.427480  [ 7488/ 8329]\n",
            "Accuracy: 79.4%, Avg loss: 0.512599\n",
            "Epoch 2\n",
            "-------------------------------\n",
            "0.00012618572099651565\n",
            "loss: 0.378093  [    0/ 8329]\n",
            "loss: 0.365638  [  832/ 8329]\n",
            "loss: 0.401949  [ 1664/ 8329]\n",
            "loss: 0.373817  [ 2496/ 8329]\n",
            "loss: 0.444303  [ 3328/ 8329]\n",
            "loss: 0.468441  [ 4160/ 8329]\n",
            "loss: 0.390444  [ 4992/ 8329]\n",
            "loss: 0.479481  [ 5824/ 8329]\n",
            "loss: 0.421511  [ 6656/ 8329]\n",
            "loss: 0.459288  [ 7488/ 8329]\n",
            "Accuracy: 64.3%, Avg loss: 0.655220\n",
            "Epoch 3\n",
            "-------------------------------\n",
            "0.00042020097787099134\n",
            "loss: 0.377760  [    0/ 8329]\n",
            "loss: 0.422357  [  832/ 8329]\n",
            "loss: 0.414337  [ 1664/ 8329]\n",
            "loss: 0.359917  [ 2496/ 8329]\n",
            "loss: 0.517184  [ 3328/ 8329]\n",
            "loss: 0.379001  [ 4160/ 8329]\n",
            "loss: 0.454895  [ 4992/ 8329]\n",
            "loss: 0.419881  [ 5824/ 8329]\n",
            "loss: 0.446661  [ 6656/ 8329]\n",
            "loss: 0.442377  [ 7488/ 8329]\n",
            "Accuracy: 75.6%, Avg loss: 0.550177\n",
            "Epoch 4\n",
            "-------------------------------\n",
            "0.0007540240550519655\n",
            "loss: 0.420129  [    0/ 8329]\n",
            "loss: 0.336432  [  832/ 8329]\n",
            "loss: 0.412091  [ 1664/ 8329]\n",
            "loss: 0.414736  [ 2496/ 8329]\n",
            "loss: 0.405272  [ 3328/ 8329]\n",
            "loss: 0.386805  [ 4160/ 8329]\n",
            "loss: 0.385367  [ 4992/ 8329]\n",
            "loss: 0.454257  [ 5824/ 8329]\n",
            "loss: 0.420103  [ 6656/ 8329]\n"
          ]
        }
      ],
      "source": [
        "# @title wwwwwwwww\n",
        "import time\n",
        "start = time.time()\n",
        "lr_lst, loss_lst=[],[]\n",
        "loss_fn = nn.CrossEntropyLoss()\n",
        "\n",
        "# model = ResNet(Bottleneck, [3,3,3], num_classes=10, num_channels=3).to(device)\n",
        "batch_size = 64 # 4 512\n",
        "train_loader = torch.utils.data.DataLoader(train_data, batch_size=batch_size, shuffle=True, num_workers=4, pin_memory=True)\n",
        "test_loader = torch.utils.data.DataLoader(test_data, batch_size=batch_size, shuffle=False, num_workers=4, pin_memory=True)\n",
        "base_lr, max_lr = 1e-5, 1e-3 #0.5#\n",
        "end_lr, start_lr = 0.0001,0.1\n",
        "\n",
        "num_batches=int(np.ceil(len(train_data)/batch_size))\n",
        "# print(num_batches)\n",
        "epochs = 10 #5 20\n",
        "# (1e-5/1e-1)=gamma**(num_batches*epochs)\n",
        "# gamma = np.exp(np.log(1e-3/1e-1)/epochs) # for scheduler step every epoch\n",
        "gamma = np.exp(np.log(end_lr/start_lr)/(num_batches*epochs)) # for scheduler step every optimizer step\n",
        "# print(gamma)\n",
        "# optimizer = torch.optim.SGD(model.parameters(), lr = 1e-1, momentum=0.9)\n",
        "optimizer = torch.optim.AdamW(model.parameters(), lr=base_lr, betas=(0.9, 0.999), eps=1e-08, weight_decay=3e-6)\n",
        "\n",
        "div_factor = max_lr/base_lr\n",
        "# div_factor = 25\n",
        "# scheduler = torch.optim.lr_scheduler.OneCycleLR(optimizer, max_lr=max_lr, total_steps=num_iter, pct_start=0.45, anneal_strategy='cos', cycle_momentum=True, base_momentum=0.85, max_momentum=0.95, div_factor=div_factor, final_div_factor=10000.0, three_phase=True,)\n",
        "scheduler = torch.optim.lr_scheduler.OneCycleLR(optimizer, max_lr=max_lr, epochs=epochs, steps_per_epoch=num_batches, pct_start=0.45, anneal_strategy='cos', cycle_momentum=True, base_momentum=0.85, max_momentum=0.95, div_factor=div_factor, final_div_factor=10000.0, three_phase=True,)\n",
        "# optimizer = torch.optim.AdamW(model.parameters(), lr=start_lr, betas=(0.9, 0.999), eps=1e-08, weight_decay=3e-6)\n",
        "# scheduler = torch.optim.lr_scheduler.ExponentialLR(optimizer, gamma=gamma) # 0.75(20)-0.9(100)\n",
        "total_steps=num_batches*epochs\n",
        "# scheduler=schedulerme(optimizer,total_steps, \n",
        "#                       step_ckpt=[0., 0.4, 0.5, 0.9, 1.], \n",
        "#                       lr_ckpt=[base_lr, max_lr, max_lr, base_lr, base_lr*1e-4], \n",
        "#                       mm_ckpt=[0.95, 0.85, 0.85, 0.95, 0.95],\n",
        "#                       anneal=['cos','lin','cos','exp'])\n",
        "\n",
        "\n",
        "for t in range(epochs):\n",
        "    print(f\"Epoch {t+1}\\n-------------------------------\")\n",
        "    lr=optimizer.param_groups[0][\"lr\"]\n",
        "    # lr_lst.append(lr)\n",
        "    print(lr)\n",
        "    # train(train_loader, model, loss_fn, optimizer)\n",
        "    # lr_ls, loss_ls = strain(train_loader, model, loss_fn, optimizer, scheduler)\n",
        "    strain(train_loader, model, loss_fn, optimizer, scheduler)\n",
        "    test(test_loader, model, loss_fn)\n",
        "    # scheduler.step()\n",
        "    # lr_lst.append(lr_ls); loss_lst.append(loss_ls)\n",
        "print(\"Done!\")\n",
        "\n",
        "end = time.time()\n",
        "print(\"time: \",end - start)\n",
        "\n",
        "torch.save(model.state_dict(), \"model.pth\")\n",
        "\n",
        "# model = NeuralNetwork().to(device)\n",
        "# model.load_state_dict(torch.load(\"model.pth\"))"
      ]
    },
    {
      "cell_type": "code",
      "source": [
        "\n",
        "pth='/content/drive/MyDrive/frame/res152.pth'\n",
        "\n",
        "# torch.save(model.state_dict(), pth)\n",
        "# model.load_state_dict(torch.load(\"model.pth\"))\n"
      ],
      "metadata": {
        "id": "REiP7-nvhc4s"
      },
      "execution_count": null,
      "outputs": []
    },
    {
      "cell_type": "code",
      "source": [
        "test(test_loader, model, loss_fn)"
      ],
      "metadata": {
        "colab": {
          "base_uri": "https://localhost:8080/"
        },
        "id": "J2OyhFFOh5H2",
        "outputId": "5e35ae5b-9b8d-4be1-ab16-50030e5fce76"
      },
      "execution_count": null,
      "outputs": [
        {
          "output_type": "stream",
          "name": "stdout",
          "text": [
            "Accuracy: 61.0%, Avg loss: 2.049678\n"
          ]
        },
        {
          "output_type": "execute_result",
          "data": {
            "text/plain": [
              "0.6104120404638539"
            ]
          },
          "metadata": {},
          "execution_count": 7
        }
      ]
    }
  ]
}
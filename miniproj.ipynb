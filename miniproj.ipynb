{
  "cells": [
    {
      "cell_type": "markdown",
      "metadata": {
        "id": "view-in-github",
        "colab_type": "text"
      },
      "source": [
        "<a href=\"https://colab.research.google.com/github/eisbetterthanpi/pytorch/blob/main/miniproj.ipynb\" target=\"_parent\"><img src=\"https://colab.research.google.com/assets/colab-badge.svg\" alt=\"Open In Colab\"/></a>"
      ]
    },
    {
      "cell_type": "markdown",
      "metadata": {
        "id": "3TQjP7c5zMD8"
      },
      "source": [
        "##miniproj"
      ]
    },
    {
      "cell_type": "code",
      "execution_count": null,
      "metadata": {
        "id": "U9HjjsoPSTCx"
      },
      "outputs": [],
      "source": [
        "from google.colab import drive\n",
        "drive.mount('/content/drive')\n",
        "\n",
        "!unzip /content/drive/MyDrive/frame/trainnorm.zip -d /train\n",
        "!unzip /content/drive/MyDrive/frame/trainweap.zip -d /train\n",
        "\n",
        "!unzip /content/drive/MyDrive/frame/testnorm.zip -d /test\n",
        "!unzip /content/drive/MyDrive/frame/testweap.zip -d /test"
      ]
    },
    {
      "cell_type": "code",
      "execution_count": null,
      "metadata": {
        "id": "2kQGpnynh2oQ"
      },
      "outputs": [],
      "source": [
        "# 'https://drive.google.com/file/d/1-9AGfp6yJEpxWFFNlHoO4zEQmay_IiVQ/view?usp=sharing'\n",
        "# 'https://drive.google.com/file/d/1-D0y52EAHNCMUd57UIrDkWI1ah64YFyI/view?usp=sharing'\n",
        "# 'https://drive.google.com/file/d/1lXuUbBigytTraot3hlYQ4oqT8-JPmdRZ/view?usp=sharing'\n",
        "# 'https://drive.google.com/file/d/1q1qIgz81KfWGFFkGuWkzGYH_zz8IPMun/view?usp=sharing'\n",
        "\n",
        "!pip install --upgrade --no-cache-dir gdown\n",
        "\n",
        "!gdown 1-9AGfp6yJEpxWFFNlHoO4zEQmay_IiVQ -O testnorm.zip\n",
        "!gdown 1-D0y52EAHNCMUd57UIrDkWI1ah64YFyI -O testweap.zip\n",
        "!gdown 1lXuUbBigytTraot3hlYQ4oqT8-JPmdRZ -O trainnorm.zip\n",
        "!gdown 1q1qIgz81KfWGFFkGuWkzGYH_zz8IPMun -O trainweap.zip\n",
        "\n",
        "!unzip /content/trainnorm.zip -d /train\n",
        "!unzip /content/trainweap.zip -d /train\n",
        "!unzip /content/testnorm.zip -d /test\n",
        "!unzip /content/testweap.zip -d /test\n"
      ]
    },
    {
      "cell_type": "markdown",
      "metadata": {
        "id": "kUzaJJdFHpZq"
      },
      "source": [
        "###fast"
      ]
    },
    {
      "cell_type": "code",
      "execution_count": null,
      "metadata": {
        "cellView": "form",
        "id": "LxACli7GdyGq"
      },
      "outputs": [],
      "source": [
        "# @title data\n",
        "import torch\n",
        "import torch.nn as nn\n",
        "# import torch.nn.functional as F\n",
        "import torchvision\n",
        "# import torchvision.transforms as transforms\n",
        "from torchvision import datasets, transforms\n",
        "\n",
        "import matplotlib.pyplot as plt\n",
        "import numpy as np\n",
        "# https://github.com/python-engineer/pytorchTutorial/blob/master/14_cnn.py\n",
        "\n",
        "# dataset has PILImage images of range [0, 1], transform them to Tensors of normalized range [-1, 1]\n",
        "transform = transforms.Compose([transforms.ToTensor(), transforms.Normalize((0.5, 0.5, 0.5), (0.5, 0.5, 0.5))])\n",
        "# transform = transforms.Compose([transforms.ToTensor(), transforms.Resize((224,224)), transforms.Normalize((0.5, 0.5, 0.5), (0.5, 0.5, 0.5))])\n",
        "# transform = transforms.Compose(transforms.ToTensor())\n",
        "\n",
        "train_dir='/train/content/'\n",
        "test_dir='/test/content/'\n",
        "\n",
        "# train_data = datasets.ImageFolder(train_dir, transform=transform)\n",
        "# test_data = datasets.ImageFolder(test_dir, transform=transform)\n",
        "\n",
        "# batch_size = 64 # 4\n",
        "\n",
        "# # train_loader = torch.utils.data.DataLoader(train_data, batch_size=batch_size, shuffle=True)\n",
        "# # test_loader = torch.utils.data.DataLoader(test_data, batch_size=batch_size, shuffle=True)\n",
        "# train_loader = torch.utils.data.DataLoader(train_data, batch_size=batch_size, shuffle=True, num_workers=4, pin_memory=True)\n",
        "# test_loader = torch.utils.data.DataLoader(test_data, batch_size=batch_size, shuffle=False, num_workers=4, pin_memory=True)\n",
        "\n",
        "# def imshow(img):\n",
        "#     img = img / 2 + 0.5  # unnormalize\n",
        "#     npimg = img.numpy()\n",
        "#     plt.imshow(np.transpose(npimg, (1, 2, 0)))\n",
        "#     plt.show()\n",
        "\n",
        "# dataiter = iter(train_loader) # get some random training images\n",
        "# images, labels = next(dataiter)\n",
        "# # imshow(torchvision.utils.make_grid(images))"
      ]
    },
    {
      "cell_type": "code",
      "execution_count": null,
      "metadata": {
        "id": "7oYDr8kuA5Bl"
      },
      "outputs": [],
      "source": [
        "# @title pretrained\n",
        "import torch\n",
        "import torch.nn as nn\n",
        "import torch.nn.functional as F\n",
        "\n",
        "from torchvision import datasets, models, transforms\n",
        "# https://pytorch.org/vision/0.12/models.html#id10\n",
        "model = models.resnet152(pretrained=True) # 18 34 50 101 152\n",
        "num_ftrs = model.fc.in_features\n",
        "# model.fc = nn.Linear(num_ftrs, 2)\n",
        "model.fc = nn.Sequential(\n",
        "    nn.Linear(num_ftrs, 2),\n",
        "    nn.Softmax(),\n",
        "    )\n",
        "\n",
        "c=0\n",
        "for param in model.parameters():\n",
        "    # print(c, param.shape)\n",
        "    if c>=461: #101(312) 152(466)\n",
        "        param.requires_grad = True\n",
        "    else:\n",
        "        param.requires_grad = False\n",
        "    c+=1\n",
        "\n",
        "# for param in model.parameters():\n",
        "#     print(param.requires_grad,param.shape)\n",
        "\n",
        "device = torch.device('cuda' if torch.cuda.is_available() else 'cpu')\n",
        "model = model.to(device)\n",
        "# print(model)"
      ]
    },
    {
      "cell_type": "code",
      "execution_count": null,
      "metadata": {
        "colab": {
          "base_uri": "https://localhost:8080/"
        },
        "id": "vEZCFg5YSS9J",
        "outputId": "183953ea-2478-4ef9-8b6e-4285fb74aed6"
      },
      "outputs": [
        {
          "name": "stdout",
          "output_type": "stream",
          "text": [
            "torch.Size([64, 2])\n"
          ]
        },
        {
          "name": "stderr",
          "output_type": "stream",
          "text": [
            "/usr/local/lib/python3.9/dist-packages/torch/nn/modules/container.py:217: UserWarning: Implicit dimension choice for softmax has been deprecated. Change the call to include dim=X as an argument.\n",
            "  input = module(input)\n"
          ]
        }
      ],
      "source": [
        "X = torch.rand(64, 3, 32, 32, device=device)\n",
        "logits = model(X)\n",
        "print(logits.shape)\n",
        "# print(logits[0])\n",
        "# print(logits[0].argmax(1))\n",
        "pred_probab = nn.Softmax(dim=1)(logits)\n",
        "y_pred = pred_probab.argmax(1)\n",
        "# print(f\"Predicted class: {y_pred}\")\n"
      ]
    },
    {
      "cell_type": "code",
      "execution_count": null,
      "metadata": {
        "id": "fsealXK3OPQa"
      },
      "outputs": [],
      "source": [
        "# @title train test function\n",
        "\n",
        "scaler = torch.cuda.amp.GradScaler()\n",
        "# for data, label in data_iter:\n",
        "#    optimizer.zero_grad()\n",
        "#    # Casts operations to mixed precision\n",
        "#    with torch.cuda.amp.autocast():\n",
        "#       loss = model(data)\n",
        "#    scaler.scale(loss).backward()\n",
        "#    scaler.step(optimizer)\n",
        "#    scaler.update()\n",
        "\n",
        "# def strain(dataloader, model, loss_fn, optimizer):\n",
        "def strain(dataloader, model, loss_fn, optimizer, scheduler=None, verbose=True):\n",
        "    size = len(dataloader.dataset)\n",
        "    model.train()\n",
        "    lr_list, loss_list = [], []\n",
        "    for batch, (x, y) in enumerate(dataloader):\n",
        "        sx, sy = x.to(device), y.to(device)\n",
        "        optimizer.zero_grad()\n",
        "        \n",
        "        with torch.cuda.amp.autocast():\n",
        "            pred = model(sx)\n",
        "            loss = loss_fn(pred, sy)\n",
        "        scaler.scale(loss).backward()\n",
        "        scaler.step(optimizer)\n",
        "        scaler.update()\n",
        "        if scheduler is not None:\n",
        "            scheduler.step()\n",
        "\n",
        "        # lr_list.append(optimizer.param_groups[0][\"lr\"])\n",
        "        loss_list.append(loss.item())\n",
        "        # loss.backward()\n",
        "        # optimizer.step()\n",
        "        if (batch) % (size//(10* len(x))) == 0:\n",
        "            loss, current = loss.item(), batch * len(x)\n",
        "            if verbose: print(f\"loss: {loss:>7f}  [{current:>5d}/{size:>5d}]\")\n",
        "    return lr_list, loss_list\n",
        "\n",
        "# def train(dataloader, model, loss_fn, optimizer):\n",
        "def train(dataloader, model, loss_fn, optimizer, scheduler=None, verbose=True):\n",
        "    size = len(dataloader.dataset)\n",
        "    model.train()\n",
        "    lr_list, loss_list = [], []\n",
        "    for batch, (x, y) in enumerate(dataloader):\n",
        "    # for batch, ((x,y), labels) in enumerate(dataloader):\n",
        "        sx, sy = x.to(device), y.to(device)\n",
        "        # print(\"sx sy\",sx.shape,sy.shape)\n",
        "        pred = model(sx)\n",
        "        loss = loss_fn(pred, sy)\n",
        "        # loss = model.loss(sx,sy)\n",
        "        optimizer.zero_grad() # reset gradients of model parameters, to prevent double-counting\n",
        "        loss.backward() # Backpropagate gradients\n",
        "        optimizer.step() # adjust the parameters by the gradients\n",
        "        if scheduler is not None: scheduler.step()\n",
        "        if (batch) % (size//(10* len(x))) == 0:\n",
        "            loss, current = loss.item(), batch * len(x)\n",
        "            loss_list.append(loss)\n",
        "            if verbose: print(f\"loss: {loss:>7f}  [{current:>5d}/{size:>5d}]\")\n",
        "\n",
        "# def test(dataloader, model, loss_fn):\n",
        "def test(dataloader, model, loss_fn, verbose=True):\n",
        "    size = len(dataloader.dataset)\n",
        "    num_batches = len(dataloader)\n",
        "    model.eval()\n",
        "    test_loss, correct = 0, 0\n",
        "    with torch.no_grad():\n",
        "        for X, y in dataloader:\n",
        "            x, y = X.to(device), y.to(device)\n",
        "            pred = model(x)\n",
        "            loss = loss_fn(pred, y)\n",
        "            # predicted, actual = classes[pred[0].argmax(0)], classes[y]\n",
        "            test_loss += loss_fn(pred, y).item()\n",
        "            correct += (pred.argmax(1) == y).type(torch.float).sum().item()\n",
        "    test_loss /= num_batches\n",
        "    correct /= size\n",
        "    # if verbose: print(f\"Test Error: \\n Accuracy: {(100*correct):>0.1f}%, Avg loss: {test_loss:>8f} \\n\")\n",
        "    if verbose: print(f\"Accuracy: {(100*correct):>0.1f}%, Avg loss: {test_loss:>8f}\")\n",
        "    return correct"
      ]
    },
    {
      "cell_type": "code",
      "execution_count": null,
      "metadata": {
        "id": "8kjZ2lMGpwNS"
      },
      "outputs": [],
      "source": [
        "#  time epoch\n",
        "import time\n",
        "start = time.time()\n",
        "\n",
        "train_loader = torch.utils.data.DataLoader(train_dataset, batch_size=batch_size, shuffle=True, num_workers=4, pin_memory=True)\n",
        "strain(train_loader, model, loss_fn, optimizer, verbose=False)\n",
        "\n",
        "end = time.time()\n",
        "print(\"time: \",end - start)\n"
      ]
    },
    {
      "cell_type": "code",
      "execution_count": null,
      "metadata": {
        "colab": {
          "base_uri": "https://localhost:8080/"
        },
        "id": "kDBEk-l-Oxjn",
        "outputId": "ffd6029b-a466-4ff6-f09b-9b47032489d5"
      },
      "outputs": [
        {
          "output_type": "stream",
          "name": "stdout",
          "text": [
            "Epoch 1\n",
            "-------------------------------\n",
            "1.0000000000000026e-05\n",
            "loss: 0.723900  [    0/ 8329]\n",
            "loss: 0.689597  [  832/ 8329]\n",
            "loss: 0.659986  [ 1664/ 8329]\n",
            "loss: 0.611909  [ 2496/ 8329]\n",
            "loss: 0.611952  [ 3328/ 8329]\n",
            "loss: 0.527183  [ 4160/ 8329]\n",
            "loss: 0.628553  [ 4992/ 8329]\n",
            "loss: 0.518227  [ 5824/ 8329]\n",
            "loss: 0.514955  [ 6656/ 8329]\n",
            "loss: 0.460759  [ 7488/ 8329]\n",
            "Accuracy: 79.5%, Avg loss: 0.516755\n",
            "Epoch 2\n",
            "-------------------------------\n",
            "0.00036090434927230465\n",
            "loss: 0.510830  [    0/ 8329]\n",
            "loss: 0.546415  [  832/ 8329]\n",
            "loss: 0.450792  [ 1664/ 8329]\n",
            "loss: 0.461110  [ 2496/ 8329]\n",
            "loss: 0.484833  [ 3328/ 8329]\n",
            "loss: 0.513411  [ 4160/ 8329]\n",
            "loss: 0.464084  [ 4992/ 8329]\n",
            "loss: 0.470003  [ 5824/ 8329]\n",
            "loss: 0.496978  [ 6656/ 8329]\n",
            "loss: 0.462200  [ 7488/ 8329]\n",
            "Accuracy: 80.3%, Avg loss: 0.500666\n",
            "Epoch 3\n",
            "-------------------------------\n",
            "0.0012488898220548124\n",
            "loss: 0.514642  [    0/ 8329]\n",
            "loss: 0.464156  [  832/ 8329]\n",
            "loss: 0.458837  [ 1664/ 8329]\n",
            "loss: 0.423906  [ 2496/ 8329]\n",
            "loss: 0.460225  [ 3328/ 8329]\n",
            "loss: 0.466318  [ 4160/ 8329]\n",
            "loss: 0.420719  [ 4992/ 8329]\n",
            "loss: 0.433536  [ 5824/ 8329]\n",
            "loss: 0.392569  [ 6656/ 8329]\n",
            "loss: 0.394122  [ 7488/ 8329]\n",
            "Accuracy: 78.3%, Avg loss: 0.516842\n",
            "Epoch 4\n",
            "-------------------------------\n",
            "0.0022571029541468453\n",
            "loss: 0.483809  [    0/ 8329]\n",
            "loss: 0.419474  [  832/ 8329]\n",
            "loss: 0.560988  [ 1664/ 8329]\n",
            "loss: 0.441842  [ 2496/ 8329]\n",
            "loss: 0.390767  [ 3328/ 8329]\n",
            "loss: 0.456480  [ 4160/ 8329]\n",
            "loss: 0.448693  [ 4992/ 8329]\n",
            "loss: 0.389682  [ 5824/ 8329]\n",
            "loss: 0.498579  [ 6656/ 8329]\n",
            "loss: 0.377621  [ 7488/ 8329]\n",
            "Accuracy: 82.4%, Avg loss: 0.485265\n",
            "Epoch 5\n",
            "-------------------------------\n",
            "0.002912250938799845\n",
            "loss: 0.393718  [    0/ 8329]\n",
            "loss: 0.413203  [  832/ 8329]\n",
            "loss: 0.440830  [ 1664/ 8329]\n",
            "loss: 0.383863  [ 2496/ 8329]\n",
            "loss: 0.468468  [ 3328/ 8329]\n",
            "loss: 0.401441  [ 4160/ 8329]\n",
            "loss: 0.454318  [ 4992/ 8329]\n",
            "loss: 0.402590  [ 5824/ 8329]\n",
            "loss: 0.467979  [ 6656/ 8329]\n",
            "loss: 0.423000  [ 7488/ 8329]\n",
            "Accuracy: 81.1%, Avg loss: 0.494562\n",
            "Epoch 6\n",
            "-------------------------------\n",
            "0.002906782903463012\n",
            "loss: 0.452783  [    0/ 8329]\n",
            "loss: 0.466965  [  832/ 8329]\n",
            "loss: 0.528957  [ 1664/ 8329]\n",
            "loss: 0.355057  [ 2496/ 8329]\n",
            "loss: 0.407655  [ 3328/ 8329]\n",
            "loss: 0.412640  [ 4160/ 8329]\n",
            "loss: 0.456836  [ 4992/ 8329]\n",
            "loss: 0.456092  [ 5824/ 8329]\n",
            "loss: 0.393362  [ 6656/ 8329]\n",
            "loss: 0.452248  [ 7488/ 8329]\n",
            "Accuracy: 78.9%, Avg loss: 0.519387\n",
            "Epoch 7\n",
            "-------------------------------\n",
            "0.002243265747643596\n",
            "loss: 0.399669  [    0/ 8329]\n",
            "loss: 0.398034  [  832/ 8329]\n",
            "loss: 0.366963  [ 1664/ 8329]\n",
            "loss: 0.397437  [ 2496/ 8329]\n",
            "loss: 0.441076  [ 3328/ 8329]\n",
            "loss: 0.371126  [ 4160/ 8329]\n",
            "loss: 0.423171  [ 4992/ 8329]\n",
            "loss: 0.409091  [ 5824/ 8329]\n",
            "loss: 0.419630  [ 6656/ 8329]\n",
            "loss: 0.443274  [ 7488/ 8329]\n",
            "Accuracy: 81.2%, Avg loss: 0.495842\n",
            "Epoch 8\n",
            "-------------------------------\n",
            "0.0012331791446443703\n",
            "loss: 0.362435  [    0/ 8329]\n",
            "loss: 0.445405  [  832/ 8329]\n",
            "loss: 0.393516  [ 1664/ 8329]\n",
            "loss: 0.352536  [ 2496/ 8329]\n",
            "loss: 0.356151  [ 3328/ 8329]\n",
            "loss: 0.365083  [ 4160/ 8329]\n",
            "loss: 0.374404  [ 4992/ 8329]\n",
            "loss: 0.349781  [ 5824/ 8329]\n",
            "loss: 0.392414  [ 6656/ 8329]\n",
            "loss: 0.349011  [ 7488/ 8329]\n",
            "Accuracy: 80.7%, Avg loss: 0.500871\n",
            "Epoch 9\n",
            "-------------------------------\n",
            "0.0003506953782567942\n",
            "loss: 0.387139  [    0/ 8329]\n",
            "loss: 0.389652  [  832/ 8329]\n",
            "loss: 0.371305  [ 1664/ 8329]\n",
            "loss: 0.401269  [ 2496/ 8329]\n",
            "loss: 0.426853  [ 3328/ 8329]\n",
            "loss: 0.391971  [ 4160/ 8329]\n",
            "loss: 0.395149  [ 4992/ 8329]\n",
            "loss: 0.421330  [ 5824/ 8329]\n",
            "loss: 0.394968  [ 6656/ 8329]\n",
            "loss: 0.364436  [ 7488/ 8329]\n",
            "Accuracy: 79.7%, Avg loss: 0.509188\n",
            "Epoch 10\n",
            "-------------------------------\n",
            "9.994337262245449e-06\n",
            "loss: 0.373754  [    0/ 8329]\n",
            "loss: 0.405041  [  832/ 8329]\n",
            "loss: 0.330947  [ 1664/ 8329]\n",
            "loss: 0.374906  [ 2496/ 8329]\n",
            "loss: 0.375648  [ 3328/ 8329]\n",
            "loss: 0.377316  [ 4160/ 8329]\n",
            "loss: 0.371688  [ 4992/ 8329]\n",
            "loss: 0.397123  [ 5824/ 8329]\n",
            "loss: 0.345998  [ 6656/ 8329]\n",
            "loss: 0.370602  [ 7488/ 8329]\n",
            "Accuracy: 80.1%, Avg loss: 0.505711\n",
            "Done!\n",
            "time:  3274.7306644916534\n"
          ]
        }
      ],
      "source": [
        "# @title wwwwwwwww\n",
        "import time\n",
        "start = time.time()\n",
        "lr_lst, loss_lst=[],[]\n",
        "loss_fn = nn.CrossEntropyLoss()\n",
        "\n",
        "# model = ResNet(Bottleneck, [3,3,3], num_classes=10, num_channels=3).to(device)\n",
        "batch_size = 64 #64 # 4 512\n",
        "\n",
        "train_data = datasets.ImageFolder(train_dir, transform=transform)\n",
        "test_data = datasets.ImageFolder(test_dir, transform=transform)\n",
        "train_loader = torch.utils.data.DataLoader(train_data, batch_size=batch_size, shuffle=True, num_workers=4, pin_memory=True)\n",
        "test_loader = torch.utils.data.DataLoader(test_data, batch_size=batch_size, shuffle=False, num_workers=4, pin_memory=True)\n",
        "num_batches=int(np.ceil(len(train_data)/batch_size))\n",
        "train_data=0;test_data=0\n",
        "\n",
        "base_lr, max_lr = 1e-5, 1e-3 # 1e-5, 1e-3 #0.5#\n",
        "# base_lr, max_lr = 3e-6, 3e-4\n",
        "end_lr, start_lr = 1e-5, 1e-3 # 0.0001,0.1\n",
        "\n",
        "# print(num_batches)\n",
        "epochs = 5 #5 20\n",
        "# (1e-5/1e-1)=gamma**(num_batches*epochs)\n",
        "# gamma = np.exp(np.log(1e-3/1e-1)/epochs) # for scheduler step every epoch\n",
        "gamma = np.exp(np.log(end_lr/start_lr)/(num_batches*epochs)) # for scheduler step every optimizer step\n",
        "# print(gamma)\n",
        "# optimizer = torch.optim.SGD(model.parameters(), lr = start_lr, momentum=0.9)\n",
        "optimizer = torch.optim.AdamW(model.parameters(), lr=base_lr, betas=(0.9, 0.999), eps=1e-08, weight_decay=3e-6)\n",
        "\n",
        "div_factor = max_lr/base_lr\n",
        "# div_factor = 25\n",
        "# scheduler = torch.optim.lr_scheduler.OneCycleLR(optimizer, max_lr=max_lr, total_steps=num_iter, pct_start=0.45, anneal_strategy='cos', cycle_momentum=True, base_momentum=0.85, max_momentum=0.95, div_factor=div_factor, final_div_factor=10000.0, three_phase=True,)\n",
        "scheduler = torch.optim.lr_scheduler.OneCycleLR(optimizer, max_lr=max_lr, epochs=epochs, steps_per_epoch=num_batches, pct_start=0.45, anneal_strategy='cos', cycle_momentum=True, base_momentum=0.85, max_momentum=0.95, div_factor=div_factor, final_div_factor=10000.0, three_phase=True,)\n",
        "# optimizer = torch.optim.AdamW(model.parameters(), lr=start_lr, betas=(0.9, 0.999), eps=1e-08, weight_decay=3e-6)\n",
        "# scheduler = torch.optim.lr_scheduler.ExponentialLR(optimizer, gamma=gamma) # 0.75(20)-0.9(100)\n",
        "total_steps=num_batches*epochs\n",
        "\n",
        "\n",
        "for t in range(epochs):\n",
        "    print(f\"Epoch {t+1}\\n-------------------------------\")\n",
        "    lr=optimizer.param_groups[0][\"lr\"]\n",
        "    # lr_lst.append(lr)\n",
        "    print(lr)\n",
        "    # train(train_loader, model, loss_fn, optimizer)\n",
        "    lr_ls, loss_ls = strain(train_loader, model, loss_fn, optimizer, scheduler)\n",
        "    # strain(train_loader, model, loss_fn, optimizer, scheduler)\n",
        "    test(test_loader, model, loss_fn)\n",
        "    # scheduler.step()\n",
        "    # lr_lst.append(lr_ls)\n",
        "    loss_lst.extend(loss_ls)\n",
        "print(\"Done!\")\n",
        "\n",
        "end = time.time()\n",
        "print(\"time: \",end - start)\n",
        "\n",
        "torch.save(model.state_dict(), \"model.pth\")\n",
        "\n",
        "# model = NeuralNetwork().to(device)\n",
        "# model.load_state_dict(torch.load(\"model.pth\"))"
      ]
    },
    {
      "cell_type": "code",
      "execution_count": null,
      "metadata": {
        "id": "REiP7-nvhc4s"
      },
      "outputs": [],
      "source": [
        "pth='/content/drive/MyDrive/frame/res152.pth'\n",
        "\n",
        "# torch.save(model.state_dict(), pth)\n",
        "# model.load_state_dict(torch.load(\"model.pth\"))\n"
      ]
    },
    {
      "cell_type": "code",
      "execution_count": null,
      "metadata": {
        "colab": {
          "base_uri": "https://localhost:8080/",
          "height": 430
        },
        "id": "WUDgi0PQpSto",
        "outputId": "e3e18afd-a903-4ed2-cbe2-1908dfe95266"
      },
      "outputs": [
        {
          "output_type": "display_data",
          "data": {
            "text/plain": [
              "<Figure size 640x480 with 1 Axes>"
            ],
            "image/png": "[encoded data removed]"
          },
          "metadata": {}
        }
      ],
      "source": [
        "import matplotlib.pyplot as plt\n",
        "plt.plot(loss_lst)\n",
        "# plt.plot(lr_list[:-40], loss_list[:-40])\n",
        "# plt.xscale('log')\n",
        "plt.show()\n",
        "# plt.close()\n"
      ]
    },
    {
      "cell_type": "code",
      "execution_count": null,
      "metadata": {
        "colab": {
          "base_uri": "https://localhost:8080/"
        },
        "id": "J2OyhFFOh5H2",
        "outputId": "657e114f-f3d7-4872-e6d8-2a2cf0278924"
      },
      "outputs": [
        {
          "output_type": "stream",
          "name": "stdout",
          "text": [
            "Accuracy: 80.1%, Avg loss: 0.505711\n"
          ]
        },
        {
          "output_type": "execute_result",
          "data": {
            "text/plain": [
              "0.8008882309400445"
            ]
          },
          "metadata": {},
          "execution_count": 10
        }
      ],
      "source": [
        "test(test_loader, model, loss_fn)"
      ]
    },
    {
      "cell_type": "markdown",
      "source": [
        "####lr"
      ],
      "metadata": {
        "id": "h2mEx6aRxYmv"
      }
    },
    {
      "cell_type": "code",
      "source": [
        "# @title pretrained\n",
        "import torch\n",
        "import torch.nn as nn\n",
        "import torch.nn.functional as F\n",
        "\n",
        "from torchvision import datasets, models, transforms\n",
        "# https://pytorch.org/vision/0.12/models.html#id10\n",
        "model = models.resnet152(pretrained=True) # 18 34 50 101 152\n",
        "num_ftrs = model.fc.in_features\n",
        "# model.fc = nn.Linear(num_ftrs, 2)\n",
        "model.fc = nn.Sequential(\n",
        "    nn.Linear(num_ftrs, 2),\n",
        "    nn.Softmax(),\n",
        "    )\n",
        "\n",
        "c=0\n",
        "for param in model.parameters():\n",
        "    # print(c, param.shape)\n",
        "    if c>=461: #101(312) 152(466)\n",
        "        param.requires_grad = True\n",
        "    else:\n",
        "        param.requires_grad = False\n",
        "    c+=1\n",
        "\n",
        "model = model.to(device)\n",
        "\n",
        "\n",
        "for lr in [1e-3,3e-4,1e-4,3e-5,1e-5]:\n",
        "    \n"
      ],
      "metadata": {
        "id": "n2ibN-Utxawf"
      },
      "execution_count": null,
      "outputs": []
    }
  ],
  "metadata": {
    "accelerator": "GPU",
    "colab": {
      "provenance": [],
      "mount_file_id": "1BT6i4s-STshUDJUAFdIovUNFo8FWBeNm",
      "authorship_tag": "ABX9TyMDgmK37D1OK9X+pmfe6Iaw",
      "include_colab_link": true
    },
    "gpuClass": "standard",
    "kernelspec": {
      "display_name": "Python 3",
      "name": "python3"
    },
    "language_info": {
      "name": "python"
    }
  },
  "nbformat": 4,
  "nbformat_minor": 0
}
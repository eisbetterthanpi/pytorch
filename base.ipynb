{
  "nbformat": 4,
  "nbformat_minor": 0,
  "metadata": {
    "colab": {
      "name": "base.ipynb",
      "provenance": [],
      "collapsed_sections": [],
      "authorship_tag": "ABX9TyM42P/sDIlZbUPk4dRHd4oU",
      "include_colab_link": true
    },
    "kernelspec": {
      "name": "python3",
      "display_name": "Python 3"
    },
    "language_info": {
      "name": "python"
    }
  },
  "cells": [
    {
      "cell_type": "markdown",
      "metadata": {
        "id": "view-in-github",
        "colab_type": "text"
      },
      "source": [
        "<a href=\"https://colab.research.google.com/github/eisbetterthanpi/python/blob/master/base.ipynb\" target=\"_parent\"><img src=\"https://colab.research.google.com/assets/colab-badge.svg\" alt=\"Open In Colab\"/></a>"
      ]
    },
    {
      "cell_type": "code",
      "execution_count": null,
      "metadata": {
        "id": "rG3xjMTtLmYN"
      },
      "outputs": [],
      "source": [
        "import torch\n",
        "from torch import nn\n",
        "from torch.utils.data import DataLoader\n",
        "from torchvision import datasets\n",
        "from torchvision.transforms import ToTensor, Lambda, Compose\n",
        "import matplotlib.pyplot as plt\n",
        "# https://pytorch.org/tutorials/beginner/basics/quickstart_tutorial.html\n",
        "\n",
        "training_data = datasets.FashionMNIST(root=\"data\", train=True, download=True,transform=ToTensor(),)\n",
        "test_data = datasets.FashionMNIST(root=\"data\", train=False, download=True, transform=ToTensor(),)\n",
        "# print(training_data)\n",
        "\n",
        "batch_size = 64\n",
        "train_dataloader = DataLoader(training_data, batch_size=batch_size)\n",
        "test_dataloader = DataLoader(test_data, batch_size=batch_size)\n",
        "# test_dataloader: #image, label\n"
      ]
    },
    {
      "cell_type": "code",
      "source": [
        "\n",
        "device = \"cuda\" if torch.cuda.is_available() else \"cpu\"\n",
        "print(f\"Using {device} device\")\n",
        "# https://pytorch.org/tutorials/beginner/basics/buildmodel_tutorial.html\n",
        "class NeuralNetwork(nn.Module):\n",
        "    def __init__(self):\n",
        "        super(NeuralNetwork, self).__init__()\n",
        "        self.flatten = nn.Flatten()\n",
        "        self.linear_relu_stack = nn.Sequential(\n",
        "            nn.Linear(28*28, 512), #apply linear transformation\n",
        "            nn.ReLU(),\n",
        "            nn.Linear(512, 512),\n",
        "            nn.ReLU(),\n",
        "            nn.Linear(512, 10)\n",
        "        )\n",
        "\n",
        "    def forward(self, x):\n",
        "        x = self.flatten(x)\n",
        "        logits = self.linear_relu_stack(x)\n",
        "        return logits\n",
        "# softmax = nn.Softmax(dim=1)\n",
        "# pred_probab = softmax(logits)\n",
        "model = NeuralNetwork().to(device) # create an instance and move it to device (cache?)\n",
        "print(model)"
      ],
      "metadata": {
        "colab": {
          "base_uri": "https://localhost:8080/"
        },
        "id": "RGYE1gWOMeuU",
        "outputId": "c73976bd-ab07-47f6-ed6b-8b239b560ce9"
      },
      "execution_count": null,
      "outputs": [
        {
          "output_type": "stream",
          "name": "stdout",
          "text": [
            "Using cpu device\n",
            "NeuralNetwork(\n",
            "  (flatten): Flatten(start_dim=1, end_dim=-1)\n",
            "  (linear_relu_stack): Sequential(\n",
            "    (0): Linear(in_features=784, out_features=512, bias=True)\n",
            "    (1): ReLU()\n",
            "    (2): Linear(in_features=512, out_features=512, bias=True)\n",
            "    (3): ReLU()\n",
            "    (4): Linear(in_features=512, out_features=10, bias=True)\n",
            "  )\n",
            ")\n"
          ]
        }
      ]
    },
    {
      "cell_type": "code",
      "source": [
        "X = torch.rand(1, 28, 28, device=device)\n",
        "logits = model(X)\n",
        "pred_probab = nn.Softmax(dim=1)(logits)\n",
        "y_pred = pred_probab.argmax(1)\n",
        "print(f\"Predicted class: {y_pred}\")"
      ],
      "metadata": {
        "id": "e6f8dWWjhNA6"
      },
      "execution_count": null,
      "outputs": []
    },
    {
      "cell_type": "code",
      "source": [
        "loss_fn = nn.CrossEntropyLoss()\n",
        "optimizer = torch.optim.SGD(model.parameters(), lr=1e-3)"
      ],
      "metadata": {
        "id": "hnYs0IMMONfb"
      },
      "execution_count": null,
      "outputs": []
    },
    {
      "cell_type": "code",
      "source": [
        "def train(dataloader, model, loss_fn, optimizer):\n",
        "    size = len(dataloader.dataset)\n",
        "    model.train()\n",
        "    for batch, (X, y) in enumerate(dataloader):\n",
        "        X, y = X.to(device), y.to(device)\n",
        "        \n",
        "        pred = model(X) # Compute prediction error\n",
        "        loss = loss_fn(pred, y)\n",
        "       \n",
        "        optimizer.zero_grad() # Backpropagation\n",
        "        loss.backward()\n",
        "        optimizer.step()\n",
        "\n",
        "        if batch % 100 == 0:\n",
        "            loss, current = loss.item(), batch * len(X)\n",
        "            print(f\"loss: {loss:>7f}  [{current:>5d}/{size:>5d}]\")\n",
        "\n",
        "def test(dataloader, model, loss_fn):\n",
        "    size = len(dataloader.dataset)\n",
        "    num_batches = len(dataloader)\n",
        "    model.eval()\n",
        "    test_loss, correct = 0, 0\n",
        "    with torch.no_grad():\n",
        "        for X, y in dataloader:\n",
        "            X, y = X.to(device), y.to(device)\n",
        "            pred = model(X)\n",
        "            test_loss += loss_fn(pred, y).item()\n",
        "            correct += (pred.argmax(1) == y).type(torch.float).sum().item()\n",
        "    test_loss /= num_batches\n",
        "    correct /= size\n",
        "    print(f\"Test Error: \\n Accuracy: {(100*correct):>0.1f}%, Avg loss: {test_loss:>8f} \\n\")\n",
        "\n"
      ],
      "metadata": {
        "id": "fsealXK3OPQa"
      },
      "execution_count": null,
      "outputs": []
    },
    {
      "cell_type": "code",
      "source": [
        "\n",
        "epochs = 5\n",
        "for t in range(epochs):\n",
        "    print(f\"Epoch {t+1}\\n-------------------------------\")\n",
        "    train(train_dataloader, model, loss_fn, optimizer)\n",
        "    test(test_dataloader, model, loss_fn)\n",
        "print(\"Done!\")\n",
        "torch.save(model.state_dict(), \"model.pth\")\n",
        "print(\"Saved PyTorch Model State to model.pth\")\n",
        "model = NeuralNetwork()\n",
        "model.load_state_dict(torch.load(\"model.pth\"))\n"
      ],
      "metadata": {
        "colab": {
          "base_uri": "https://localhost:8080/"
        },
        "id": "kDBEk-l-Oxjn",
        "outputId": "28970b5b-fea5-4698-e674-970030694cfc"
      },
      "execution_count": null,
      "outputs": [
        {
          "output_type": "stream",
          "name": "stdout",
          "text": [
            "Epoch 1\n",
            "-------------------------------\n",
            "loss: 2.311459  [    0/60000]\n",
            "loss: 2.296823  [ 6400/60000]\n",
            "loss: 2.273655  [12800/60000]\n",
            "loss: 2.262783  [19200/60000]\n",
            "loss: 2.259431  [25600/60000]\n",
            "loss: 2.205094  [32000/60000]\n",
            "loss: 2.227489  [38400/60000]\n",
            "loss: 2.186712  [44800/60000]\n",
            "loss: 2.183921  [51200/60000]\n",
            "loss: 2.149462  [57600/60000]\n",
            "Test Error: \n",
            " Accuracy: 35.2%, Avg loss: 2.145549 \n",
            "\n",
            "Epoch 2\n",
            "-------------------------------\n",
            "loss: 2.161096  [    0/60000]\n",
            "loss: 2.146693  [ 6400/60000]\n",
            "loss: 2.081351  [12800/60000]\n",
            "loss: 2.096585  [19200/60000]\n",
            "loss: 2.063697  [25600/60000]\n",
            "loss: 1.982107  [32000/60000]\n",
            "loss: 2.018518  [38400/60000]\n",
            "loss: 1.936861  [44800/60000]\n",
            "loss: 1.938164  [51200/60000]\n",
            "loss: 1.867279  [57600/60000]\n",
            "Test Error: \n",
            " Accuracy: 58.3%, Avg loss: 1.863347 \n",
            "\n",
            "Epoch 3\n",
            "-------------------------------\n",
            "loss: 1.901538  [    0/60000]\n",
            "loss: 1.864329  [ 6400/60000]\n",
            "loss: 1.739609  [12800/60000]\n",
            "loss: 1.782246  [19200/60000]\n",
            "loss: 1.694235  [25600/60000]\n",
            "loss: 1.631854  [32000/60000]\n",
            "loss: 1.656676  [38400/60000]\n",
            "loss: 1.561820  [44800/60000]\n",
            "loss: 1.585452  [51200/60000]\n",
            "loss: 1.482483  [57600/60000]\n",
            "Test Error: \n",
            " Accuracy: 62.1%, Avg loss: 1.499405 \n",
            "\n",
            "Epoch 4\n",
            "-------------------------------\n",
            "loss: 1.566984  [    0/60000]\n",
            "loss: 1.531013  [ 6400/60000]\n",
            "loss: 1.378470  [12800/60000]\n",
            "loss: 1.455310  [19200/60000]\n",
            "loss: 1.352112  [25600/60000]\n",
            "loss: 1.332135  [32000/60000]\n",
            "loss: 1.352218  [38400/60000]\n",
            "loss: 1.283076  [44800/60000]\n",
            "loss: 1.318182  [51200/60000]\n",
            "loss: 1.219814  [57600/60000]\n",
            "Test Error: \n",
            " Accuracy: 63.3%, Avg loss: 1.244005 \n",
            "\n",
            "Epoch 5\n",
            "-------------------------------\n",
            "loss: 1.317335  [    0/60000]\n",
            "loss: 1.302040  [ 6400/60000]\n",
            "loss: 1.134079  [12800/60000]\n",
            "loss: 1.244731  [19200/60000]\n",
            "loss: 1.127648  [25600/60000]\n",
            "loss: 1.137726  [32000/60000]\n",
            "loss: 1.165593  [38400/60000]\n",
            "loss: 1.109981  [44800/60000]\n",
            "loss: 1.149228  [51200/60000]\n",
            "loss: 1.066606  [57600/60000]\n",
            "Test Error: \n",
            " Accuracy: 64.7%, Avg loss: 1.084159 \n",
            "\n",
            "Done!\n",
            "Saved PyTorch Model State to model.pth\n"
          ]
        },
        {
          "output_type": "execute_result",
          "data": {
            "text/plain": [
              "<All keys matched successfully>"
            ]
          },
          "metadata": {},
          "execution_count": 16
        }
      ]
    },
    {
      "cell_type": "code",
      "source": [
        "classes = [\"T-shirt/top\",\"Trouser\",\"Pullover\",\"Dress\",\"Coat\",\"Sandal\",\"Shirt\",\"Sneaker\",\"Bag\",\"Ankle boot\",]\n",
        "\n",
        "model.eval()\n",
        "\n",
        "import random\n",
        "n=random.randint(0,1000)\n",
        "print(n)\n",
        "x, y = test_data[n][0], test_data[n][1]\n",
        "with torch.no_grad():\n",
        "    pred = model(x)\n",
        "    predicted, actual = classes[pred[0].argmax(0)], classes[y]\n",
        "    print(f'Predicted: \"{predicted}\", Actual: \"{actual}\"')\n",
        "\n",
        "\n"
      ],
      "metadata": {
        "colab": {
          "base_uri": "https://localhost:8080/"
        },
        "id": "PoDyJMwUO4gX",
        "outputId": "92b4ed38-125a-4a8d-8571-ccd06a0e5514"
      },
      "execution_count": null,
      "outputs": [
        {
          "output_type": "stream",
          "name": "stdout",
          "text": [
            "NeuralNetwork(\n",
            "  (flatten): Flatten(start_dim=1, end_dim=-1)\n",
            "  (linear_relu_stack): Sequential(\n",
            "    (0): Linear(in_features=784, out_features=512, bias=True)\n",
            "    (1): ReLU()\n",
            "    (2): Linear(in_features=512, out_features=512, bias=True)\n",
            "    (3): ReLU()\n",
            "    (4): Linear(in_features=512, out_features=10, bias=True)\n",
            "  )\n",
            ")\n",
            "471\n",
            "Predicted: \"Coat\", Actual: \"Coat\"\n"
          ]
        }
      ]
    }
  ]
}

{
  "nbformat": 4,
  "nbformat_minor": 0,
  "metadata": {
    "colab": {
      "name": "vae.ipynb",
      "provenance": [],
      "collapsed_sections": [],
      "authorship_tag": "ABX9TyPVliozikekH6IJ0J0PnFP0",
      "include_colab_link": true
    },
    "kernelspec": {
      "name": "python3",
      "display_name": "Python 3"
    },
    "language_info": {
      "name": "python"
    }
  },
  "cells": [
    {
      "cell_type": "markdown",
      "metadata": {
        "id": "view-in-github",
        "colab_type": "text"
      },
      "source": [
        "<a href=\"https://colab.research.google.com/github/eisbetterthanpi/python/blob/master/vae.ipynb\" target=\"_parent\"><img src=\"https://colab.research.google.com/assets/colab-badge.svg\" alt=\"Open In Colab\"/></a>"
      ]
    },
    {
      "cell_type": "code",
      "execution_count": null,
      "metadata": {
        "colab": {
          "base_uri": "https://localhost:8080/"
        },
        "id": "tWm1I6g6-3OQ",
        "outputId": "80109b03-b330-4b88-fab7-73173f3d951c"
      },
      "outputs": [
        {
          "output_type": "stream",
          "name": "stdout",
          "text": [
            "Epoch[1/3], Step [1000/15000], Reconst Loss: 479.6361, KL Div: 55.0972\n",
            "Epoch[1/3], Step [2000/15000], Reconst Loss: 443.0803, KL Div: 87.1898\n",
            "Epoch[1/3], Step [3000/15000], Reconst Loss: 428.8863, KL Div: 98.8944\n",
            "Epoch[1/3], Step [4000/15000], Reconst Loss: 281.2403, KL Div: 88.6129\n",
            "Epoch[1/3], Step [5000/15000], Reconst Loss: 401.2626, KL Div: 94.2985\n",
            "Epoch[1/3], Step [6000/15000], Reconst Loss: 342.0679, KL Div: 77.6048\n",
            "Epoch[1/3], Step [7000/15000], Reconst Loss: 445.0544, KL Div: 91.4413\n",
            "Epoch[1/3], Step [8000/15000], Reconst Loss: 518.7750, KL Div: 98.8455\n",
            "Epoch[1/3], Step [9000/15000], Reconst Loss: 495.2442, KL Div: 102.8892\n",
            "Epoch[1/3], Step [10000/15000], Reconst Loss: 449.6017, KL Div: 126.2344\n",
            "Epoch[1/3], Step [11000/15000], Reconst Loss: 380.2337, KL Div: 105.6097\n",
            "Epoch[1/3], Step [12000/15000], Reconst Loss: 411.7856, KL Div: 110.5115\n",
            "Epoch[1/3], Step [13000/15000], Reconst Loss: 321.1584, KL Div: 93.7259\n",
            "Epoch[1/3], Step [14000/15000], Reconst Loss: 401.1944, KL Div: 86.8681\n",
            "Epoch[1/3], Step [15000/15000], Reconst Loss: 326.0205, KL Div: 94.6029\n",
            "Epoch[2/3], Step [1000/15000], Reconst Loss: 346.4345, KL Div: 91.5041\n",
            "Epoch[2/3], Step [2000/15000], Reconst Loss: 385.4913, KL Div: 100.0894\n",
            "Epoch[2/3], Step [3000/15000], Reconst Loss: 254.0456, KL Div: 88.3025\n",
            "Epoch[2/3], Step [4000/15000], Reconst Loss: 360.9292, KL Div: 97.0430\n",
            "Epoch[2/3], Step [5000/15000], Reconst Loss: 404.5828, KL Div: 92.0100\n",
            "Epoch[2/3], Step [6000/15000], Reconst Loss: 472.0749, KL Div: 109.8026\n",
            "Epoch[2/3], Step [7000/15000], Reconst Loss: 400.8920, KL Div: 98.4674\n",
            "Epoch[2/3], Step [8000/15000], Reconst Loss: 413.9110, KL Div: 110.5161\n",
            "Epoch[2/3], Step [9000/15000], Reconst Loss: 361.3886, KL Div: 93.6933\n",
            "Epoch[2/3], Step [10000/15000], Reconst Loss: 310.4369, KL Div: 88.7983\n",
            "Epoch[2/3], Step [11000/15000], Reconst Loss: 278.6064, KL Div: 91.1091\n",
            "Epoch[2/3], Step [12000/15000], Reconst Loss: 447.5559, KL Div: 100.6752\n",
            "Epoch[2/3], Step [13000/15000], Reconst Loss: 375.8902, KL Div: 106.5165\n",
            "Epoch[2/3], Step [14000/15000], Reconst Loss: 294.5237, KL Div: 110.1355\n",
            "Epoch[2/3], Step [15000/15000], Reconst Loss: 475.9363, KL Div: 94.3148\n",
            "Epoch[3/3], Step [1000/15000], Reconst Loss: 301.4856, KL Div: 92.5307\n",
            "Epoch[3/3], Step [2000/15000], Reconst Loss: 386.6831, KL Div: 104.4722\n",
            "Epoch[3/3], Step [3000/15000], Reconst Loss: 334.2646, KL Div: 82.2295\n",
            "Epoch[3/3], Step [4000/15000], Reconst Loss: 418.9167, KL Div: 100.7012\n",
            "Epoch[3/3], Step [5000/15000], Reconst Loss: 336.6317, KL Div: 101.4610\n",
            "Epoch[3/3], Step [6000/15000], Reconst Loss: 246.4887, KL Div: 82.2754\n",
            "Epoch[3/3], Step [7000/15000], Reconst Loss: 323.5011, KL Div: 100.1219\n",
            "Epoch[3/3], Step [8000/15000], Reconst Loss: 351.6002, KL Div: 115.0962\n",
            "Epoch[3/3], Step [9000/15000], Reconst Loss: 460.2222, KL Div: 106.9318\n",
            "Epoch[3/3], Step [10000/15000], Reconst Loss: 356.7088, KL Div: 106.1645\n",
            "Epoch[3/3], Step [11000/15000], Reconst Loss: 317.7154, KL Div: 98.3678\n",
            "Epoch[3/3], Step [12000/15000], Reconst Loss: 280.4006, KL Div: 96.3429\n",
            "Epoch[3/3], Step [13000/15000], Reconst Loss: 355.5574, KL Div: 88.5382\n",
            "Epoch[3/3], Step [14000/15000], Reconst Loss: 357.4173, KL Div: 114.3381\n",
            "Epoch[3/3], Step [15000/15000], Reconst Loss: 399.4436, KL Div: 102.1795\n"
          ]
        }
      ],
      "source": [
        "import os\n",
        "import torch\n",
        "import torch.nn as nn\n",
        "import torch.nn.functional as F\n",
        "import torchvision\n",
        "from torchvision import transforms\n",
        "from torchvision.utils import save_image\n",
        "# https://github.com/yunjey/pytorch-tutorial/blob/master/tutorials/03-advanced/variational_autoencoder/main.py\n",
        "\n",
        "device = torch.device('cuda' if torch.cuda.is_available() else 'cpu')\n",
        "sample_dir = 'samples'\n",
        "if not os.path.exists(sample_dir): os.makedirs(sample_dir)\n",
        "\n",
        "train_data = torchvision.datasets.MNIST(root=\"data\", train=True, download=True,transform=transforms.ToTensor(),)\n",
        "batch_size = 4 # 128\n",
        "train_loader = torch.utils.data.DataLoader(train_data, batch_size=batch_size, shuffle=True)\n",
        "\n",
        "image_size = 784\n",
        "h_dim = 400\n",
        "z_dim = 20\n",
        "class VAE(nn.Module):\n",
        "    def __init__(self, image_size=784, h_dim=400, z_dim=20):\n",
        "        super(VAE, self).__init__()\n",
        "        self.fc1 = nn.Linear(image_size, h_dim)\n",
        "        self.fc2 = nn.Linear(h_dim, z_dim)\n",
        "        self.fc3 = nn.Linear(h_dim, z_dim)\n",
        "        self.fc4 = nn.Linear(z_dim, h_dim)\n",
        "        self.fc5 = nn.Linear(h_dim, image_size)\n",
        "        \n",
        "    def encode(self, x):\n",
        "        h = F.relu(self.fc1(x))\n",
        "        return self.fc2(h), self.fc3(h)\n",
        "    \n",
        "    def reparameterize(self, mu, log_var):\n",
        "        std = torch.exp(log_var/2)\n",
        "        eps = torch.randn_like(std)\n",
        "        return mu + eps * std\n",
        "\n",
        "    def decode(self, z):\n",
        "        h = F.relu(self.fc4(z))\n",
        "        # return F.sigmoid(self.fc5(h))\n",
        "        return torch.sigmoid(self.fc5(h))\n",
        "    \n",
        "    def forward(self, x):\n",
        "        mu, log_var = self.encode(x)\n",
        "        z = self.reparameterize(mu, log_var)\n",
        "        x_reconst = self.decode(z)\n",
        "        return x_reconst, mu, log_var\n",
        "\n",
        "model = VAE().to(device)\n",
        "optimizer = torch.optim.Adam(model.parameters(), lr=1e-3)\n",
        "\n",
        "num_epochs = 3 #15\n",
        "for epoch in range(num_epochs):\n",
        "    for i, (x, _) in enumerate(train_loader):\n",
        "        x = x.to(device).view(-1, image_size)\n",
        "        x_reconst, mu, log_var = model(x)\n",
        "        # reconst_loss = F.binary_cross_entropy(x_reconst, x, size_average=False)\n",
        "        reconst_loss = F.binary_cross_entropy(x_reconst, x, reduction='sum')\n",
        "        kl_div = - 0.5 * torch.sum(1 + log_var - mu.pow(2) - log_var.exp()) # Appendix B in VAE paper or http://yunjey47.tistory.com/43\n",
        "        \n",
        "        loss = reconst_loss + kl_div\n",
        "        optimizer.zero_grad()\n",
        "        loss.backward()\n",
        "        optimizer.step()\n",
        "        if (i+1) % 1000 == 0:\n",
        "            print (\"Epoch[{}/{}], Step [{}/{}], Reconst Loss: {:.4f}, KL Div: {:.4f}\".format(epoch+1, num_epochs, i+1, len(train_loader), reconst_loss.item(), kl_div.item()))\n",
        "    \n",
        "    with torch.no_grad():\n",
        "        z = torch.randn(batch_size, z_dim).to(device)\n",
        "        out = model.decode(z).view(-1, 1, 28, 28)\n",
        "        save_image(out, os.path.join(sample_dir, 'sampled-{}.png'.format(epoch+1)))\n",
        "\n",
        "        out, _, _ = model(x)\n",
        "        x_concat = torch.cat([x.view(-1, 1, 28, 28), out.view(-1, 1, 28, 28)], dim=3)\n",
        "        save_image(x_concat, os.path.join(sample_dir, 'reconst-{}.png'.format(epoch+1)))"
      ]
    },
    {
      "cell_type": "code",
      "source": [
        "import matplotlib.pyplot as plt\n",
        "import numpy as np\n",
        "\n",
        "model.eval()\n",
        "\n",
        "import random\n",
        "n=random.randint(0,1000)\n",
        "print(n)\n",
        "x, y = train_data[n][0], train_data[n][1]\n",
        "x_real=np.squeeze(x)\n",
        "\n",
        "x = x.to(device).view(-1, image_size)\n",
        "x_reconst, mu, log_var = model(x)\n",
        "x_reconst=x_reconst.detach().numpy()\n",
        "x_reconst=np.reshape(x_reconst,(28,28))\n",
        "\n",
        "figure, axis = plt.subplots(1, 2)\n",
        "axis[0].imshow(x_real, cmap = 'gray')\n",
        "axis[1].imshow(x_reconst, cmap = 'gray')\n",
        "plt.show()\n"
      ],
      "metadata": {
        "colab": {
          "base_uri": "https://localhost:8080/",
          "height": 219
        },
        "id": "-pb6_7sUM2_M",
        "outputId": "c07b6b7a-de4c-4b37-d658-ff43b7d257ea"
      },
      "execution_count": null,
      "outputs": [
        {
          "output_type": "stream",
          "name": "stdout",
          "text": [
            "347\n"
          ]
        },
        {
          "output_type": "display_data",
          "data": {
            "image/png": "[encoded data removed]",
            "text/plain": [
              "<Figure size 432x288 with 2 Axes>"
            ]
          },
          "metadata": {
            "needs_background": "light"
          }
        }
      ]
    }
  ]
}

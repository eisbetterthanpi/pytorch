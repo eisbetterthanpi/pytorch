{
  "nbformat": 4,
  "nbformat_minor": 0,
  "metadata": {
    "colab": {
      "name": "RNN2.ipynb",
      "provenance": [],
      "authorship_tag": "ABX9TyO3fLtfrELQt9B6rzAqFZZ7",
      "include_colab_link": true
    },
    "kernelspec": {
      "name": "python3",
      "display_name": "Python 3"
    },
    "language_info": {
      "name": "python"
    }
  },
  "cells": [
    {
      "cell_type": "markdown",
      "metadata": {
        "id": "view-in-github",
        "colab_type": "text"
      },
      "source": [
        "<a href=\"https://colab.research.google.com/github/eisbetterthanpi/python/blob/master/RNN2.ipynb\" target=\"_parent\"><img src=\"https://colab.research.google.com/assets/colab-badge.svg\" alt=\"Open In Colab\"/></a>"
      ]
    },
    {
      "cell_type": "code",
      "source": [
        "import torch\n",
        "import torch.nn as nn\n",
        "import torchvision\n",
        "import torchvision.transforms as transforms\n",
        "# https://github.com/python-engineer/pytorch-examples/blob/master/rnn-lstm-gru/main.py\n",
        "\n",
        "train_data = torchvision.datasets.FashionMNIST(root=\"data\", train=True, download=True,transform=transforms.ToTensor(),)\n",
        "test_data = torchvision.datasets.FashionMNIST(root=\"data\", train=False, download=True, transform=transforms.ToTensor(),) #opt no download\n",
        "batch_size = 64\n",
        "train_loader = torch.utils.data.DataLoader(train_data, batch_size=batch_size)#, shuffle=True)\n",
        "test_loader = torch.utils.data.DataLoader(test_data, batch_size=batch_size)#, shuffle=False)\n"
      ],
      "metadata": {
        "id": "JXoS_HmILezc"
      },
      "execution_count": null,
      "outputs": []
    },
    {
      "cell_type": "code",
      "source": [
        "\n",
        "# device = torch.device('cuda' if torch.cuda.is_available() else 'cpu')\n",
        "device = \"cuda\" if torch.cuda.is_available() else \"cpu\"\n",
        "\n",
        "input_size = 28\n",
        "sequence_length = 28\n",
        "hidden_size = 128\n",
        "num_layers = 2\n",
        "num_classes = 10\n",
        "\n",
        "# Fully connected neural network with one hidden layer\n",
        "class RNN(nn.Module):\n",
        "    def __init__(self, input_size, hidden_size, num_layers, num_classes):\n",
        "        super(RNN, self).__init__()\n",
        "        self.num_layers = num_layers\n",
        "        self.hidden_size = hidden_size\n",
        "        # self.rnn = nn.RNN(input_size, hidden_size, num_layers, batch_first=True)\n",
        "        # self.rnn = nn.GRU(input_size, hidden_size, num_layers, batch_first=True)\n",
        "        self.lstm = nn.LSTM(input_size, hidden_size, num_layers, batch_first=True)\n",
        "        # -> x needs to be: (batch_size, seq, input_size)\n",
        "        self.fc = nn.Linear(hidden_size, num_classes)\n",
        "        \n",
        "    def forward(self, x):\n",
        "        h0 = torch.zeros(self.num_layers, x.size(0), self.hidden_size).to(device) \n",
        "        c0 = torch.zeros(self.num_layers, x.size(0), self.hidden_size).to(device) \n",
        "        # x: (n, 28, 28), h0: (2, n, 128)\n",
        "        # out, _ = self.rnn(x, h0)\n",
        "        out, _ = self.lstm(x, (h0,c0))\n",
        "        # out:(batch_size, seq_length, hidden_size) (n, 28, 128)\n",
        "        out = out[:, -1, :] # out: (n, 128)\n",
        "        out = self.fc(out) # out: (n, 10)\n",
        "        return out\n",
        "\n",
        "model = RNN(input_size, hidden_size, num_layers, num_classes).to(device)\n",
        "print(model)"
      ],
      "metadata": {
        "colab": {
          "base_uri": "https://localhost:8080/"
        },
        "id": "OTCzpIxiTHqd",
        "outputId": "935257f7-cd67-4822-edb4-aeaf203c2484"
      },
      "execution_count": null,
      "outputs": [
        {
          "output_type": "stream",
          "name": "stdout",
          "text": [
            "RNN(\n",
            "  (lstm): LSTM(28, 128, num_layers=2, batch_first=True)\n",
            "  (fc): Linear(in_features=128, out_features=10, bias=True)\n",
            ")\n"
          ]
        }
      ]
    },
    {
      "cell_type": "code",
      "execution_count": null,
      "metadata": {
        "colab": {
          "base_uri": "https://localhost:8080/"
        },
        "id": "LjsoOdP9Kikj",
        "outputId": "c1f1da16-b91a-4929-9dcb-6f944e8f4360"
      },
      "outputs": [
        {
          "output_type": "stream",
          "name": "stdout",
          "text": [
            "loss: 2.306781  [    0/60000]\n",
            "loss: 0.856984  [ 6400/60000]\n",
            "loss: 0.544334  [12800/60000]\n",
            "loss: 0.769984  [19200/60000]\n",
            "loss: 0.589071  [25600/60000]\n",
            "loss: 0.513783  [32000/60000]\n",
            "loss: 0.562093  [38400/60000]\n",
            "loss: 0.585068  [44800/60000]\n",
            "loss: 0.598474  [51200/60000]\n",
            "loss: 0.541361  [57600/60000]\n",
            "Accuracy of the network on the 10000 test images: 81.45 %\n"
          ]
        }
      ],
      "source": [
        "loss_fn = nn.CrossEntropyLoss()\n",
        "optimizer = torch.optim.Adam(model.parameters(), lr=0.001)  \n",
        "# optimizer = torch.optim.SGD(model.parameters(), lr=1e-3)\n",
        "\n",
        "def train(train_loader, model, loss_fn, optimizer):\n",
        "    n_total_steps = len(train_loader)\n",
        "    size = len(train_loader.dataset)\n",
        "    # model.train()\n",
        "    for batch, (images, labels) in enumerate(train_loader):\n",
        "        images = images.reshape(-1, sequence_length, input_size).to(device) # origin shape: [N, 1, 28, 28] resized: [N, 28, 28]\n",
        "        labels = labels.to(device)\n",
        "        # X = torch.squeeze(X)\n",
        "        # X, y = X.to(device), y.to(device)\n",
        "        outputs = model(images)\n",
        "        loss = loss_fn(outputs, labels)\n",
        "        optimizer.zero_grad()\n",
        "        loss.backward()\n",
        "        optimizer.step()\n",
        "        if batch % 100 == 0:\n",
        "            loss, current = loss.item(), batch * len(images)\n",
        "            print(f\"loss: {loss:>7f}  [{current:>5d}/{size:>5d}]\")\n",
        "\n",
        "def test(test_loader, model, loss_fn):\n",
        "    with torch.no_grad():\n",
        "        n_correct = 0\n",
        "        n_samples = 0\n",
        "        for X, y in test_loader:\n",
        "            X = X.reshape(-1, sequence_length, input_size).to(device)\n",
        "            y = y.to(device)\n",
        "            outputs = model(X)\n",
        "            _, predicted = torch.max(outputs.data, 1)\n",
        "            n_samples += y.size(0)\n",
        "            n_correct += (predicted == y).sum().item()\n",
        "        acc = 100.0 * n_correct / n_samples\n",
        "        print(f'Accuracy of the network on the 10000 test images: {acc} %')\n",
        "\n",
        "# def test(test_loader, model, loss_fn):\n",
        "#     size = len(test_loader.dataset)\n",
        "#     num_batches = len(test_loader)\n",
        "#     model.eval()\n",
        "#     test_loss, correct = 0, 0\n",
        "#     with torch.no_grad():\n",
        "#         for X, y in test_loader:\n",
        "#             X, y = X.to(device), y.to(device)\n",
        "#             X = torch.squeeze(X)\n",
        "#             pred = model(X)\n",
        "#             test_loss += loss_fn(pred, y).item()\n",
        "#             correct += (pred.argmax(1) == y).type(torch.float).sum().item()\n",
        "#     test_loss /= num_batches\n",
        "#     correct /= size\n",
        "#     print(f\"Test Error: \\n Accuracy: {(100*correct):>0.1f}%, Avg loss: {test_loss:>8f} \\n\")\n",
        "\n",
        "train(train_loader, model, loss_fn, optimizer)\n",
        "test(test_loader, model, loss_fn)"
      ]
    },
    {
      "cell_type": "code",
      "source": [
        "\n",
        "epochs = 2\n",
        "for t in range(epochs):\n",
        "    print(f\"Epoch {t+1}\\n-------------------------------\")\n",
        "    train(train_loader, model, loss_fn, optimizer)\n",
        "    test(train_loader, model, loss_fn)\n",
        "print(\"Done!\")\n",
        "# torch.save(model.state_dict(), \"model.pth\")\n",
        "# print(\"Saved PyTorch Model State to model.pth\")\n",
        "# model = NeuralNetwork()\n",
        "# model.load_state_dict(torch.load(\"model.pth\"))\n"
      ],
      "metadata": {
        "colab": {
          "base_uri": "https://localhost:8080/"
        },
        "id": "UYrg-SA7l1fi",
        "outputId": "18ca4b31-3c96-4b9b-fa1d-56e043b389ce"
      },
      "execution_count": null,
      "outputs": [
        {
          "output_type": "stream",
          "name": "stdout",
          "text": [
            "Epoch 1\n",
            "-------------------------------\n",
            "loss: 0.432146  [    0/60000]\n",
            "loss: 0.532497  [ 6400/60000]\n",
            "loss: 0.407758  [12800/60000]\n",
            "loss: 0.570695  [19200/60000]\n",
            "loss: 0.409937  [25600/60000]\n",
            "loss: 0.390221  [32000/60000]\n",
            "loss: 0.404769  [38400/60000]\n",
            "loss: 0.577200  [44800/60000]\n",
            "loss: 0.557909  [51200/60000]\n",
            "loss: 0.506684  [57600/60000]\n",
            "Accuracy of the network on the 10000 test images: 84.75333333333333 %\n",
            "Epoch 2\n",
            "-------------------------------\n",
            "loss: 0.304823  [    0/60000]\n",
            "loss: 0.433561  [ 6400/60000]\n",
            "loss: 0.346738  [12800/60000]\n",
            "loss: 0.465120  [19200/60000]\n",
            "loss: 0.391968  [25600/60000]\n",
            "loss: 0.290906  [32000/60000]\n",
            "loss: 0.358383  [38400/60000]\n",
            "loss: 0.559784  [44800/60000]\n",
            "loss: 0.425927  [51200/60000]\n",
            "loss: 0.518589  [57600/60000]\n",
            "Accuracy of the network on the 10000 test images: 86.515 %\n",
            "Done!\n"
          ]
        }
      ]
    },
    {
      "cell_type": "code",
      "source": [
        "classes = [\"T-shirt/top\",\"Trouser\",\"Pullover\",\"Dress\",\"Coat\",\"Sandal\",\"Shirt\",\"Sneaker\",\"Bag\",\"Ankle boot\",]\n",
        "\n",
        "model.eval()\n",
        "\n",
        "import random\n",
        "n=random.randint(0,1000)\n",
        "print(n)\n",
        "x, y = test_data[n][0], test_data[n][1]\n",
        "with torch.no_grad():\n",
        "    pred = model(x)\n",
        "    predicted, actual = classes[pred[0].argmax(0)], classes[y]\n",
        "    print(f'Predicted: \"{predicted}\", Actual: \"{actual}\"')\n"
      ],
      "metadata": {
        "colab": {
          "base_uri": "https://localhost:8080/"
        },
        "id": "ogaJMDQQl8fF",
        "outputId": "9c1f6ed3-4755-42af-ec32-d77081204424"
      },
      "execution_count": null,
      "outputs": [
        {
          "output_type": "stream",
          "name": "stdout",
          "text": [
            "331\n",
            "Predicted: \"Sneaker\", Actual: \"Sneaker\"\n"
          ]
        }
      ]
    }
  ]
}

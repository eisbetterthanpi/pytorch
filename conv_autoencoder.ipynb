{
  "cells": [
    {
      "cell_type": "markdown",
      "metadata": {
        "id": "view-in-github",
        "colab_type": "text"
      },
      "source": [
        "<a href=\"https://colab.research.google.com/github/eisbetterthanpi/pytorch/blob/main/conv_autoencoder.ipynb\" target=\"_parent\"><img src=\"https://colab.research.google.com/assets/colab-badge.svg\" alt=\"Open In Colab\"/></a>"
      ]
    },
    {
      "cell_type": "code",
      "execution_count": null,
      "metadata": {
        "id": "Wi4ODp-XlZoU",
        "cellView": "form"
      },
      "outputs": [],
      "source": [
        "# @title data\n",
        "import torch\n",
        "import torch.nn as nn\n",
        "import torchvision\n",
        "import torchvision.transforms as transforms\n",
        "\n",
        "import matplotlib.pyplot as plt\n",
        "import numpy as np\n",
        "# https://www.geeksforgeeks.org/implementing-an-autoencoder-in-pytorch/\n",
        "\n",
        "train_data = torchvision.datasets.MNIST(root=\"data\", train=True, download=True,transform=transforms.ToTensor(),)\n",
        "test_data = torchvision.datasets.MNIST(root=\"data\", train=False, download=True, transform=transforms.ToTensor(),) #opt no download\n",
        "batch_size = 4 # 512\n",
        "train_loader = torch.utils.data.DataLoader(train_data, batch_size=batch_size, shuffle=True)\n",
        "test_loader = torch.utils.data.DataLoader(test_data, batch_size=batch_size, shuffle=False)\n"
      ]
    },
    {
      "cell_type": "code",
      "execution_count": 3,
      "metadata": {
        "id": "r0mXVAUnVYX-",
        "cellView": "form",
        "colab": {
          "base_uri": "https://localhost:8080/"
        },
        "outputId": "89d7a847-2b1f-43fb-b646-475310584257"
      },
      "outputs": [
        {
          "output_type": "stream",
          "name": "stdout",
          "text": [
            "ResNet(\n",
            "  (conv1): Conv2d(3, 64, kernel_size=(7, 7), stride=(2, 2), padding=(3, 3), bias=False)\n",
            "  (bn1): BatchNorm2d(64, eps=1e-05, momentum=0.1, affine=True, track_running_stats=True)\n",
            "  (relu): ReLU(inplace=True)\n",
            "  (maxpool): MaxPool2d(kernel_size=3, stride=2, padding=1, dilation=1, ceil_mode=False)\n",
            "  (layer1): Sequential(\n",
            "    (0): BasicBlock(\n",
            "      (conv1): Conv2d(64, 64, kernel_size=(3, 3), stride=(1, 1), padding=(1, 1), bias=False)\n",
            "      (bn1): BatchNorm2d(64, eps=1e-05, momentum=0.1, affine=True, track_running_stats=True)\n",
            "      (relu): ReLU(inplace=True)\n",
            "      (conv2): Conv2d(64, 64, kernel_size=(3, 3), stride=(1, 1), padding=(1, 1), bias=False)\n",
            "      (bn2): BatchNorm2d(64, eps=1e-05, momentum=0.1, affine=True, track_running_stats=True)\n",
            "    )\n",
            "    (1): BasicBlock(\n",
            "      (conv1): Conv2d(64, 64, kernel_size=(3, 3), stride=(1, 1), padding=(1, 1), bias=False)\n",
            "      (bn1): BatchNorm2d(64, eps=1e-05, momentum=0.1, affine=True, track_running_stats=True)\n",
            "      (relu): ReLU(inplace=True)\n",
            "      (conv2): Conv2d(64, 64, kernel_size=(3, 3), stride=(1, 1), padding=(1, 1), bias=False)\n",
            "      (bn2): BatchNorm2d(64, eps=1e-05, momentum=0.1, affine=True, track_running_stats=True)\n",
            "    )\n",
            "  )\n",
            "  (layer2): Sequential(\n",
            "    (0): BasicBlock(\n",
            "      (conv1): Conv2d(64, 128, kernel_size=(3, 3), stride=(2, 2), padding=(1, 1), bias=False)\n",
            "      (bn1): BatchNorm2d(128, eps=1e-05, momentum=0.1, affine=True, track_running_stats=True)\n",
            "      (relu): ReLU(inplace=True)\n",
            "      (conv2): Conv2d(128, 128, kernel_size=(3, 3), stride=(1, 1), padding=(1, 1), bias=False)\n",
            "      (bn2): BatchNorm2d(128, eps=1e-05, momentum=0.1, affine=True, track_running_stats=True)\n",
            "      (downsample): Sequential(\n",
            "        (0): Conv2d(64, 128, kernel_size=(1, 1), stride=(2, 2), bias=False)\n",
            "        (1): BatchNorm2d(128, eps=1e-05, momentum=0.1, affine=True, track_running_stats=True)\n",
            "      )\n",
            "    )\n",
            "    (1): BasicBlock(\n",
            "      (conv1): Conv2d(128, 128, kernel_size=(3, 3), stride=(1, 1), padding=(1, 1), bias=False)\n",
            "      (bn1): BatchNorm2d(128, eps=1e-05, momentum=0.1, affine=True, track_running_stats=True)\n",
            "      (relu): ReLU(inplace=True)\n",
            "      (conv2): Conv2d(128, 128, kernel_size=(3, 3), stride=(1, 1), padding=(1, 1), bias=False)\n",
            "      (bn2): BatchNorm2d(128, eps=1e-05, momentum=0.1, affine=True, track_running_stats=True)\n",
            "    )\n",
            "  )\n",
            "  (layer3): Sequential(\n",
            "    (0): BasicBlock(\n",
            "      (conv1): Conv2d(128, 256, kernel_size=(3, 3), stride=(2, 2), padding=(1, 1), bias=False)\n",
            "      (bn1): BatchNorm2d(256, eps=1e-05, momentum=0.1, affine=True, track_running_stats=True)\n",
            "      (relu): ReLU(inplace=True)\n",
            "      (conv2): Conv2d(256, 256, kernel_size=(3, 3), stride=(1, 1), padding=(1, 1), bias=False)\n",
            "      (bn2): BatchNorm2d(256, eps=1e-05, momentum=0.1, affine=True, track_running_stats=True)\n",
            "      (downsample): Sequential(\n",
            "        (0): Conv2d(128, 256, kernel_size=(1, 1), stride=(2, 2), bias=False)\n",
            "        (1): BatchNorm2d(256, eps=1e-05, momentum=0.1, affine=True, track_running_stats=True)\n",
            "      )\n",
            "    )\n",
            "    (1): BasicBlock(\n",
            "      (conv1): Conv2d(256, 256, kernel_size=(3, 3), stride=(1, 1), padding=(1, 1), bias=False)\n",
            "      (bn1): BatchNorm2d(256, eps=1e-05, momentum=0.1, affine=True, track_running_stats=True)\n",
            "      (relu): ReLU(inplace=True)\n",
            "      (conv2): Conv2d(256, 256, kernel_size=(3, 3), stride=(1, 1), padding=(1, 1), bias=False)\n",
            "      (bn2): BatchNorm2d(256, eps=1e-05, momentum=0.1, affine=True, track_running_stats=True)\n",
            "    )\n",
            "  )\n",
            "  (layer4): Sequential()\n",
            "  (avgpool): AdaptiveAvgPool2d(output_size=(1, 1))\n",
            "  (fc): Sequential()\n",
            ")\n"
          ]
        }
      ],
      "source": [
        "# @title resnet\n",
        "import torch\n",
        "import torch.nn as nn\n",
        "from torchvision import models # https://pytorch.org/vision/0.12/models.html#id10\n",
        "\n",
        "device = torch.device('cuda' if torch.cuda.is_available() else 'cpu')\n",
        "\n",
        "def get_res(dim_embd):\n",
        "    model = models.resnet18(weights='DEFAULT') # 18 34 50 101 152\n",
        "    num_ftrs = model.fc.in_features # 1000\n",
        "    # model.conv1 = nn.Conv2d(1, 64, kernel_size=3, stride=2, padding=1, bias=False)\n",
        "    model.layer4 = nn.Sequential()\n",
        "    model.fc = nn.Sequential( # og\n",
        "        # nn.Linear(num_ftrs, dim_embd, bias=None),\n",
        "        # nn.Linear(512, dim_embd, bias=None),\n",
        "        # nn.Softmax(dim=1),\n",
        "        )\n",
        "    return model\n",
        "model = get_res(256).to(device)\n",
        "print(model)\n",
        "# input = torch.rand(16,3,64,64)\n",
        "# input = torch.rand(16,1,256,256)\n",
        "# out = model(input)\n",
        "# print(out.shape)\n"
      ]
    },
    {
      "cell_type": "code",
      "execution_count": 82,
      "metadata": {
        "id": "4oqycJZ5s3RR",
        "colab": {
          "base_uri": "https://localhost:8080/"
        },
        "outputId": "83a47844-6171-4a22-928e-591bc95977b3"
      },
      "outputs": [
        {
          "output_type": "stream",
          "name": "stdout",
          "text": [
            "23296\n",
            "torch.Size([4, 32])\n",
            "torch.Size([4, 1, 28, 28])\n"
          ]
        }
      ],
      "source": [
        "# @title autoencoder\n",
        "import torch\n",
        "import torch.nn as nn\n",
        "\n",
        "class autoencoder(torch.nn.Module):\n",
        "    def __init__(self):\n",
        "        super().__init__()\n",
        "        # self.encoder = torch.nn.Sequential(\n",
        "        #     nn.Linear(28 * 28, 512), nn.ReLU(),\n",
        "        #     nn.Linear(512, 128), nn.ReLU(),\n",
        "        #     nn.Linear(128, 64), nn.ReLU(),\n",
        "        #     nn.Linear(64, 32),  nn.ReLU(), # 32>10 to account for variation of members within the same class\n",
        "        # )\n",
        "\n",
        "        self.encoder = nn.Sequential( # 28 # nn.Conv2d(in_channels, out_channels, kernel_size=1, stride=1, padding=0),\n",
        "            nn.Conv2d(1, 16, 3, stride=1, padding=1), nn.ReLU(), nn.MaxPool2d(kernel_size=2, stride=2), # 14\n",
        "            nn.Conv2d(16, 32, 3, stride=1, padding=1), nn.ReLU(), nn.MaxPool2d(2, 2), # 7\n",
        "            nn.Conv2d(32, 32, 3, stride=1, padding=1), nn.ReLU(), nn.MaxPool2d(2, 2), # 3\n",
        "            nn.Conv2d(32, 32, 3, stride=1, padding=1), nn.ReLU(), nn.MaxPool2d(2, 2), # 1\n",
        "            # nn.Conv2d(32, 32, 3, stride=1, padding=1), # 1\n",
        "            # nn.Conv2d(16, 8, 3, stride=1, padding=1), nn.ReLU(), nn.MaxPool2d(2, 2),\n",
        "            # nn.AdaptiveAvgPool2d(output_size=(1, 1)),\n",
        "        )\n",
        "        self.decoder = nn.Sequential(\n",
        "            nn.ConvTranspose2d(32, 32, 3, stride=1, padding=0, output_padding=0), nn.ReLU(),\n",
        "            nn.ConvTranspose2d(32, 32, 3, stride=2, padding=0, output_padding=0), nn.ReLU(),\n",
        "            # nn.ConvTranspose2d(32, 32, 3, stride=2, padding=1, output_padding=1), nn.ReLU(),\n",
        "            nn.ConvTranspose2d(32, 16, 3, stride=2, padding=1, output_padding=1), nn.ReLU(),\n",
        "            nn.ConvTranspose2d(16, 1, 3, stride=2, padding=1, output_padding=1), nn.Sigmoid()\n",
        "        )\n",
        "\n",
        "        # self.decoder = nn.Sequential( # 'nearest', 'linear', 'bilinear', 'bicubic', 'trilinear'. # https://pytorch.org/docs/stable/generated/torch.nn.Upsample.html\n",
        "        #     nn.Upsample(scale_factor=2), nn.Conv2d(8, 16, 3, padding=1), nn.ReLU(),\n",
        "        #     nn.Upsample(2), nn.Conv2d(16, 1, 3, padding=1), nn.Sigmoid()\n",
        "        # )\n",
        "\n",
        "        # self.decoder = torch.nn.Sequential(\n",
        "        #     nn.Linear(32, 64), nn.ReLU(),\n",
        "        #     nn.Linear(64, 128), nn.ReLU(),\n",
        "        #     nn.Linear(128, 512), nn.ReLU(),\n",
        "        #     nn.Linear(512, 28 * 28),\n",
        "        #     nn.ReLU(),\n",
        "        # )\n",
        "\n",
        "\n",
        "    def forward(self, x):\n",
        "        x = self.encode(x)\n",
        "        x = self.decode(x)\n",
        "        return x\n",
        "\n",
        "    def encode(self, x):\n",
        "        x = self.encoder(x).squeeze()\n",
        "        return x\n",
        "\n",
        "    def decode(self, x):\n",
        "        x = self.decoder(x.unsqueeze(-1).unsqueeze(-1))\n",
        "        return x\n",
        "\n",
        "\n",
        "device = \"cuda\" if torch.cuda.is_available() else \"cpu\"\n",
        "model = autoencoder().to(device)\n",
        "print(sum(p.numel() for p in model.encoder.parameters() if p.requires_grad))\n",
        "\n",
        "# 477920\n",
        "\n",
        "input = torch.rand((4,1,28,28), device=device)\n",
        "out = model.encode(input)\n",
        "print(out.shape)\n",
        "i2= model.decode(out)\n",
        "print(i2.shape)\n",
        "\n"
      ]
    },
    {
      "cell_type": "code",
      "execution_count": null,
      "metadata": {
        "colab": {
          "base_uri": "https://localhost:8080/"
        },
        "id": "t46jFUzstGAQ",
        "outputId": "06d2eeda-4839-448a-e105-02e75263e55a"
      },
      "outputs": [
        {
          "output_type": "stream",
          "name": "stdout",
          "text": [
            "loss:  0.011691850610077381\n",
            "loss:  0.012030640617012978\n",
            "loss:  0.009366992861032486\n"
          ]
        }
      ],
      "source": [
        "# @title train\n",
        "loss_function = torch.nn.MSELoss()\n",
        "optimizer = torch.optim.SGD(model.parameters(), lr = 1e-1, momentum=0.9)\n",
        "# optimizer = torch.optim.Adam(model.parameters(), lr = 1e-3, weight_decay = 1e-8)\n",
        "# scheduler = torch.optim.lr_scheduler.StepLR(optimizer, step_size=3, gamma=0.1)\n",
        "scheduler = torch.optim.lr_scheduler.ExponentialLR(optimizer, gamma=0.7)\n",
        "\n",
        "epochs = 10\n",
        "outputs = []\n",
        "losses = []\n",
        "model.train()\n",
        "for epoch in range(epochs):\n",
        "    for image, _ in train_loader:\n",
        "        image = image.to(device)#.reshape(-1, 28*28)\n",
        "        reconstructed = model(image)\n",
        "        loss = loss_function(reconstructed, image)\n",
        "        optimizer.zero_grad()\n",
        "        loss.backward()\n",
        "        optimizer.step()\n",
        "        losses.append(loss.cpu())\n",
        "    scheduler.step()\n",
        "    lr=optimizer.param_groups[0][\"lr\"]\n",
        "    # print(lr)\n",
        "    print(\"loss: \",sum(losses[-batch_size:]).item()/batch_size)\n",
        "    outputs.append((epochs, image, reconstructed))\n"
      ]
    },
    {
      "cell_type": "code",
      "source": [
        "# print(item[0].shape)\n",
        "print(image.shape)\n"
      ],
      "metadata": {
        "colab": {
          "base_uri": "https://localhost:8080/"
        },
        "id": "rjRlU0-rqPfP",
        "outputId": "2bc76152-95eb-45f4-d69a-e25201e2cc87"
      },
      "execution_count": 79,
      "outputs": [
        {
          "output_type": "stream",
          "name": "stdout",
          "text": [
            "torch.Size([4, 1, 28, 28])\n"
          ]
        }
      ]
    },
    {
      "cell_type": "code",
      "execution_count": 14,
      "metadata": {
        "colab": {
          "base_uri": "https://localhost:8080/",
          "height": 1000
        },
        "id": "arU-tUdktPc_",
        "outputId": "8b4f936d-eb55-4bc6-e913-dfa47666e179"
      },
      "outputs": [
        {
          "output_type": "stream",
          "name": "stdout",
          "text": [
            "original:\n"
          ]
        },
        {
          "output_type": "display_data",
          "data": {
            "text/plain": [
              "<Figure size 640x480 with 1 Axes>"
            ],
            "image/png": "[encoded data removed]"
          },
          "metadata": {}
        },
        {
          "output_type": "stream",
          "name": "stdout",
          "text": [
            "encoded:  tensor([[[2.7049, 2.7049, 2.7049, 2.7049, 2.7049, 2.7049, 2.7049],\n",
            "         [2.1605, 3.5428, 4.1394, 3.3106, 2.9702, 3.0060, 2.1189],\n",
            "         [2.3780, 1.6872, 0.0000, 1.4679, 1.6153, 3.2888, 2.3892],\n",
            "         [2.1924, 2.2381, 2.2681, 3.1132, 3.2469, 2.6006, 2.2899],\n",
            "         [2.1435, 2.1435, 2.3752, 3.2256, 1.2201, 2.6056, 2.1435],\n",
            "         [2.1435, 2.1803, 3.1921, 1.7542, 2.4528, 2.3109, 2.1435],\n",
            "         [2.2231, 2.3128, 2.8285, 1.1339, 2.8697, 2.2231, 2.2231]],\n",
            "\n",
            "        [[1.8622, 1.8622, 1.8622, 1.8622, 1.8622, 1.8622, 1.8622],\n",
            "         [1.9698, 2.6601, 5.5232, 4.1001, 3.3302, 3.3067, 1.8363],\n",
            "         [2.1355, 1.8692, 6.6614, 7.0604, 7.0781, 7.4294, 2.1516],\n",
            "         [1.8759, 1.8716, 1.9678, 2.9357, 6.4086, 7.2169, 1.8586],\n",
            "         [1.8622, 1.8622, 2.3768, 3.2518, 7.1487, 3.2530, 1.8622],\n",
            "         [1.8622, 1.8929, 2.9763, 7.7622, 6.7864, 1.8622, 1.8622],\n",
            "         [1.8622, 1.9691, 2.4350, 7.8012, 2.9218, 1.8622, 1.8622]],\n",
            "\n",
            "        [[2.3659, 2.3659, 2.3659, 2.3659, 2.3659, 2.3659, 2.3659],\n",
            "         [2.3711, 2.6290, 2.8682, 2.5467, 2.3139, 2.3756, 2.3826],\n",
            "         [2.4118, 3.1257, 2.6134, 1.1967, 2.4952, 0.0000, 2.1957],\n",
            "         [2.3659, 2.3659, 2.4505, 2.7333, 3.6995, 2.3228, 2.4445],\n",
            "         [2.3659, 2.3659, 2.3926, 3.4027, 0.2089, 2.4751, 2.3659],\n",
            "         [2.3659, 2.3861, 3.1750, 2.3638, 2.6262, 2.4068, 2.3659],\n",
            "         [2.3659, 2.3730, 2.8510, 0.5287, 2.3532, 2.3659, 2.3659]],\n",
            "\n",
            "        [[3.1537, 3.1537, 3.1537, 3.1537, 3.1537, 3.1537, 3.1537],\n",
            "         [3.1789, 3.4836, 3.5341, 3.1909, 3.2329, 3.4454, 3.2293],\n",
            "         [3.3986, 3.2684, 2.7576, 1.2535, 1.9256, 2.9855, 3.3582],\n",
            "         [3.1537, 3.3225, 3.4149, 3.3746, 0.7598, 3.5799, 3.1352],\n",
            "         [3.1537, 3.1537, 3.4711, 3.6420, 3.2952, 3.6654, 3.1537],\n",
            "         [3.1537, 3.1537, 3.4227, 1.3750, 3.5779, 3.1537, 3.1537],\n",
            "         [3.1537, 3.2359, 2.5786, 2.6060, 3.2745, 3.1537, 3.1537]],\n",
            "\n",
            "        [[0.6413, 0.6413, 0.6413, 0.6413, 0.6413, 0.6413, 0.6413],\n",
            "         [0.9211, 4.2917, 5.0271, 2.0234, 2.1603, 1.5007, 0.6323],\n",
            "         [0.5812, 5.8548, 6.7465, 6.8728, 7.4407, 6.4671, 0.3567],\n",
            "         [0.6413, 0.6413, 0.6890, 1.4555, 6.7211, 3.0482, 0.6393],\n",
            "         [0.6413, 0.6413, 1.4878, 6.2681, 6.6723, 0.6408, 0.6413],\n",
            "         [0.6413, 0.8178, 3.6655, 7.6210, 1.3969, 0.6413, 0.6413],\n",
            "         [0.6413, 0.8206, 6.1311, 7.5776, 0.6324, 0.6413, 0.6413]],\n",
            "\n",
            "        [[2.6975, 2.2545, 2.2545, 2.2545, 2.2545, 2.2545, 2.3039],\n",
            "         [2.6975, 2.6985, 2.8707, 2.8239, 2.5850, 2.6471, 2.3305],\n",
            "         [2.6975, 2.7173, 0.7764, 0.6588, 0.7625, 0.9781, 2.1543],\n",
            "         [2.6975, 2.3122, 2.4523, 2.4823, 3.4802, 0.5372, 2.1732],\n",
            "         [2.6975, 2.1823, 2.3530, 3.2595, 2.3160, 2.1806, 2.1823],\n",
            "         [2.6975, 2.2118, 2.8395, 3.8284, 1.2285, 2.1823, 2.1823],\n",
            "         [2.9304, 2.2460, 3.4530, 0.1691, 2.1796, 2.1823, 2.1823]],\n",
            "\n",
            "        [[2.2155, 2.2155, 2.2155, 2.2155, 2.2155, 2.2155, 2.2155],\n",
            "         [2.3522, 2.3778, 2.5988, 2.4100, 2.3183, 2.3929, 2.2444],\n",
            "         [2.4670, 4.7840, 6.4378, 6.8867, 7.4482, 5.6104, 2.2463],\n",
            "         [2.2155, 2.2155, 2.2155, 2.6268, 5.3829, 5.2698, 2.2022],\n",
            "         [2.2155, 2.2155, 2.5715, 2.5730, 5.6440, 2.6502, 2.2155],\n",
            "         [2.2155, 2.2155, 2.4979, 5.7443, 5.5608, 2.2155, 2.2155],\n",
            "         [2.2155, 2.3555, 4.3683, 5.5745, 2.1517, 2.2155, 2.2155]],\n",
            "\n",
            "        [[0.9754, 0.9754, 0.9754, 0.9754, 0.9754, 0.9754, 0.9754],\n",
            "         [1.1388, 1.1460, 2.5722, 1.9272, 1.2240, 1.2294, 1.0391],\n",
            "         [1.1097, 1.3170, 1.8571, 3.3650, 3.8947, 3.1414, 1.8205],\n",
            "         [0.9799, 1.1292, 0.9850, 1.2426, 2.5348, 1.1153, 0.9373],\n",
            "         [0.9754, 0.9754, 1.1937, 1.2920, 2.4518, 0.9637, 0.9754],\n",
            "         [0.9754, 1.0324, 1.1997, 2.6934, 1.2837, 0.9754, 0.9754],\n",
            "         [0.9754, 1.1187, 1.1392, 1.9112, 1.2991, 0.9754, 0.9754]]],\n",
            "       device='cuda:0', grad_fn=<MaxPool2DWithIndicesBackward0>)\n",
            "reconstructed:\n"
          ]
        },
        {
          "output_type": "display_data",
          "data": {
            "text/plain": [
              "<Figure size 640x480 with 1 Axes>"
            ],
            "image/png": "[encoded data removed]"
          },
          "metadata": {}
        }
      ],
      "source": [
        "# @title evaluate\n",
        "\n",
        "# dataiter = iter(test_loader)\n",
        "dataiter = iter(test_data)\n",
        "# item, labels = dataiter.next() # images, labels\n",
        "item, labels = next(dataiter) # images, labels\n",
        "# item = item.reshape(-1, 28, 28)\n",
        "print(\"original:\")\n",
        "plt.imshow(item.cpu()[0])\n",
        "plt.show()\n",
        "\n",
        "model.eval()\n",
        "# reconstructed = model(item[0].flatten().to(device))\n",
        "# encoded = model.encode(item[0].flatten().to(device))\n",
        "encoded = model.encode(item[0].unsqueeze(0).to(device))\n",
        "print(\"encoded: \",encoded)\n",
        "reconstructed = model.decode(encoded)\n",
        "\n",
        "print(\"reconstructed:\")\n",
        "# reconstructed = reconstructed.reshape(-1, 28, 28)\n",
        "# reconstructed = reconstructed.unsqueeze(0)\n",
        "plt.imshow(reconstructed.detach().cpu()[0])\n",
        "plt.show()\n"
      ]
    }
  ],
  "metadata": {
    "accelerator": "GPU",
    "colab": {
      "provenance": [],
      "authorship_tag": "ABX9TyNJPnSJEzajXL2wrX+tnpST",
      "include_colab_link": true
    },
    "gpuClass": "standard",
    "kernelspec": {
      "display_name": "Python 3",
      "name": "python3"
    },
    "language_info": {
      "name": "python"
    }
  },
  "nbformat": 4,
  "nbformat_minor": 0
}
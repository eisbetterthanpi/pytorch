{
  "cells": [
    {
      "cell_type": "markdown",
      "metadata": {
        "id": "view-in-github",
        "colab_type": "text"
      },
      "source": [
        "<a href=\"https://colab.research.google.com/github/eisbetterthanpi/pytorch/blob/main/conv_autoencoder.ipynb\" target=\"_parent\"><img src=\"https://colab.research.google.com/assets/colab-badge.svg\" alt=\"Open In Colab\"/></a>"
      ]
    },
    {
      "cell_type": "code",
      "execution_count": 5,
      "metadata": {
        "cellView": "form",
        "id": "Wi4ODp-XlZoU",
        "colab": {
          "base_uri": "https://localhost:8080/"
        },
        "outputId": "60fba1d8-e866-49c0-fd67-0c337cd1fbfc"
      },
      "outputs": [
        {
          "output_type": "stream",
          "name": "stdout",
          "text": [
            "Downloading http://yann.lecun.com/exdb/mnist/train-images-idx3-ubyte.gz\n",
            "Failed to download (trying next):\n",
            "HTTP Error 404: Not Found\n",
            "\n",
            "Downloading https://ossci-datasets.s3.amazonaws.com/mnist/train-images-idx3-ubyte.gz\n",
            "Downloading https://ossci-datasets.s3.amazonaws.com/mnist/train-images-idx3-ubyte.gz to data/MNIST/raw/train-images-idx3-ubyte.gz\n"
          ]
        },
        {
          "output_type": "stream",
          "name": "stderr",
          "text": [
            "100%|██████████| 9.91M/9.91M [00:00<00:00, 39.6MB/s]\n"
          ]
        },
        {
          "output_type": "stream",
          "name": "stdout",
          "text": [
            "Extracting data/MNIST/raw/train-images-idx3-ubyte.gz to data/MNIST/raw\n",
            "\n",
            "Downloading http://yann.lecun.com/exdb/mnist/train-labels-idx1-ubyte.gz\n",
            "Failed to download (trying next):\n",
            "HTTP Error 404: Not Found\n",
            "\n",
            "Downloading https://ossci-datasets.s3.amazonaws.com/mnist/train-labels-idx1-ubyte.gz\n",
            "Downloading https://ossci-datasets.s3.amazonaws.com/mnist/train-labels-idx1-ubyte.gz to data/MNIST/raw/train-labels-idx1-ubyte.gz\n"
          ]
        },
        {
          "output_type": "stream",
          "name": "stderr",
          "text": [
            "100%|██████████| 28.9k/28.9k [00:00<00:00, 1.20MB/s]\n"
          ]
        },
        {
          "output_type": "stream",
          "name": "stdout",
          "text": [
            "Extracting data/MNIST/raw/train-labels-idx1-ubyte.gz to data/MNIST/raw\n",
            "\n",
            "Downloading http://yann.lecun.com/exdb/mnist/t10k-images-idx3-ubyte.gz\n",
            "Failed to download (trying next):\n",
            "HTTP Error 404: Not Found\n",
            "\n",
            "Downloading https://ossci-datasets.s3.amazonaws.com/mnist/t10k-images-idx3-ubyte.gz\n",
            "Downloading https://ossci-datasets.s3.amazonaws.com/mnist/t10k-images-idx3-ubyte.gz to data/MNIST/raw/t10k-images-idx3-ubyte.gz\n"
          ]
        },
        {
          "output_type": "stream",
          "name": "stderr",
          "text": [
            "100%|██████████| 1.65M/1.65M [00:00<00:00, 10.9MB/s]\n"
          ]
        },
        {
          "output_type": "stream",
          "name": "stdout",
          "text": [
            "Extracting data/MNIST/raw/t10k-images-idx3-ubyte.gz to data/MNIST/raw\n",
            "\n",
            "Downloading http://yann.lecun.com/exdb/mnist/t10k-labels-idx1-ubyte.gz\n",
            "Failed to download (trying next):\n",
            "HTTP Error 404: Not Found\n",
            "\n",
            "Downloading https://ossci-datasets.s3.amazonaws.com/mnist/t10k-labels-idx1-ubyte.gz\n",
            "Downloading https://ossci-datasets.s3.amazonaws.com/mnist/t10k-labels-idx1-ubyte.gz to data/MNIST/raw/t10k-labels-idx1-ubyte.gz\n"
          ]
        },
        {
          "output_type": "stream",
          "name": "stderr",
          "text": [
            "100%|██████████| 4.54k/4.54k [00:00<00:00, 5.82MB/s]"
          ]
        },
        {
          "output_type": "stream",
          "name": "stdout",
          "text": [
            "Extracting data/MNIST/raw/t10k-labels-idx1-ubyte.gz to data/MNIST/raw\n",
            "\n"
          ]
        },
        {
          "output_type": "stream",
          "name": "stderr",
          "text": [
            "\n"
          ]
        }
      ],
      "source": [
        "# @title data\n",
        "import torch\n",
        "import torch.nn as nn\n",
        "import torchvision\n",
        "import torchvision.transforms as transforms\n",
        "\n",
        "import matplotlib.pyplot as plt\n",
        "import numpy as np\n",
        "# https://www.geeksforgeeks.org/implementing-an-autoencoder-in-pytorch/\n",
        "\n",
        "train_data = torchvision.datasets.MNIST(root=\"data\", train=True, download=True,transform=transforms.ToTensor(),)\n",
        "test_data = torchvision.datasets.MNIST(root=\"data\", train=False, download=True, transform=transforms.ToTensor(),) #opt no download\n",
        "batch_size = 4 # 512\n",
        "train_loader = torch.utils.data.DataLoader(train_data, batch_size=batch_size, shuffle=True)\n",
        "test_loader = torch.utils.data.DataLoader(test_data, batch_size=batch_size, shuffle=False)\n"
      ]
    },
    {
      "cell_type": "code",
      "execution_count": null,
      "metadata": {
        "cellView": "form",
        "id": "r0mXVAUnVYX-"
      },
      "outputs": [],
      "source": [
        "# @title resnet\n",
        "import torch\n",
        "import torch.nn as nn\n",
        "from torchvision import models # https://pytorch.org/vision/0.12/models.html#id10\n",
        "\n",
        "device = torch.device('cuda' if torch.cuda.is_available() else 'cpu')\n",
        "\n",
        "def get_res(dim_embd):\n",
        "    model = models.resnet18(weights='DEFAULT') # 18 34 50 101 152\n",
        "    num_ftrs = model.fc.in_features # 1000\n",
        "    # model.conv1 = nn.Conv2d(1, 64, kernel_size=3, stride=2, padding=1, bias=False)\n",
        "    model.layer4 = nn.Sequential()\n",
        "    model.fc = nn.Sequential( # og\n",
        "        # nn.Linear(num_ftrs, dim_embd, bias=None),\n",
        "        # nn.Linear(512, dim_embd, bias=None),\n",
        "        # nn.Softmax(dim=1),\n",
        "        )\n",
        "    return model\n",
        "\n",
        "# model = models.resnet18(weights='DEFAULT') # 18 34 50 101 152\n",
        "# model = get_res(256).to(device)\n",
        "# print(model)\n",
        "# input = torch.rand(16,3,64,64)\n",
        "# input = torch.rand(16,1,256,256)\n",
        "# out = model(input)\n",
        "# print(out.shape)\n"
      ]
    },
    {
      "cell_type": "code",
      "execution_count": 22,
      "metadata": {
        "cellView": "form",
        "colab": {
          "base_uri": "https://localhost:8080/"
        },
        "id": "4oqycJZ5s3RR",
        "outputId": "3d1287bb-7f30-4e80-fcc1-a0c7d5613575"
      },
      "outputs": [
        {
          "output_type": "stream",
          "name": "stdout",
          "text": [
            "23296\n",
            "23265\n",
            "torch.Size([4, 32])\n",
            "torch.Size([4, 1, 28, 28])\n"
          ]
        }
      ],
      "source": [
        "# @title autoencoder\n",
        "import torch\n",
        "import torch.nn as nn\n",
        "\n",
        "class autoencoder(torch.nn.Module):\n",
        "    def __init__(self):\n",
        "        super().__init__()\n",
        "        # self.encoder = torch.nn.Sequential(\n",
        "        #     nn.Linear(28 * 28, 512), nn.ReLU(),\n",
        "        #     nn.Linear(512, 128), nn.ReLU(),\n",
        "        #     nn.Linear(128, 64), nn.ReLU(),\n",
        "        #     nn.Linear(64, 32),  nn.ReLU(), # 32>10 to account for variation of members within the same class\n",
        "        # )\n",
        "\n",
        "        self.encoder = nn.Sequential( # 28 # nn.Conv2d(in_channels, out_channels, kernel_size=1, stride=1, padding=0),\n",
        "            nn.Conv2d(1, 16, 3, stride=1, padding=1), nn.ReLU(), nn.MaxPool2d(kernel_size=2, stride=2), # 14\n",
        "            nn.Conv2d(16, 32, 3, stride=1, padding=1), nn.ReLU(), nn.MaxPool2d(2, 2), # 7\n",
        "            nn.Conv2d(32, 32, 3, stride=1, padding=1), nn.ReLU(), nn.MaxPool2d(2, 2), # 3\n",
        "            nn.Conv2d(32, 32, 3, stride=1, padding=1), nn.ReLU(), nn.MaxPool2d(2, 2), # 1\n",
        "            # nn.Conv2d(32, 32, 3, stride=1, padding=1), # 1\n",
        "            # nn.Conv2d(16, 8, 3, stride=1, padding=1), nn.ReLU(), nn.MaxPool2d(2, 2),\n",
        "            # nn.AdaptiveAvgPool2d(output_size=(1, 1)),\n",
        "            nn.Flatten(start_dim=1),\n",
        "        )\n",
        "        self.decoder = nn.Sequential(\n",
        "            nn.Unflatten(-1, (32,1,1)),\n",
        "            nn.ConvTranspose2d(32, 32, 3, stride=2, padding=0, output_padding=0), nn.ReLU(),\n",
        "            nn.ConvTranspose2d(32, 32, 3, stride=2, padding=0, output_padding=0), nn.ReLU(),\n",
        "            nn.ConvTranspose2d(32, 16, 3, stride=2, padding=1, output_padding=1), nn.ReLU(),\n",
        "            nn.ConvTranspose2d(16, 1, 3, stride=2, padding=1, output_padding=1), nn.Sigmoid()\n",
        "        )\n",
        "\n",
        "        # self.decoder = nn.Sequential( # 'nearest', 'linear', 'bilinear', 'bicubic', 'trilinear'. # https://pytorch.org/docs/stable/generated/torch.nn.Upsample.html\n",
        "        #     nn.Upsample((3,3)), nn.ConvTranspose2d(32, 32, 3, 1, padding=1), nn.ReLU(),\n",
        "        #     nn.Upsample((7,7)), nn.ConvTranspose2d(32, 32, 3, 1, padding=1), nn.ReLU(),\n",
        "        #     nn.Upsample(scale_factor=2), nn.ConvTranspose2d(32, 16, 3, 1, padding=1), nn.ReLU(),\n",
        "        #     nn.Upsample(scale_factor=2), nn.ConvTranspose2d(16, 1, 3, 1, padding=1), nn.Sigmoid()\n",
        "        # )\n",
        "\n",
        "        # self.decoder = torch.nn.Sequential(\n",
        "        #     nn.Linear(32, 64), nn.ReLU(),\n",
        "        #     nn.Linear(64, 128), nn.ReLU(),\n",
        "        #     nn.Linear(128, 512), nn.ReLU(),\n",
        "        #     nn.Linear(512, 28 * 28), nn.ReLU(),\n",
        "        # )\n",
        "\n",
        "    def forward(self, x):\n",
        "        x = self.encode(x)\n",
        "        x = self.decode(x)\n",
        "        return x\n",
        "\n",
        "    def encode(self, x): return self.encoder(x)\n",
        "    def decode(self, x): return self.decoder(x)\n",
        "\n",
        "\n",
        "device = \"cuda\" if torch.cuda.is_available() else \"cpu\"\n",
        "model = autoencoder().to(device)\n",
        "print(sum(p.numel() for p in model.encoder.parameters() if p.requires_grad))\n",
        "print(sum(p.numel() for p in model.decoder.parameters() if p.requires_grad))\n",
        "\n",
        "# 477920\n",
        "# 23296, 23265\n",
        "\n",
        "input = torch.rand((4,1,28,28), device=device)\n",
        "out = model.encode(input)\n",
        "print(out.shape)\n",
        "i2= model.decode(out)\n",
        "print(i2.shape)\n",
        "\n"
      ]
    },
    {
      "cell_type": "code",
      "source": [
        "# @title PixelShuffleConv\n",
        "import torch\n",
        "from torch import nn\n",
        "from torch.nn import functional as F\n",
        "device = 'cuda' if torch.cuda.is_available() else 'cpu'\n",
        "\n",
        "class CrossEmbedLayer(nn.Module):\n",
        "    def __init__(self, in_ch, out_ch, kernel_sizes, stride=1):\n",
        "        super().__init__()\n",
        "        kernel_sizes = sorted(kernel_sizes)\n",
        "        dim_scales = [int(out_ch / (2 ** i)) for i in range(1, len(kernel_sizes))] # [64, 32]\n",
        "        dim_scales = [*dim_scales, out_ch - sum(dim_scales)] # [64, 32, 32]\n",
        "        # 1/2 + 1/4 + 1/8 + ... + 1/2^num_kernels + 1/2^num_kernels of out_ch; smaller kernel allocated more channels\n",
        "        self.convs = nn.ModuleList([nn.Conv2d(in_ch, dim_scale, kernel, stride=stride, padding=(kernel-stride)//2) for kernel, dim_scale in zip(kernel_sizes, dim_scales)])\n",
        "    def forward(self, x):\n",
        "        return torch.cat([conv(x) for conv in self.convs], dim = 1)\n",
        "\n",
        "class PixelShuffleConv(nn.Module):\n",
        "    def __init__(self, in_ch, out_ch = None, kernel_sizes=(2,4), r=2):\n",
        "        super().__init__()\n",
        "        if out_ch==None: out_ch = in_ch\n",
        "        if r>1:\n",
        "            self.r = r\n",
        "            self.net = nn.Sequential(CrossEmbedLayer(in_ch, out_ch * self.r**2, kernel_sizes, 1), nn.PixelShuffle(self.r)) # PixelShuffle: [b,c*r^2,h,w] -> [b,c,h*r,w*r] # upscale by upscale factor r # https://arxiv.org/pdf/1609.05158v2\n",
        "        if r<1:\n",
        "            self.r = int(1/r)\n",
        "            self.net = nn.Sequential(nn.PixelUnshuffle(self.r), CrossEmbedLayer(in_ch * self.r**2, out_ch, kernel_sizes, 1)) # PixelUnshuffle: [b,c,h*r,w*r] -> [b,c*r^2,h,w]\n",
        "        for conv in self.net:\n",
        "            if isinstance(conv, nn.Conv2d):\n",
        "                self.init_conv_(conv)\n",
        "\n",
        "    def init_conv_(self, conv):\n",
        "        o, i, h, w = conv.weight.shape\n",
        "        conv_weight = torch.empty(o // self.r**2, i, h, w)\n",
        "        nn.init.kaiming_uniform_(conv_weight)\n",
        "        conv.weight.data.copy_(conv_weight.repeat(self.r**2,1,1,1))\n",
        "        nn.init.zeros_(conv.bias.data)\n",
        "\n",
        "    def forward(self, x):\n",
        "        return self.net(x)\n",
        "\n",
        "class EpicAE(torch.nn.Module):\n",
        "    def __init__(self, in_ch=3, d_model=256, drop=0.2):\n",
        "        super().__init__()\n",
        "        # d_list=[32, 64, 128, 256, 256, 256] # 1278976\n",
        "        d_list=[32, 64] # 849126\n",
        "        in_list=[in_ch, *d_list[:-1]]\n",
        "        kernels = [(3, 7, 15), (3, 7), (3, 5), (3, 5), (3,), (3,)]\n",
        "        act = nn.GELU() # ReLU GELU SiLU\n",
        "\n",
        "        self.encoder = nn.Sequential( # nn.Conv2d(in_channels, out_channels, kernel_size=1, stride=1, padding=0), # SiLU ReLU\n",
        "            *[nn.Sequential(PixelShuffleConv(in_dim, out_dim, kernel, r=1/2), nn.BatchNorm2d(out_dim) if i!=len(d_list) else nn.Identity(), act,) for i, (in_dim, out_dim, kernel) in enumerate(zip(in_list, d_list, kernels))],\n",
        "\n",
        "            # nn.Conv2d(3, d_list[0], 7, 2, 3), nn.BatchNorm2d(d_list[0]), act,\n",
        "            # nn.Dropout2d(drop), nn.Conv2d(d_list[0], d_list[1], 5, 2, 2), nn.BatchNorm2d(d_list[1]), act,\n",
        "            # nn.Dropout2d(drop), nn.Conv2d(d_list[1], d_list[2], 3, 2, 1), nn.BatchNorm2d(d_list[2]), act,\n",
        "            # nn.Dropout2d(drop), nn.Conv2d(d_list[2], d_list[3], 3, 2, 1), nn.BatchNorm2d(d_list[3]), act,\n",
        "            # nn.Dropout2d(drop), nn.Conv2d(d_list[3], d_list[4], 3, 2, 1), nn.BatchNorm2d(d_list[4]), act,\n",
        "            # # nn.Conv2d(d_list[4], d_list[5], 3, 2, 1), act,\n",
        "            # nn.Conv2d(d_list[4], d_model, 2, 1, 0), act,\n",
        "\n",
        "            # nn.Flatten(start_dim=1),\n",
        "        )\n",
        "\n",
        "        self.decoder = nn.Sequential(\n",
        "            # nn.Unflatten(-1, (d_model,1,1)),\n",
        "\n",
        "            *[nn.Sequential(PixelShuffleConv(in_dim, out_dim, kernel, r=2), nn.BatchNorm2d(out_dim) if i!=len(d_list) else nn.Identity(), act if i!=len(d_list) else nn.Identity()) for i, (in_dim, out_dim, kernel) in enumerate(zip(reversed(d_list), reversed(in_list), kernels))],\n",
        "\n",
        "            # nn.ConvTranspose2d(d_model, d_list[4], 2, 1, 0, output_padding=0), nn.BatchNorm2d(d_list[4]), act,\n",
        "            # nn.ConvTranspose2d(d_list[4], d_list[3], 3, 2, 1, output_padding=1), nn.BatchNorm2d(d_list[3]), act,\n",
        "            # nn.ConvTranspose2d(d_list[3], d_list[2], 3, 2, 1, output_padding=1), nn.BatchNorm2d(d_list[2]), act,\n",
        "            # nn.ConvTranspose2d(d_list[2], d_list[1], 3, 2, 1, output_padding=1), nn.BatchNorm2d(d_list[1]), act,\n",
        "            # nn.ConvTranspose2d(d_list[1], d_list[0], 5, 2, 2, output_padding=1), nn.BatchNorm2d(d_list[0]), act,\n",
        "            # nn.ConvTranspose2d(d_list[0], 3, 7, 2, 3, output_padding=1),\n",
        "        )\n",
        "\n",
        "    def forward(self, x):\n",
        "        x = self.encode(x)\n",
        "        x = self.decode(x)\n",
        "        return x\n",
        "\n",
        "    def encode(self, x): return self.encoder(x)\n",
        "    def decode(self, x): return self.decoder(x)\n",
        "\n",
        "\n",
        "device = \"cuda\" if torch.cuda.is_available() else \"cpu\"\n",
        "model = EpicAE(in_ch=1).to(device)\n",
        "print(sum(p.numel() for p in model.parameters() if p.requires_grad)) # 19683\n",
        "# input = torch.rand((4,3,64,64), device=device)\n",
        "input = torch.rand((4,1,28,28), device=device)\n",
        "out = model.encode(input)\n",
        "print(out.shape)\n",
        "in_ = model.decode(out)\n",
        "print(in_.shape)\n",
        "\n",
        "# 1278976\n",
        "# 1278979\n"
      ],
      "metadata": {
        "id": "B0sa_kP-ggPP",
        "colab": {
          "base_uri": "https://localhost:8080/"
        },
        "cellView": "form",
        "outputId": "65618bba-627e-4308-ea4e-d2902e05bf6d"
      },
      "execution_count": 12,
      "outputs": [
        {
          "output_type": "stream",
          "name": "stdout",
          "text": [
            "849126\n",
            "torch.Size([4, 64, 7, 7])\n",
            "torch.Size([4, 1, 28, 28])\n"
          ]
        }
      ]
    },
    {
      "cell_type": "code",
      "source": [
        "\n",
        "a=[1,2,3]\n",
        "b=[5,10,11]\n",
        "# for x in zip(a,b):\n",
        "# for x in zip(a,b).reverse():\n",
        "\n",
        "for x in reversed(zip(a,b)):\n",
        "    print(x)\n"
      ],
      "metadata": {
        "colab": {
          "base_uri": "https://localhost:8080/",
          "height": 200
        },
        "id": "NVznxG9Ulg3t",
        "outputId": "0a6daf05-2d59-46ea-f219-cd7a896d19ed"
      },
      "execution_count": 20,
      "outputs": [
        {
          "output_type": "error",
          "ename": "TypeError",
          "evalue": "'zip' object is not reversible",
          "traceback": [
            "\u001b[0;31m---------------------------------------------------------------------------\u001b[0m",
            "\u001b[0;31mTypeError\u001b[0m                                 Traceback (most recent call last)",
            "\u001b[0;32m<ipython-input-20-34c248277130>\u001b[0m in \u001b[0;36m<cell line: 0>\u001b[0;34m()\u001b[0m\n\u001b[1;32m      4\u001b[0m \u001b[0;31m# for x in zip(a,b).reverse():\u001b[0m\u001b[0;34m\u001b[0m\u001b[0;34m\u001b[0m\u001b[0m\n\u001b[1;32m      5\u001b[0m \u001b[0;34m\u001b[0m\u001b[0m\n\u001b[0;32m----> 6\u001b[0;31m \u001b[0;32mfor\u001b[0m \u001b[0mx\u001b[0m \u001b[0;32min\u001b[0m \u001b[0mreversed\u001b[0m\u001b[0;34m(\u001b[0m\u001b[0mzip\u001b[0m\u001b[0;34m(\u001b[0m\u001b[0ma\u001b[0m\u001b[0;34m,\u001b[0m\u001b[0mb\u001b[0m\u001b[0;34m)\u001b[0m\u001b[0;34m)\u001b[0m\u001b[0;34m:\u001b[0m\u001b[0;34m\u001b[0m\u001b[0;34m\u001b[0m\u001b[0m\n\u001b[0m\u001b[1;32m      7\u001b[0m     \u001b[0mprint\u001b[0m\u001b[0;34m(\u001b[0m\u001b[0mx\u001b[0m\u001b[0;34m)\u001b[0m\u001b[0;34m\u001b[0m\u001b[0;34m\u001b[0m\u001b[0m\n",
            "\u001b[0;31mTypeError\u001b[0m: 'zip' object is not reversible"
          ]
        }
      ]
    },
    {
      "cell_type": "code",
      "execution_count": 13,
      "metadata": {
        "id": "t46jFUzstGAQ",
        "colab": {
          "base_uri": "https://localhost:8080/",
          "height": 236
        },
        "outputId": "f06be6ba-ae10-4628-c31f-238ff9e9143f"
      },
      "outputs": [
        {
          "output_type": "stream",
          "name": "stdout",
          "text": [
            "loss:  0.008434731513261795\n"
          ]
        },
        {
          "output_type": "error",
          "ename": "NameError",
          "evalue": "name 'item' is not defined",
          "traceback": [
            "\u001b[0;31m---------------------------------------------------------------------------\u001b[0m",
            "\u001b[0;31mNameError\u001b[0m                                 Traceback (most recent call last)",
            "\u001b[0;32m<ipython-input-13-362f64222b1a>\u001b[0m in \u001b[0;36m<cell line: 0>\u001b[0;34m()\u001b[0m\n\u001b[1;32m     42\u001b[0m \u001b[0;32mfor\u001b[0m \u001b[0mepoch\u001b[0m \u001b[0;32min\u001b[0m \u001b[0mrange\u001b[0m\u001b[0;34m(\u001b[0m\u001b[0mepochs\u001b[0m\u001b[0;34m)\u001b[0m\u001b[0;34m:\u001b[0m\u001b[0;34m\u001b[0m\u001b[0;34m\u001b[0m\u001b[0m\n\u001b[1;32m     43\u001b[0m     \u001b[0mtrain\u001b[0m\u001b[0;34m(\u001b[0m\u001b[0mmodel\u001b[0m\u001b[0;34m,\u001b[0m \u001b[0mtrain_loader\u001b[0m\u001b[0;34m,\u001b[0m \u001b[0mloss_function\u001b[0m\u001b[0;34m,\u001b[0m \u001b[0moptimizer\u001b[0m\u001b[0;34m)\u001b[0m\u001b[0;34m\u001b[0m\u001b[0;34m\u001b[0m\u001b[0m\n\u001b[0;32m---> 44\u001b[0;31m     \u001b[0mencoded\u001b[0m \u001b[0;34m=\u001b[0m \u001b[0mmodel\u001b[0m\u001b[0;34m.\u001b[0m\u001b[0mencode\u001b[0m\u001b[0;34m(\u001b[0m\u001b[0mitem\u001b[0m\u001b[0;34m[\u001b[0m\u001b[0;36m0\u001b[0m\u001b[0;34m]\u001b[0m\u001b[0;34m.\u001b[0m\u001b[0munsqueeze\u001b[0m\u001b[0;34m(\u001b[0m\u001b[0;36m0\u001b[0m\u001b[0;34m)\u001b[0m\u001b[0;34m.\u001b[0m\u001b[0mto\u001b[0m\u001b[0;34m(\u001b[0m\u001b[0mdevice\u001b[0m\u001b[0;34m)\u001b[0m\u001b[0;34m)\u001b[0m\u001b[0;34m\u001b[0m\u001b[0;34m\u001b[0m\u001b[0m\n\u001b[0m\u001b[1;32m     45\u001b[0m     \u001b[0mprint\u001b[0m\u001b[0;34m(\u001b[0m\u001b[0;34m\"encoded: \"\u001b[0m\u001b[0;34m,\u001b[0m\u001b[0mencoded\u001b[0m\u001b[0;34m)\u001b[0m\u001b[0;34m\u001b[0m\u001b[0;34m\u001b[0m\u001b[0m\n\u001b[1;32m     46\u001b[0m     \u001b[0mreconstructed\u001b[0m \u001b[0;34m=\u001b[0m \u001b[0mmodel\u001b[0m\u001b[0;34m.\u001b[0m\u001b[0mdecode\u001b[0m\u001b[0;34m(\u001b[0m\u001b[0mencoded\u001b[0m\u001b[0;34m.\u001b[0m\u001b[0munsqueeze\u001b[0m\u001b[0;34m(\u001b[0m\u001b[0;36m0\u001b[0m\u001b[0;34m)\u001b[0m\u001b[0;34m)\u001b[0m\u001b[0;34m\u001b[0m\u001b[0;34m\u001b[0m\u001b[0m\n",
            "\u001b[0;31mNameError\u001b[0m: name 'item' is not defined"
          ]
        }
      ],
      "source": [
        "# @title train\n",
        "loss_function = torch.nn.MSELoss()\n",
        "# optimizer = torch.optim.SGD(model.parameters(), lr = 1e-1, momentum=0.9)\n",
        "# optimizer = torch.optim.Adam(model.parameters(), lr = 1e-3, weight_decay = 1e-8)\n",
        "# scheduler = torch.optim.lr_scheduler.StepLR(optimizer, step_size=3, gamma=0.1)\n",
        "# scheduler = torch.optim.lr_scheduler.ExponentialLR(optimizer, gamma=0.7)\n",
        "optimizer = torch.optim.AdamW(model.parameters(), 1e-4, (0.9, 0.95)) # lr = 1e-3\n",
        "\n",
        "\n",
        "def train(model, train_loader, loss_function, optimizer):\n",
        "    outputs = []\n",
        "    losses = []\n",
        "    model.train()\n",
        "    for image, _ in train_loader:\n",
        "        image = image.to(device)#.reshape(-1, 28*28)\n",
        "        reconstructed = model(image)\n",
        "        loss = loss_function(reconstructed, image)\n",
        "        optimizer.zero_grad()\n",
        "        loss.backward()\n",
        "        optimizer.step()\n",
        "        losses.append(loss.cpu())\n",
        "        try: wandb.log({\"loss\": loss.item()})\n",
        "        except: pass\n",
        "    # scheduler.step()\n",
        "    lr=optimizer.param_groups[0][\"lr\"]\n",
        "    # print(lr)\n",
        "    print(\"loss: \",sum(losses[-batch_size:]).item()/batch_size)\n",
        "    outputs.append((epochs, image, reconstructed))\n",
        "\n",
        "# loss:  0.013260149396955967\n",
        "# loss:  0.010282933712005615\n",
        "# loss:  0.009744454175233841\n",
        "# loss:  0.008946227841079235\n",
        "# loss:  0.006832938175648451\n",
        "# loss:  0.007862974889576435\n",
        "# loss:  0.0076667130924761295\n",
        "# loss:  0.005621504969894886\n",
        "# loss:  0.009382324293255806\n",
        "# loss:  0.007828746922314167\n",
        "\n",
        "epochs = 10\n",
        "for epoch in range(epochs):\n",
        "    train(model, train_loader, loss_function, optimizer)\n",
        "    encoded = model.encode(item[0].unsqueeze(0).to(device))\n",
        "    print(\"encoded: \",encoded)\n",
        "    reconstructed = model.decode(encoded.unsqueeze(0))\n",
        "\n",
        "    print(\"reconstructed:\")\n",
        "    # reconstructed = reconstructed.reshape(-1, 28, 28)\n",
        "    # reconstructed = reconstructed.unsqueeze(0)\n",
        "    plt.imshow(reconstructed.detach().cpu().squeeze())\n",
        "    plt.show()\n"
      ]
    },
    {
      "cell_type": "code",
      "execution_count": 19,
      "metadata": {
        "colab": {
          "base_uri": "https://localhost:8080/",
          "height": 915
        },
        "id": "arU-tUdktPc_",
        "outputId": "f8046ef0-8f78-4748-e175-8f4e87619c6c"
      },
      "outputs": [
        {
          "output_type": "stream",
          "name": "stdout",
          "text": [
            "original:\n"
          ]
        },
        {
          "output_type": "display_data",
          "data": {
            "text/plain": [
              "<Figure size 640x480 with 1 Axes>"
            ],
            "image/png": "[encoded data removed]"
          },
          "metadata": {}
        },
        {
          "output_type": "stream",
          "name": "stdout",
          "text": [
            "torch.Size([1, 1, 28, 28])\n",
            "encoded:  torch.Size([1, 64, 7, 7])\n",
            "reconstructed:\n"
          ]
        },
        {
          "output_type": "display_data",
          "data": {
            "text/plain": [
              "<Figure size 640x480 with 1 Axes>"
            ],
            "image/png": "[encoded data removed]"
          },
          "metadata": {}
        }
      ],
      "source": [
        "# @title evaluate\n",
        "\n",
        "dataiter = iter(test_data)\n",
        "item, labels = next(dataiter) # images, labels\n",
        "print(\"original:\")\n",
        "plt.imshow(item.cpu()[0])\n",
        "plt.show()\n",
        "\n",
        "model.eval()\n",
        "encoded = model.encode(item.unsqueeze(0).to(device))\n",
        "# print(\"encoded: \",encoded.shape)\n",
        "reconstructed = model.decode(encoded)\n",
        "\n",
        "print(\"reconstructed:\")\n",
        "plt.imshow(reconstructed.detach().cpu().squeeze())\n",
        "plt.show()\n"
      ]
    },
    {
      "cell_type": "code",
      "execution_count": null,
      "metadata": {
        "id": "RIiOf4BeOCC4"
      },
      "outputs": [],
      "source": [
        "\n",
        "name='agent_convt.pth'\n",
        "# name='agent_upsample.pth'\n",
        "folder = '/content/'\n",
        "torch.save(model.state_dict(), folder+name)\n",
        "# model.load_state_dict(torch.load(folder+name), strict=False)\n"
      ]
    },
    {
      "cell_type": "code",
      "execution_count": null,
      "metadata": {
        "cellView": "form",
        "colab": {
          "base_uri": "https://localhost:8080/",
          "height": 744,
          "referenced_widgets": [
            "e8a4d4ea2091473da1e6db818f305bdd",
            "a49b5834c94e4a73a057054a8c6e390e",
            "5d7b3965d45b41adad436025dd95f13c",
            "d5eef792e4e64ef1a6d057498d72a29d",
            "c19afb5d6f8240a488a94784f8013be2",
            "ae96bc2c0cc3452f9ec98a5b2d9eb397",
            "cb1f2744a821408ea86a9ae3f38650bb",
            "1cceb38b0dd04095a5e8d02194eb4746"
          ]
        },
        "id": "uT9m-J1BUWyz",
        "outputId": "c1c9a952-c905-446a-a2a8-0f586744c87e"
      },
      "outputs": [
        {
          "output_type": "stream",
          "name": "stdout",
          "text": [
            "Requirement already satisfied: wandb in /usr/local/lib/python3.10/dist-packages (0.17.6)\n",
            "Requirement already satisfied: click!=8.0.0,>=7.1 in /usr/local/lib/python3.10/dist-packages (from wandb) (8.1.7)\n",
            "Requirement already satisfied: docker-pycreds>=0.4.0 in /usr/local/lib/python3.10/dist-packages (from wandb) (0.4.0)\n",
            "Requirement already satisfied: gitpython!=3.1.29,>=1.0.0 in /usr/local/lib/python3.10/dist-packages (from wandb) (3.1.43)\n",
            "Requirement already satisfied: platformdirs in /usr/local/lib/python3.10/dist-packages (from wandb) (4.2.2)\n",
            "Requirement already satisfied: protobuf!=4.21.0,<6,>=3.19.0 in /usr/local/lib/python3.10/dist-packages (from wandb) (3.20.3)\n",
            "Requirement already satisfied: psutil>=5.0.0 in /usr/local/lib/python3.10/dist-packages (from wandb) (5.9.5)\n",
            "Requirement already satisfied: pyyaml in /usr/local/lib/python3.10/dist-packages (from wandb) (6.0.2)\n",
            "Requirement already satisfied: requests<3,>=2.0.0 in /usr/local/lib/python3.10/dist-packages (from wandb) (2.32.3)\n",
            "Requirement already satisfied: sentry-sdk>=1.0.0 in /usr/local/lib/python3.10/dist-packages (from wandb) (2.12.0)\n",
            "Requirement already satisfied: setproctitle in /usr/local/lib/python3.10/dist-packages (from wandb) (1.3.3)\n",
            "Requirement already satisfied: setuptools in /usr/local/lib/python3.10/dist-packages (from wandb) (71.0.4)\n",
            "Requirement already satisfied: six>=1.4.0 in /usr/local/lib/python3.10/dist-packages (from docker-pycreds>=0.4.0->wandb) (1.16.0)\n",
            "Requirement already satisfied: gitdb<5,>=4.0.1 in /usr/local/lib/python3.10/dist-packages (from gitpython!=3.1.29,>=1.0.0->wandb) (4.0.11)\n",
            "Requirement already satisfied: charset-normalizer<4,>=2 in /usr/local/lib/python3.10/dist-packages (from requests<3,>=2.0.0->wandb) (3.3.2)\n",
            "Requirement already satisfied: idna<4,>=2.5 in /usr/local/lib/python3.10/dist-packages (from requests<3,>=2.0.0->wandb) (3.7)\n",
            "Requirement already satisfied: urllib3<3,>=1.21.1 in /usr/local/lib/python3.10/dist-packages (from requests<3,>=2.0.0->wandb) (2.0.7)\n",
            "Requirement already satisfied: certifi>=2017.4.17 in /usr/local/lib/python3.10/dist-packages (from requests<3,>=2.0.0->wandb) (2024.7.4)\n",
            "Requirement already satisfied: smmap<6,>=3.0.1 in /usr/local/lib/python3.10/dist-packages (from gitdb<5,>=4.0.1->gitpython!=3.1.29,>=1.0.0->wandb) (5.0.1)\n"
          ]
        },
        {
          "output_type": "stream",
          "name": "stderr",
          "text": [
            "\u001b[34m\u001b[1mwandb\u001b[0m: \u001b[33mWARNING\u001b[0m Calling wandb.login() after wandb.init() has no effect.\n"
          ]
        },
        {
          "output_type": "display_data",
          "data": {
            "text/plain": [
              "<IPython.core.display.HTML object>"
            ],
            "text/html": [
              "Finishing last run (ID:eufmha39) before initializing another..."
            ]
          },
          "metadata": {}
        },
        {
          "output_type": "display_data",
          "data": {
            "text/plain": [
              "VBox(children=(Label(value='0.001 MB of 0.001 MB uploaded\\r'), FloatProgress(value=1.0, max=1.0)))"
            ],
            "application/vnd.jupyter.widget-view+json": {
              "version_major": 2,
              "version_minor": 0,
              "model_id": "e8a4d4ea2091473da1e6db818f305bdd"
            }
          },
          "metadata": {}
        },
        {
          "output_type": "display_data",
          "data": {
            "text/plain": [
              "<IPython.core.display.HTML object>"
            ],
            "text/html": [
              "<style>\n",
              "    table.wandb td:nth-child(1) { padding: 0 10px; text-align: left ; width: auto;} td:nth-child(2) {text-align: left ; width: 100%}\n",
              "    .wandb-row { display: flex; flex-direction: row; flex-wrap: wrap; justify-content: flex-start; width: 100% }\n",
              "    .wandb-col { display: flex; flex-direction: column; flex-basis: 100%; flex: 1; padding: 10px; }\n",
              "    </style>\n",
              "<div class=\"wandb-row\"><div class=\"wandb-col\"><h3>Run history:</h3><br/><table class=\"wandb\"><tr><td>loss</td><td>█▆▅▄▄▄▄▂▂▃▂▃▃▂▂▂▂▂▂▂▂▂▂▂▂▂▁▂▂▁▂▂▁▁▁▁▂▁▁▁</td></tr></table><br/></div><div class=\"wandb-col\"><h3>Run summary:</h3><br/><table class=\"wandb\"><tr><td>loss</td><td>0.00832</td></tr></table><br/></div></div>"
            ]
          },
          "metadata": {}
        },
        {
          "output_type": "display_data",
          "data": {
            "text/plain": [
              "<IPython.core.display.HTML object>"
            ],
            "text/html": [
              " View run <strong style=\"color:#cdcd00\">electric-snow-10</strong> at: <a href='https://wandb.ai/bobdole/conv_ae/runs/eufmha39' target=\"_blank\">https://wandb.ai/bobdole/conv_ae/runs/eufmha39</a><br/> View project at: <a href='https://wandb.ai/bobdole/conv_ae' target=\"_blank\">https://wandb.ai/bobdole/conv_ae</a><br/>Synced 5 W&B file(s), 0 media file(s), 0 artifact file(s) and 0 other file(s)"
            ]
          },
          "metadata": {}
        },
        {
          "output_type": "display_data",
          "data": {
            "text/plain": [
              "<IPython.core.display.HTML object>"
            ],
            "text/html": [
              "Find logs at: <code>./wandb/run-20240810_133609-eufmha39/logs</code>"
            ]
          },
          "metadata": {}
        },
        {
          "output_type": "display_data",
          "data": {
            "text/plain": [
              "<IPython.core.display.HTML object>"
            ],
            "text/html": [
              "The new W&B backend becomes opt-out in version 0.18.0; try it out with `wandb.require(\"core\")`! See https://wandb.me/wandb-core for more information."
            ]
          },
          "metadata": {}
        },
        {
          "output_type": "display_data",
          "data": {
            "text/plain": [
              "<IPython.core.display.HTML object>"
            ],
            "text/html": [
              "Successfully finished last run (ID:eufmha39). Initializing new run:<br/>"
            ]
          },
          "metadata": {}
        },
        {
          "output_type": "display_data",
          "data": {
            "text/plain": [
              "<IPython.core.display.HTML object>"
            ],
            "text/html": [
              "Tracking run with wandb version 0.17.6"
            ]
          },
          "metadata": {}
        },
        {
          "output_type": "display_data",
          "data": {
            "text/plain": [
              "<IPython.core.display.HTML object>"
            ],
            "text/html": [
              "Run data is saved locally in <code>/content/wandb/run-20240810_135141-a5dkusvg</code>"
            ]
          },
          "metadata": {}
        },
        {
          "output_type": "display_data",
          "data": {
            "text/plain": [
              "<IPython.core.display.HTML object>"
            ],
            "text/html": [
              "Syncing run <strong><a href='https://wandb.ai/bobdole/conv_ae/runs/a5dkusvg' target=\"_blank\">clear-grass-11</a></strong> to <a href='https://wandb.ai/bobdole/conv_ae' target=\"_blank\">Weights & Biases</a> (<a href='https://wandb.me/run' target=\"_blank\">docs</a>)<br/>"
            ]
          },
          "metadata": {}
        },
        {
          "output_type": "display_data",
          "data": {
            "text/plain": [
              "<IPython.core.display.HTML object>"
            ],
            "text/html": [
              " View project at <a href='https://wandb.ai/bobdole/conv_ae' target=\"_blank\">https://wandb.ai/bobdole/conv_ae</a>"
            ]
          },
          "metadata": {}
        },
        {
          "output_type": "display_data",
          "data": {
            "text/plain": [
              "<IPython.core.display.HTML object>"
            ],
            "text/html": [
              " View run at <a href='https://wandb.ai/bobdole/conv_ae/runs/a5dkusvg' target=\"_blank\">https://wandb.ai/bobdole/conv_ae/runs/a5dkusvg</a>"
            ]
          },
          "metadata": {}
        }
      ],
      "source": [
        "# @title wandb\n",
        "# https://docs.wandb.ai/quickstart\n",
        "!pip install wandb\n",
        "import wandb\n",
        "wandb.login() # 487a2109e55dce4e13fc70681781de9f50f27be7\n",
        "run = wandb.init(\n",
        "    project=\"conv_ae\",\n",
        "    config={\n",
        "        \"model\": \"res18\",\n",
        "    })\n"
      ]
    },
    {
      "cell_type": "code",
      "execution_count": null,
      "metadata": {
        "colab": {
          "base_uri": "https://localhost:8080/"
        },
        "id": "ShHQ_ynlwoyJ",
        "outputId": "b9363fb2-0a90-42e7-aaa4-257c846d97a9",
        "cellView": "form"
      },
      "outputs": [
        {
          "output_type": "stream",
          "name": "stdout",
          "text": [
            "Drive already mounted at /content/drive; to attempt to forcibly remount, call drive.mount(\"/content/drive\", force_remount=True).\n"
          ]
        }
      ],
      "source": [
        "# @title save/load\n",
        "from google.colab import drive\n",
        "drive.mount('/content/drive')\n",
        "folder='/content/drive/MyDrive/jepa/'\n",
        "import pickle\n",
        "\n",
        "# torch.save(model.state_dict(), folder+name)\n",
        "# model.load_state_dict(torch.load(folder+name, map_location=device), strict=False)\n",
        "# torch.save(model.state_dict(), '/content/'+name)\n",
        "# model.load_state_dict(torch.load('/content/'+name, map_location=device), strict=False)\n",
        "\n",
        "# name='agent.pth'\n",
        "# print(folder+name)\n",
        "# torch.load(folder+name, map_location='o')\n",
        "# with open(folder+'buffer_rand512.pkl', 'wb') as f: pickle.dump((buffer), f)\n",
        "# with open(folder+'buffer512down.pkl', 'rb') as f: buffer = pickle.load(f)\n",
        "with open(folder+'buffer512.pkl', 'rb') as f: buffer = pickle.load(f)\n"
      ]
    },
    {
      "cell_type": "code",
      "execution_count": null,
      "metadata": {
        "cellView": "form",
        "id": "9UKkkuorG_b9"
      },
      "outputs": [],
      "source": [
        "# @title buffer dataloader\n",
        "# RNNs https://colab.research.google.com/drive/16DZRFsBEPMTHnjDED1xlxBDZpCmp5XGR#scrollTo=IV5HmCFv_ITo\n",
        "import torch\n",
        "import torch.nn as nn\n",
        "from torch.utils.data import Dataset\n",
        "import torchvision.transforms as transforms\n",
        "# import faiss\n",
        "import random\n",
        "import torchvision\n",
        "import torch.nn.functional as F\n",
        "import numpy as np\n",
        "\n",
        "class BufferDataset(Dataset): # https://github.com/karpathy/minGPT\n",
        "    def __init__(self, buffer, seq_len):\n",
        "        self.data = [step for episode in buffer for step in episode] # 0.00053\n",
        "        self.seq_len = seq_len\n",
        "        self.transform = transforms.Compose([transforms.ToTensor(), transforms.Normalize((0.5, 0.5, 0.5), (0.5, 0.5, 0.5))])\n",
        "\n",
        "    def __len__(self):\n",
        "        return len(self.data)\n",
        "\n",
        "    def __getitem__(self, idx):\n",
        "        state, action, reward = self.data[idx]\n",
        "        state = self.transform(state)\n",
        "        return state\n",
        "\n",
        "    def add(self, episode):\n",
        "        self.data.append(episode)\n",
        "\n",
        "from matplotlib import pyplot as plt\n",
        "def imshow(img):\n",
        "    # img = img / 2 + 0.5  # unnormalize\n",
        "    npimg = img.numpy()\n",
        "    plt.figure(figsize=(3, 3))\n",
        "    # print(npimg.shape) # (3, 64, 64)\n",
        "    plt.imshow(np.transpose(npimg, (1, 2, 0)))\n",
        "    plt.show()\n",
        "\n",
        "\n",
        "seq_len = 50 # 50\n",
        "train_data = BufferDataset(buffer, seq_len) # one line of poem is roughly 50 characters\n",
        "from torch.utils.data.dataloader import DataLoader\n",
        "batch_size = 32 #512\n",
        "train_loader = DataLoader(train_data, shuffle = True, pin_memory = True, batch_size = batch_size, num_workers = 2, drop_last=True) # num_workers = 4\n",
        "\n",
        "# train_data.data = train_data.data + episode\n"
      ]
    },
    {
      "cell_type": "code",
      "execution_count": null,
      "metadata": {
        "cellView": "form",
        "colab": {
          "base_uri": "https://localhost:8080/"
        },
        "id": "YYgDCUJtHSc1",
        "outputId": "0c19dd71-133f-41b4-ecf6-591f51e20084"
      },
      "outputs": [
        {
          "output_type": "stream",
          "name": "stderr",
          "text": [
            "Downloading: \"https://download.pytorch.org/models/resnet18-f37072fd.pth\" to /root/.cache/torch/hub/checkpoints/resnet18-f37072fd.pth\n",
            "100%|██████████| 44.7M/44.7M [00:00<00:00, 168MB/s]\n"
          ]
        },
        {
          "output_type": "stream",
          "name": "stdout",
          "text": [
            "torch.Size([16, 512])\n",
            "11176512\n"
          ]
        }
      ],
      "source": [
        "# @title resnet\n",
        "import torch\n",
        "import torch.nn as nn\n",
        "from torchvision import models # https://pytorch.org/vision/0.12/models.html#id10\n",
        "\n",
        "device = torch.device('cuda' if torch.cuda.is_available() else 'cpu')\n",
        "\n",
        "def get_res(dim_embd):\n",
        "    model = models.resnet18(weights='DEFAULT') # 18 34 50 101 152\n",
        "    # model = models.resnet101(weights='DEFAULT') # 18 34 50 101 152\n",
        "    num_ftrs = model.fc.in_features # 1000\n",
        "    # model.conv1 = nn.Conv2d(1, 64, kernel_size=3, stride=2, padding=1, bias=False)\n",
        "    # model.layer3 = nn.Sequential()\n",
        "    # model.layer4 = nn.Sequential()\n",
        "    model.fc = nn.Sequential( # og\n",
        "        # nn.Linear(num_ftrs, dim_embd, bias=None),\n",
        "        # nn.Linear(512, dim_embd, bias=None),\n",
        "        # nn.Softmax(dim=1),\n",
        "        )\n",
        "    return model\n",
        "\n",
        "model = get_res(256).to(device)\n",
        "# print(model)\n",
        "input = torch.rand((16,3,64,64),device=device)\n",
        "# input = torch.rand(16,1,256,256)\n",
        "out = model(input)\n",
        "print(out.shape)\n",
        "print(sum(p.numel() for p in model.parameters() if p.requires_grad)) # 19683\n",
        "\n",
        "# res18/34 11,176,512/21,284,672 lyr4 64,64->512\n",
        "# res18/34 2,782,784/ 8,170,304 nolyr4 64,64->256\n",
        "# res18/34 683,072/ 1,347,904 nolyr34 64,64->128\n",
        "# res50 lyr4 23508032 64,64->2048\n",
        "# res50 nolyr4 8543296 64,64->1024\n",
        "# res50 nolyr34 1444928 64,64->512\n"
      ]
    },
    {
      "cell_type": "code",
      "execution_count": null,
      "metadata": {
        "cellView": "form",
        "colab": {
          "base_uri": "https://localhost:8080/"
        },
        "id": "bNh_1XBHHMQI",
        "outputId": "7ecde56a-e3dd-44a6-c2e4-06b4c0e7a1d4"
      },
      "outputs": [
        {
          "output_type": "stream",
          "name": "stdout",
          "text": [
            "11812867\n",
            "torch.Size([4, 3, 64, 64])\n"
          ]
        }
      ],
      "source": [
        "# @title conv deconv\n",
        "import torch\n",
        "import torch.nn as nn\n",
        "\n",
        "\n",
        "class Deconv(torch.nn.Module):\n",
        "    def __init__(self, d_model):\n",
        "        super().__init__()\n",
        "        # d_model = 32\n",
        "        self.decoder = nn.Sequential(\n",
        "            nn.ConvTranspose2d(d_model, d_model, 3, stride=2, padding=1, output_padding=1), nn.ReLU(),\n",
        "            nn.ConvTranspose2d(d_model, d_model, 3, stride=2, padding=1, output_padding=1), nn.ReLU(),\n",
        "            nn.ConvTranspose2d(d_model, d_model, 3, stride=2, padding=1, output_padding=1), nn.ReLU(),\n",
        "            nn.ConvTranspose2d(d_model, d_model, 3, stride=2, padding=1, output_padding=1), nn.ReLU(),\n",
        "            # nn.ConvTranspose2d(d_model, d_model, 3, stride=2, padding=1, output_padding=1), nn.ReLU(),\n",
        "            # nn.ConvTranspose2d(d_model, 3, 3, stride=2, padding=1, output_padding=1), nn.Sigmoid()\n",
        "            nn.ConvTranspose2d(d_model, 1, 3, stride=2, padding=1, output_padding=1), nn.Sigmoid()\n",
        "        )\n",
        "\n",
        "        self.decoder = nn.Sequential( # 'nearest', 'linear', 'bilinear', 'bicubic', 'trilinear'. # https://pytorch.org/docs/stable/generated/torch.nn.Upsample.html\n",
        "            nn.Upsample(scale_factor=2), nn.ConvTranspose2d(d_model, d_model, 3, 1, padding=1), nn.ReLU(),\n",
        "            nn.Upsample(scale_factor=2), nn.ConvTranspose2d(d_model, d_model, 3, 1, padding=1), nn.ReLU(),\n",
        "            # nn.Upsample((7,7)), nn.ConvTranspose2d(32, 32, 3, 1, padding=1), nn.ReLU(),\n",
        "            # nn.ConvTranspose2d(d_model, d_model, 3, 1, padding=1), nn.ReLU(),\n",
        "            nn.Upsample(scale_factor=2), nn.ConvTranspose2d(d_model, d_model, 3, 1, padding=1), nn.ReLU(),\n",
        "            nn.Upsample(scale_factor=2), nn.ConvTranspose2d(d_model, d_model, 3, 1, padding=1), nn.ReLU(),\n",
        "            nn.Upsample(scale_factor=2), nn.ConvTranspose2d(d_model, d_model, 3, 1, padding=1), nn.ReLU(),\n",
        "            nn.Upsample(scale_factor=2), nn.ConvTranspose2d(d_model, 3, 3, 1, padding=1), nn.Sigmoid()\n",
        "        )\n",
        "    def forward(self, x):\n",
        "        x = self.decoder(x.unsqueeze(-1).unsqueeze(-1))\n",
        "        return x\n",
        "\n",
        "\n",
        "device = \"cuda\" if torch.cuda.is_available() else \"cpu\"\n",
        "\n",
        "conv = Deconv(512).to(device)\n",
        "print(sum(p.numel() for p in conv.parameters() if p.requires_grad)) # 19683\n",
        "input = torch.rand((4,512), device=device)\n",
        "out = conv(input)\n",
        "print(out.shape)\n"
      ]
    },
    {
      "cell_type": "code",
      "execution_count": null,
      "metadata": {
        "colab": {
          "base_uri": "https://localhost:8080/"
        },
        "id": "h-_r1P15L9Um",
        "outputId": "4874ca42-2beb-45cf-9111-20ea7bce5cf8"
      },
      "outputs": [
        {
          "output_type": "stream",
          "name": "stdout",
          "text": [
            "1278976\n",
            "1278979\n",
            "torch.Size([4, 256])\n",
            "torch.Size([4, 3, 64, 64])\n"
          ]
        }
      ],
      "source": [
        "# @title autoencoder\n",
        "\n",
        "class autoencoder(torch.nn.Module):\n",
        "    def __init__(self):\n",
        "        super().__init__()\n",
        "        # self.enc = get_res(d_model)\n",
        "        # # self.enc.conv1 = nn.Conv2d(1, 64, kernel_size=3, stride=2, padding=1, bias=False)\n",
        "        # self.enc.conv1 = nn.Conv2d(3, 64, kernel_size=3, stride=2, padding=1, bias=False)\n",
        "        # self.enc.conv1 = nn.Conv2d(3, 64, kernel_size=7, stride=2, padding=3, bias=False)\n",
        "        # d_list=[32, 64, 128, 256, 512, 1024]\n",
        "        # d_list=[32, 64, 128, 256, 512, 256]\n",
        "        d_list=[32, 64, 128, 256, 256, 256]\n",
        "        # d_list=[128, 256, 512, 1024]\n",
        "        # d_list=[64, 128, 256, 512, 1024, 2048]\n",
        "        # r_list=[(360,640), (240,426), (144,256)] # https://en.wikipedia.org/wiki/Low-definition_television\n",
        "        self.enc = nn.Sequential( # nn.Conv2d(in_channels, out_channels, kernel_size=1, stride=1, padding=0), nn.MaxPool2d(kernel_size=2, stride=2), # SiLU ReLU\n",
        "            # nn.Conv2d(3, d_list[0], 7, 2, 3), nn.BatchNorm2d(d_list[0]), nn.ReLU(), nn.MaxPool2d(2, 2),\n",
        "            # nn.Conv2d(d_list[0], d_list[1], 5, 2, 2), nn.BatchNorm2d(d_list[1]), nn.ReLU(), nn.MaxPool2d(2, 2),\n",
        "            # nn.Conv2d(d_list[1], d_list[2], 3, 2, 1), nn.ReLU(), nn.MaxPool2d(2, 2),\n",
        "\n",
        "            # good\n",
        "            nn.Conv2d(3, d_list[0], 7, 2, 3), nn.BatchNorm2d(d_list[0]), nn.ReLU(), #nn.Dropout(),\n",
        "            nn.Conv2d(d_list[0], d_list[1], 5, 2, 2), nn.BatchNorm2d(d_list[1]), nn.ReLU(), #nn.Dropout(),\n",
        "            nn.Conv2d(d_list[1], d_list[2], 3, 2, 1), nn.BatchNorm2d(d_list[2]), nn.ReLU(), #nn.Dropout(),\n",
        "            nn.Conv2d(d_list[2], d_list[3], 3, 2, 1), nn.BatchNorm2d(d_list[3]), nn.ReLU(), #nn.Dropout(),\n",
        "            nn.Conv2d(d_list[3], d_list[4], 3, 2, 1), nn.BatchNorm2d(d_list[4]), nn.ReLU(), #nn.Dropout(),\n",
        "            # nn.Conv2d(d_list[4], d_list[5], 3, 2, 1), nn.ReLU(),\n",
        "\n",
        "\n",
        "            # nn.Conv2d(3, d_list[0], 7, 1, 3), nn.BatchNorm2d(d_list[0]), nn.ReLU(), nn.MaxPool2d(2, 2),\n",
        "            # nn.Conv2d(d_list[0], d_list[1], 5, 1, 2), nn.BatchNorm2d(d_list[1]), nn.ReLU(), nn.MaxPool2d(2, 2),\n",
        "            # nn.Conv2d(d_list[1], d_list[2], 3, 1, 1), nn.BatchNorm2d(d_list[2]), nn.ReLU(), nn.MaxPool2d(2, 2),\n",
        "            # nn.Conv2d(d_list[2], d_list[3], 3, 1, 1), nn.BatchNorm2d(d_list[3]), nn.ReLU(), nn.MaxPool2d(2, 2),\n",
        "            # nn.Conv2d(d_list[3], d_list[3], 3, 1, 1), nn.BatchNorm2d(d_list[3]), nn.ReLU(), nn.MaxPool2d(2, 2),\n",
        "            # nn.Conv2d(d_list[3], d_list[3], 3, 1, 1), nn.ReLU(), nn.MaxPool2d(2, 2),\n",
        "\n",
        "            # nn.Conv2d(3, d_list[0], 7, 1, 3), nn.ReLU(), nn.MaxPool2d(2, 2),\n",
        "            # nn.Conv2d(d_list[0], d_list[1], 5, 1, 2), nn.ReLU(), nn.MaxPool2d(2, 2),\n",
        "            # nn.Conv2d(d_list[1], d_list[2], 3, 1, 1), nn.ReLU(), nn.MaxPool2d(2, 2),\n",
        "            # nn.Conv2d(d_list[2], d_list[3], 3, 1, 1), nn.ReLU(), nn.MaxPool2d(2, 2),\n",
        "            # nn.Conv2d(d_list[3], d_list[3], 3, 1, 1), nn.ReLU(), nn.MaxPool2d(2, 2),\n",
        "            # nn.Conv2d(d_list[3], d_list[3], 3, 1, 1), nn.ReLU(), nn.MaxPool2d(2, 2),\n",
        "\n",
        "            # nn.AdaptiveMaxPool2d(1), # AdaptiveAvgPool2d AdaptiveMaxPool2d\n",
        "            nn.Flatten(start_dim=1),\n",
        "            nn.Linear(4*d_list[4],d_list[5]), nn.ReLU(),\n",
        "        )\n",
        "\n",
        "        self.deconv = nn.Sequential( # 'nearest', 'linear', 'bilinear', 'bicubic', 'trilinear'. # https://pytorch.org/docs/stable/generated/torch.nn.Upsample.html\n",
        "            # nn.Upsample(scale_factor=2), nn.ConvTranspose2d(d_list[5], d_list[1], 3, 2, 1, output_padding=1), nn.BatchNorm2d(d_list[1]), nn.ReLU(),\n",
        "            # nn.Upsample(scale_factor=2), nn.ConvTranspose2d(d_list[1], d_list[0], 5, 2, 2, output_padding=1), nn.BatchNorm2d(d_list[0]), nn.ReLU(),\n",
        "            # nn.Upsample(scale_factor=2), nn.ConvTranspose2d(d_list[0], 3, 7, 2, 3, output_padding=1), nn.Sigmoid(),\n",
        "\n",
        "            nn.Linear(d_list[5],4*d_list[4]), nn.ReLU(),\n",
        "            nn.Unflatten(-1, (d_list[4],2,2)),\n",
        "            # nn.Unflatten(-1, (d_list[5],1,1)),\n",
        "            # good\n",
        "            # nn.ConvTranspose2d(d_list[5], d_list[4], 3, 2, 1, output_padding=1), nn.BatchNorm2d(d_list[4]), nn.ReLU(), #nn.Dropout(),\n",
        "            nn.ConvTranspose2d(d_list[4], d_list[3], 3, 2, 1, output_padding=1), nn.BatchNorm2d(d_list[3]), nn.ReLU(), #nn.Dropout(),\n",
        "            nn.ConvTranspose2d(d_list[3], d_list[2], 3, 2, 1, output_padding=1), nn.BatchNorm2d(d_list[2]), nn.ReLU(), #nn.Dropout(),\n",
        "            nn.ConvTranspose2d(d_list[2], d_list[1], 3, 2, 1, output_padding=1), nn.BatchNorm2d(d_list[1]), nn.ReLU(), #nn.Dropout(),\n",
        "            nn.ConvTranspose2d(d_list[1], d_list[0], 5, 2, 2, output_padding=1), nn.BatchNorm2d(d_list[0]), nn.ReLU(), #nn.Dropout(),\n",
        "            nn.ConvTranspose2d(d_list[0], 3, 7, 2, 3, output_padding=1),\n",
        "\n",
        "\n",
        "            # nn.Upsample(scale_factor=2), nn.ConvTranspose2d(d_list[3], d_list[3], 3, 1, 1), nn.BatchNorm2d(d_list[3]), nn.ReLU(),\n",
        "            # nn.Upsample(scale_factor=2), nn.ConvTranspose2d(d_list[3], d_list[3], 3, 1, 1), nn.BatchNorm2d(d_list[3]), nn.ReLU(),\n",
        "            # nn.Upsample(scale_factor=2), nn.ConvTranspose2d(d_list[3], d_list[2], 3, 1, 1), nn.BatchNorm2d(d_list[2]), nn.ReLU(),\n",
        "            # nn.Upsample(scale_factor=2), nn.ConvTranspose2d(d_list[2], d_list[1], 3, 1, 1), nn.BatchNorm2d(d_list[1]), nn.ReLU(),\n",
        "            # nn.Upsample(scale_factor=2), nn.ConvTranspose2d(d_list[1], d_list[0], 5, 1, 2), nn.BatchNorm2d(d_list[0]), nn.ReLU(),\n",
        "\n",
        "            # nn.Upsample(scale_factor=2), nn.ConvTranspose2d(d_list[3], d_list[3], 3, 1, 1), nn.ReLU(),\n",
        "            # nn.Upsample(scale_factor=2), nn.ConvTranspose2d(d_list[3], d_list[3], 3, 1, 1), nn.ReLU(),\n",
        "            # nn.Upsample(scale_factor=2), nn.ConvTranspose2d(d_list[3], d_list[2], 3, 1, 1), nn.ReLU(),\n",
        "            # nn.Upsample(scale_factor=2), nn.ConvTranspose2d(d_list[2], d_list[1], 3, 1, 1), nn.ReLU(),\n",
        "            # nn.Upsample(scale_factor=2), nn.ConvTranspose2d(d_list[1], d_list[0], 5, 1, 2), nn.ReLU(),\n",
        "\n",
        "            # nn.Upsample((16,16))\n",
        "            # nn.Upsample(scale_factor=2), nn.ConvTranspose2d(d_list[0], 3, 7, 1, 3), nn.Sigmoid(),\n",
        "        )\n",
        "\n",
        "    def forward(self, x):\n",
        "        # print(\"fwd1\",x.shape)\n",
        "        x = self.encode(x)\n",
        "        # print(\"fwd2\",x.shape)\n",
        "        x = self.decode(x)\n",
        "        return x\n",
        "\n",
        "    def encode(self, x): return self.enc(x)#.squeeze()\n",
        "    def decode(self, x):\n",
        "        # return self.deconv(x.unsqueeze(-1).unsqueeze(-1))\n",
        "        # x= self.deconv(x.unsqueeze(-1).unsqueeze(-1))\n",
        "        x= self.deconv(x)\n",
        "        # x = x / 2 + 0.5  # unnormalize\n",
        "        return x\n",
        "\n",
        "device = \"cuda\" if torch.cuda.is_available() else \"cpu\"\n",
        "# model = autoencoder(256).to(device)\n",
        "# model = autoencoder(1024).to(device)\n",
        "model = autoencoder().to(device)\n",
        "print(sum(p.numel() for p in model.enc.parameters() if p.requires_grad)) # res 2775104, convpool 2951424, stride 2957315\n",
        "print(sum(p.numel() for p in model.deconv.parameters() if p.requires_grad)) # 2957315\n",
        "\n",
        "input = torch.rand((4,3,64,64), device=device)\n",
        "out = model.encode(input)\n",
        "print(out.shape)\n",
        "i2= model.decode(out)\n",
        "print(i2.shape)\n",
        "\n"
      ]
    },
    {
      "cell_type": "code",
      "execution_count": null,
      "metadata": {
        "colab": {
          "base_uri": "https://localhost:8080/"
        },
        "outputId": "162e2b85-8561-423a-f8af-36c3a318ad26",
        "id": "NAHP-MSY62ZF",
        "cellView": "form"
      },
      "outputs": [
        {
          "output_type": "stream",
          "name": "stdout",
          "text": [
            "12583936\n",
            "12595200\n",
            "torch.Size([4, 1024])\n",
            "torch.Size([4, 3, 64, 64])\n"
          ]
        }
      ],
      "source": [
        "# @title lin autoencoder\n",
        "\n",
        "class autoencoder(torch.nn.Module):\n",
        "    def __init__(self):\n",
        "        super().__init__()\n",
        "        d_list=[32, 64, 128, 256, 512, 1024]\n",
        "        # d_list=[32, 64, 128, 256, 256, 256]\n",
        "        self.enc = nn.Sequential(\n",
        "            nn.Flatten(start_dim=1),\n",
        "            nn.Linear(64*64*3,d_list[5]), nn.ReLU(),\n",
        "        )\n",
        "        self.deconv = nn.Sequential(\n",
        "            nn.Linear(d_list[5],64*64*3),\n",
        "            nn.Unflatten(-1, (3,64,64)),\n",
        "        )\n",
        "\n",
        "    def forward(self, x):\n",
        "        # print(\"fwd1\",x.shape)\n",
        "        x = self.encode(x)\n",
        "        # print(\"fwd2\",x.shape)\n",
        "        x = self.decode(x)\n",
        "        return x\n",
        "\n",
        "    def encode(self, x): return self.enc(x)#.squeeze()\n",
        "    def decode(self, x):\n",
        "        x= self.deconv(x)\n",
        "        return x\n",
        "\n",
        "device = \"cuda\" if torch.cuda.is_available() else \"cpu\"\n",
        "# model = autoencoder(256).to(device)\n",
        "# model = autoencoder(1024).to(device)\n",
        "model = autoencoder().to(device)\n",
        "print(sum(p.numel() for p in model.enc.parameters() if p.requires_grad)) # res 2775104, convpool 2951424, stride 2957315\n",
        "print(sum(p.numel() for p in model.deconv.parameters() if p.requires_grad)) # 2957315\n",
        "\n",
        "input = torch.rand((4,3,64,64), device=device)\n",
        "out = model.encode(input)\n",
        "print(out.shape)\n",
        "i2= model.decode(out)\n",
        "print(i2.shape)\n",
        "\n"
      ]
    },
    {
      "cell_type": "code",
      "source": [
        "# @title autoencoder dreamer\n",
        "\n",
        "# https://github.com/abhayraw1/planet-torch/blob/master/rssm_model.py\n",
        "# https://github.com/cross32768/PlaNet_PyTorch/blob/master/model.py\n",
        "# https://github.com/abhayraw1/planet-torch/blob/master/rssm_model.py\n",
        "# https://github.com/NM512/dreamerv3-torch/blob/main/networks.py#L448\n",
        "\n",
        "\n",
        "class autoencoder(torch.nn.Module):\n",
        "    def __init__(self):\n",
        "        super().__init__()\n",
        "        # self.enc = get_res(d_model)\n",
        "        # # self.enc.conv1 = nn.Conv2d(1, 64, kernel_size=3, stride=2, padding=1, bias=False)\n",
        "        # self.enc.conv1 = nn.Conv2d(3, 64, kernel_size=3, stride=2, padding=1, bias=False)\n",
        "        # self.enc.conv1 = nn.Conv2d(3, 64, kernel_size=7, stride=2, padding=3, bias=False)\n",
        "        d_list=[32, 64, 128, 1024]\n",
        "        self.enc = nn.Sequential( # nn.Conv2d(in_channels, out_channels, kernel_size=1, stride=1, padding=0), nn.MaxPool2d(kernel_size=2, stride=2), # SiLU ReLU\n",
        "            nn.Conv2d(3, d_list[0], 4, 2, 0), nn.ReLU(), #nn.Dropout(),\n",
        "            nn.Conv2d(d_list[0], d_list[1], 4, 2), nn.ReLU(), #nn.Dropout(),\n",
        "            nn.Conv2d(d_list[1], d_list[2], 4, 2), nn.ReLU(), #nn.Dropout(),\n",
        "            nn.Conv2d(d_list[2], d_list[3], 4, 2), nn.ReLU(), #nn.Dropout(),\n",
        "            # nn.AdaptiveMaxPool2d(1), # AdaptiveAvgPool2d AdaptiveMaxPool2d\n",
        "            nn.Flatten(start_dim=1),\n",
        "            nn.Linear(4*1024,1024), nn.ReLU(),\n",
        "        )\n",
        "\n",
        "        self.deconv = nn.Sequential( # 'nearest', 'linear', 'bilinear', 'bicubic', 'trilinear'. # https://pytorch.org/docs/stable/generated/torch.nn.Upsample.html\n",
        "            # nn.Upsample(scale_factor=2),\n",
        "            nn.Linear(1024,4*1024), nn.ReLU(), #nn.Dropout(),\n",
        "            nn.Unflatten(-1, (1024,2,2)),\n",
        "            nn.ConvTranspose2d(d_list[3], d_list[2], 5, 2, 1, output_padding=1), nn.ReLU(), #nn.Dropout(),\n",
        "            nn.ConvTranspose2d(d_list[2], d_list[1], 5, 2, 1, output_padding=1), nn.ReLU(), #nn.Dropout(),\n",
        "            nn.ConvTranspose2d(d_list[1], d_list[0], 6, 2, 1, output_padding=1), nn.ReLU(), #nn.Dropout(),\n",
        "            nn.ConvTranspose2d(d_list[0], 3, 6, 2, 1, output_padding=0),# nn.Sigmoid(),\n",
        "\n",
        "        )\n",
        "\n",
        "    def forward(self, x):\n",
        "        # print(\"fwd1\",x.shape)\n",
        "        x = self.encode(x)\n",
        "        # print(\"fwd2\",x.shape)\n",
        "        x = self.decode(x)\n",
        "        return x\n",
        "\n",
        "    def encode(self, x): return self.enc(x)#.squeeze()\n",
        "    # def decode(self, x): return self.deconv(x.unsqueeze(-1).unsqueeze(-1))\n",
        "    def decode(self, x): return self.deconv(x)\n",
        "\n",
        "\n",
        "device = \"cuda\" if torch.cuda.is_available() else \"cpu\"\n",
        "# model = autoencoder(256).to(device)\n",
        "# model = autoencoder(1024).to(device)\n",
        "model = autoencoder().to(device)\n",
        "print(sum(p.numel() for p in model.enc.parameters() if p.requires_grad)) # res 2775104, convpool 2951424, stride 2957315\n",
        "print(sum(p.numel() for p in model.deconv.parameters() if p.requires_grad)) # 2957315\n",
        "\n",
        "input = torch.rand((4,3,64,64), device=device)\n",
        "out = model.encode(input)\n",
        "print(out.shape)\n",
        "i2= model.decode(out)\n",
        "print(i2.shape)\n",
        "\n"
      ],
      "metadata": {
        "colab": {
          "base_uri": "https://localhost:8080/"
        },
        "id": "k45F0_Fj8xoz",
        "outputId": "4fe91a14-0ec8-47c4-b611-bfd63b2224f1",
        "cellView": "form"
      },
      "execution_count": null,
      "outputs": [
        {
          "output_type": "stream",
          "name": "stdout",
          "text": [
            "6459104\n",
            "7757411\n",
            "torch.Size([4, 1024])\n",
            "torch.Size([4, 3, 64, 64])\n"
          ]
        }
      ]
    },
    {
      "cell_type": "code",
      "execution_count": null,
      "metadata": {
        "colab": {
          "base_uri": "https://localhost:8080/"
        },
        "id": "7EeVkT_Fk3hN",
        "outputId": "33fea7c7-6458-47d1-98d6-613da0f4c438"
      },
      "outputs": [
        {
          "name": "stdout",
          "output_type": "stream",
          "text": [
            "12288\n",
            "16384\n"
          ]
        }
      ],
      "source": [
        "print(3*64*64)\n",
        "print(256*8*8)\n"
      ]
    },
    {
      "cell_type": "code",
      "execution_count": null,
      "metadata": {
        "cellView": "form",
        "id": "a3gZpScIPrPw"
      },
      "outputs": [],
      "source": [
        "# @title jepa\n",
        "# https://openreview.net/pdf?id=BZ5a1r-kVsf\n",
        "import torch\n",
        "import torch.nn as nn\n",
        "import torch.nn.functional as F\n",
        "import torch.optim\n",
        "device = \"cuda\" if torch.cuda.is_available() else \"cpu\"\n",
        "# from torch.optim.swa_utils import AveragedModel, get_ema_multi_avg_fn, update_bn # https://pytorch.org/docs/stable/optim.html#putting-it-all-together-ema\n",
        "\n",
        "def off_diagonal(x):\n",
        "    n, m = x.shape\n",
        "    assert n == m\n",
        "    return x.flatten()[:-1].view(n - 1, n + 1)[:, 1:].flatten()\n",
        "\n",
        "class JEPA(nn.Module):\n",
        "    # def __init__(self, in_dim, d_model, dim_a, dim_z, dim_v):\n",
        "    def __init__(self, d_model, dim_v):\n",
        "        super(JEPA, self).__init__()\n",
        "        # d_list=[32, 64, 128, 256, 512, 1024]\n",
        "        d_list=[32, 64, d_model]\n",
        "        self.enc = nn.Sequential(\n",
        "            nn.Conv2d(3, d_list[0], 7, 2, 3), nn.BatchNorm2d(d_list[0]), nn.ReLU(), nn.MaxPool2d(2, 2),\n",
        "            nn.Conv2d(d_list[0], d_list[1], 5, 2, 2), nn.BatchNorm2d(d_list[1]), nn.ReLU(), nn.MaxPool2d(2, 2),\n",
        "            nn.Conv2d(d_list[1], d_list[2], 3, 2, 1), nn.ReLU(), nn.MaxPool2d(2, 2),\n",
        "            nn.AdaptiveMaxPool2d(1), nn.Flatten(start_dim=1),\n",
        "        )\n",
        "        self.deconv = nn.Sequential(\n",
        "            nn.Upsample(scale_factor=2), nn.ConvTranspose2d(d_list[2], d_list[1], 3, 2, 1, output_padding=1), nn.BatchNorm2d(d_list[1]), nn.ReLU(),\n",
        "            nn.Upsample(scale_factor=2), nn.ConvTranspose2d(d_list[1], d_list[0], 5, 2, 2, output_padding=1), nn.BatchNorm2d(d_list[0]), nn.ReLU(),\n",
        "            nn.Upsample(scale_factor=2), nn.ConvTranspose2d(d_list[0], 3, 7, 2, 3, output_padding=1), nn.Sigmoid(),\n",
        "        )\n",
        "        self.exp = nn.Sequential(\n",
        "            nn.Linear(d_model, dim_v), nn.ReLU(),\n",
        "            nn.Linear(dim_v, dim_v), nn.ReLU(),\n",
        "            nn.Linear(dim_v, dim_v),# nn.ReLU(),\n",
        "            )\n",
        "        self.d_model = d_model\n",
        "        # self.dim_z = dim_z\n",
        "        # self.sim_coeff=10.0 # 25.0 # λ\n",
        "        self.std_coeff=10.0 # 25.0 # µ\n",
        "        self.cov_coeff=1.0 # 1.0 # ν\n",
        "        # self.z=torch.zeros((1,dim_z),device=device)\n",
        "        # self.enc_ema = AveragedModel(self.enc, multi_avg_fn=get_ema_multi_avg_fn(0.999))\n",
        "        # self.exp_ema = AveragedModel(self.exp, multi_avg_fn=get_ema_multi_avg_fn(0.999))\n",
        "\n",
        "    def v_creg(self, x): # vx [batch_size, d_model]\n",
        "        x = x - x.mean(dim=0)\n",
        "        std_x = torch.sqrt(x.var(dim=0) + 0.0001) #ϵ=0.0001\n",
        "        std_loss = torch.mean(F.relu(1 - std_x)) / 2\n",
        "        batch_size, num_features = x.shape\n",
        "        cov_x = (x.T @ x) / (batch_size - 1) #C(Z)\n",
        "        cov_loss = off_diagonal(cov_x).pow_(2).sum().div(num_features)\n",
        "        return self.std_coeff * std_loss, self.cov_coeff * cov_loss\n",
        "        # return std_loss, cov_loss\n",
        "\n",
        "    # def argm(self, sx, a, sy):\n",
        "    #     batch=sx.size(dim=0)\n",
        "    #     z = nn.Parameter(torch.rand((batch,self.dim_z),device=device)*2 -1)#*self.dim_z**(-0.5) # 1/d^(1/2)\n",
        "    #     optim = torch.optim.SGD([z], lr=3e3)\n",
        "    #     lossfn = torch.nn.MSELoss()\n",
        "    #     sx, a, sy = sx.detach(), a.detach(), sy.detach()\n",
        "    #     num_steps = 10\n",
        "    #     for i in range(num_steps):\n",
        "    #         sxaz = torch.cat([sx, a, z], dim=-1)\n",
        "    #         sy_ = self.pred(sxaz)\n",
        "    #         # print(\"y_, y\",y_.shape, y.shape)\n",
        "    #         loss = lossfn(sy_, sy)\n",
        "    #         loss.backward()\n",
        "    #         optim.step()\n",
        "    #         optim.zero_grad()\n",
        "    #     if loss.item()>0.1: print(\"argm\",loss.item(), z[0].item())\n",
        "    #     return z#.detach()\n",
        "\n",
        "    def loss(self, x):\n",
        "        sx = self.enc(x)\n",
        "        std_loss, cov_loss = self.v_creg(self.exp(sx))\n",
        "        dec_loss = F.mse_loss(self.decode(sx.detach()), x)\n",
        "        return std_loss, cov_loss, dec_loss\n",
        "\n",
        "    def forward(self, x):\n",
        "        # print(\"fwd1\", x.shape)\n",
        "        x = self.encode(x)\n",
        "        # print(\"fwd2\", x.shape)\n",
        "        x = self.decode(x)\n",
        "        return x\n",
        "\n",
        "    def encode(self, x): return self.enc(x)#.squeeze()\n",
        "    def decode(self, x): return self.deconv(x.unsqueeze(-1).unsqueeze(-1))\n",
        "    # def decode(self, x): return self.deconv(x)\n",
        "\n",
        "\n",
        "d_model=128 # 128\n",
        "dim_v=32\n",
        "model = JEPA(d_model, dim_v).to(device)\n",
        "# x=torch.rand(1, in_dimx)\n",
        "# loss = model.loss(x,y)\n"
      ]
    },
    {
      "cell_type": "code",
      "execution_count": null,
      "metadata": {
        "colab": {
          "base_uri": "https://localhost:8080/",
          "height": 1000
        },
        "id": "wzzjgoXCnhT7",
        "outputId": "e849f8e1-7310-4e35-8fcb-0682a10a1f4f",
        "cellView": "form"
      },
      "outputs": [
        {
          "output_type": "stream",
          "name": "stdout",
          "text": [
            "0\n",
            "loss: 0.008896  [    0/ 1876]\n",
            "loss: 0.010319  [  187/ 1876]\n",
            "loss: 0.010404  [  374/ 1876]\n",
            "loss: 0.009668  [  561/ 1876]\n",
            "loss: 0.008735  [  748/ 1876]\n",
            "loss: 0.010444  [  935/ 1876]\n",
            "loss: 0.010564  [ 1122/ 1876]\n",
            "loss: 0.010900  [ 1309/ 1876]\n",
            "loss: 0.010713  [ 1496/ 1876]\n",
            "loss: 0.008549  [ 1683/ 1876]\n",
            "loss: 0.010278  [ 1870/ 1876]\n"
          ]
        },
        {
          "output_type": "stream",
          "name": "stderr",
          "text": [
            "WARNING:matplotlib.image:Clipping input data to the valid range for imshow with RGB data ([0..1] for floats or [0..255] for integers).\n"
          ]
        },
        {
          "output_type": "display_data",
          "data": {
            "text/plain": [
              "<Figure size 300x300 with 1 Axes>"
            ],
            "image/png": "[encoded data removed]"
          },
          "metadata": {}
        },
        {
          "output_type": "stream",
          "name": "stderr",
          "text": [
            "WARNING:matplotlib.image:Clipping input data to the valid range for imshow with RGB data ([0..1] for floats or [0..255] for integers).\n"
          ]
        },
        {
          "output_type": "display_data",
          "data": {
            "text/plain": [
              "<Figure size 300x300 with 1 Axes>"
            ],
            "image/png": "[encoded data removed]"
          },
          "metadata": {}
        },
        {
          "output_type": "stream",
          "name": "stdout",
          "text": [
            "1\n",
            "loss: 0.008389  [    0/ 1876]\n",
            "loss: 0.009712  [  187/ 1876]\n",
            "loss: 0.007170  [  374/ 1876]\n",
            "loss: 0.009200  [  561/ 1876]\n",
            "loss: 0.009704  [  748/ 1876]\n",
            "loss: 0.009625  [  935/ 1876]\n",
            "loss: 0.010513  [ 1122/ 1876]\n",
            "loss: 0.009330  [ 1309/ 1876]\n",
            "loss: 0.009477  [ 1496/ 1876]\n",
            "loss: 0.010999  [ 1683/ 1876]\n",
            "loss: 0.008599  [ 1870/ 1876]\n"
          ]
        },
        {
          "output_type": "stream",
          "name": "stderr",
          "text": [
            "WARNING:matplotlib.image:Clipping input data to the valid range for imshow with RGB data ([0..1] for floats or [0..255] for integers).\n"
          ]
        },
        {
          "output_type": "display_data",
          "data": {
            "text/plain": [
              "<Figure size 300x300 with 1 Axes>"
            ],
            "image/png": "[encoded data removed]"
          },
          "metadata": {}
        },
        {
          "output_type": "stream",
          "name": "stderr",
          "text": [
            "WARNING:matplotlib.image:Clipping input data to the valid range for imshow with RGB data ([0..1] for floats or [0..255] for integers).\n"
          ]
        },
        {
          "output_type": "display_data",
          "data": {
            "text/plain": [
              "<Figure size 300x300 with 1 Axes>"
            ],
            "image/png": "[encoded data removed]"
          },
          "metadata": {}
        },
        {
          "output_type": "stream",
          "name": "stdout",
          "text": [
            "2\n",
            "loss: 0.009498  [    0/ 1876]\n",
            "loss: 0.009479  [  187/ 1876]\n",
            "loss: 0.008644  [  374/ 1876]\n",
            "loss: 0.008932  [  561/ 1876]\n",
            "loss: 0.008707  [  748/ 1876]\n",
            "loss: 0.010275  [  935/ 1876]\n",
            "loss: 0.008830  [ 1122/ 1876]\n",
            "loss: 0.009917  [ 1309/ 1876]\n",
            "loss: 0.008395  [ 1496/ 1876]\n",
            "loss: 0.009992  [ 1683/ 1876]\n"
          ]
        },
        {
          "output_type": "stream",
          "name": "stderr",
          "text": [
            "WARNING:matplotlib.image:Clipping input data to the valid range for imshow with RGB data ([0..1] for floats or [0..255] for integers).\n"
          ]
        },
        {
          "output_type": "stream",
          "name": "stdout",
          "text": [
            "loss: 0.009959  [ 1870/ 1876]\n"
          ]
        },
        {
          "output_type": "display_data",
          "data": {
            "text/plain": [
              "<Figure size 300x300 with 1 Axes>"
            ],
            "image/png": "[encoded data removed]"
          },
          "metadata": {}
        },
        {
          "output_type": "stream",
          "name": "stderr",
          "text": [
            "WARNING:matplotlib.image:Clipping input data to the valid range for imshow with RGB data ([0..1] for floats or [0..255] for integers).\n"
          ]
        },
        {
          "output_type": "display_data",
          "data": {
            "text/plain": [
              "<Figure size 300x300 with 1 Axes>"
            ],
            "image/png": "[encoded data removed]"
          },
          "metadata": {}
        },
        {
          "output_type": "stream",
          "name": "stdout",
          "text": [
            "3\n",
            "loss: 0.007268  [    0/ 1876]\n",
            "loss: 0.009421  [  187/ 1876]\n",
            "loss: 0.009484  [  374/ 1876]\n",
            "loss: 0.007159  [  561/ 1876]\n",
            "loss: 0.010490  [  748/ 1876]\n",
            "loss: 0.009342  [  935/ 1876]\n",
            "loss: 0.008681  [ 1122/ 1876]\n",
            "loss: 0.009651  [ 1309/ 1876]\n",
            "loss: 0.009483  [ 1496/ 1876]\n",
            "loss: 0.007770  [ 1683/ 1876]\n"
          ]
        },
        {
          "output_type": "stream",
          "name": "stderr",
          "text": [
            "WARNING:matplotlib.image:Clipping input data to the valid range for imshow with RGB data ([0..1] for floats or [0..255] for integers).\n"
          ]
        },
        {
          "output_type": "stream",
          "name": "stdout",
          "text": [
            "loss: 0.008355  [ 1870/ 1876]\n"
          ]
        },
        {
          "output_type": "display_data",
          "data": {
            "text/plain": [
              "<Figure size 300x300 with 1 Axes>"
            ],
            "image/png": "[encoded data removed]"
          },
          "metadata": {}
        },
        {
          "output_type": "stream",
          "name": "stderr",
          "text": [
            "WARNING:matplotlib.image:Clipping input data to the valid range for imshow with RGB data ([0..1] for floats or [0..255] for integers).\n"
          ]
        },
        {
          "output_type": "display_data",
          "data": {
            "text/plain": [
              "<Figure size 300x300 with 1 Axes>"
            ],
            "image/png": "[encoded data removed]"
          },
          "metadata": {}
        },
        {
          "output_type": "stream",
          "name": "stdout",
          "text": [
            "4\n",
            "loss: 0.008459  [    0/ 1876]\n",
            "loss: 0.009947  [  187/ 1876]\n",
            "loss: 0.007759  [  374/ 1876]\n",
            "loss: 0.010902  [  561/ 1876]\n",
            "loss: 0.008395  [  748/ 1876]\n",
            "loss: 0.009070  [  935/ 1876]\n",
            "loss: 0.006511  [ 1122/ 1876]\n",
            "loss: 0.008108  [ 1309/ 1876]\n",
            "loss: 0.009000  [ 1496/ 1876]\n",
            "loss: 0.009505  [ 1683/ 1876]\n"
          ]
        },
        {
          "output_type": "stream",
          "name": "stderr",
          "text": [
            "WARNING:matplotlib.image:Clipping input data to the valid range for imshow with RGB data ([0..1] for floats or [0..255] for integers).\n"
          ]
        },
        {
          "output_type": "stream",
          "name": "stdout",
          "text": [
            "loss: 0.010592  [ 1870/ 1876]\n"
          ]
        },
        {
          "output_type": "display_data",
          "data": {
            "text/plain": [
              "<Figure size 300x300 with 1 Axes>"
            ],
            "image/png": "[encoded data removed]"
          },
          "metadata": {}
        },
        {
          "output_type": "stream",
          "name": "stderr",
          "text": [
            "WARNING:matplotlib.image:Clipping input data to the valid range for imshow with RGB data ([0..1] for floats or [0..255] for integers).\n"
          ]
        },
        {
          "output_type": "display_data",
          "data": {
            "text/plain": [
              "<Figure size 300x300 with 1 Axes>"
            ],
            "image/png": "[encoded data removed]"
          },
          "metadata": {}
        },
        {
          "output_type": "stream",
          "name": "stdout",
          "text": [
            "5\n",
            "loss: 0.007947  [    0/ 1876]\n",
            "loss: 0.010789  [  187/ 1876]\n",
            "loss: 0.009393  [  374/ 1876]\n",
            "loss: 0.009180  [  561/ 1876]\n",
            "loss: 0.009921  [  748/ 1876]\n",
            "loss: 0.009529  [  935/ 1876]\n",
            "loss: 0.008402  [ 1122/ 1876]\n",
            "loss: 0.008285  [ 1309/ 1876]\n",
            "loss: 0.009393  [ 1496/ 1876]\n",
            "loss: 0.008167  [ 1683/ 1876]\n"
          ]
        },
        {
          "output_type": "stream",
          "name": "stderr",
          "text": [
            "WARNING:matplotlib.image:Clipping input data to the valid range for imshow with RGB data ([0..1] for floats or [0..255] for integers).\n"
          ]
        },
        {
          "output_type": "stream",
          "name": "stdout",
          "text": [
            "loss: 0.010057  [ 1870/ 1876]\n"
          ]
        },
        {
          "output_type": "display_data",
          "data": {
            "text/plain": [
              "<Figure size 300x300 with 1 Axes>"
            ],
            "image/png": "[encoded data removed]"
          },
          "metadata": {}
        },
        {
          "output_type": "stream",
          "name": "stderr",
          "text": [
            "WARNING:matplotlib.image:Clipping input data to the valid range for imshow with RGB data ([0..1] for floats or [0..255] for integers).\n"
          ]
        },
        {
          "output_type": "display_data",
          "data": {
            "text/plain": [
              "<Figure size 300x300 with 1 Axes>"
            ],
            "image/png": "[encoded data removed]"
          },
          "metadata": {}
        },
        {
          "output_type": "stream",
          "name": "stdout",
          "text": [
            "6\n",
            "loss: 0.009097  [    0/ 1876]\n",
            "loss: 0.008686  [  187/ 1876]\n",
            "loss: 0.008381  [  374/ 1876]\n",
            "loss: 0.010398  [  561/ 1876]\n",
            "loss: 0.007656  [  748/ 1876]\n",
            "loss: 0.007503  [  935/ 1876]\n",
            "loss: 0.007974  [ 1122/ 1876]\n",
            "loss: 0.008277  [ 1309/ 1876]\n",
            "loss: 0.007380  [ 1496/ 1876]\n",
            "loss: 0.010890  [ 1683/ 1876]\n"
          ]
        },
        {
          "output_type": "stream",
          "name": "stderr",
          "text": [
            "WARNING:matplotlib.image:Clipping input data to the valid range for imshow with RGB data ([0..1] for floats or [0..255] for integers).\n"
          ]
        },
        {
          "output_type": "stream",
          "name": "stdout",
          "text": [
            "loss: 0.007332  [ 1870/ 1876]\n"
          ]
        },
        {
          "output_type": "display_data",
          "data": {
            "text/plain": [
              "<Figure size 300x300 with 1 Axes>"
            ],
            "image/png": "[encoded data removed]"
          },
          "metadata": {}
        },
        {
          "output_type": "stream",
          "name": "stderr",
          "text": [
            "WARNING:matplotlib.image:Clipping input data to the valid range for imshow with RGB data ([0..1] for floats or [0..255] for integers).\n"
          ]
        },
        {
          "output_type": "display_data",
          "data": {
            "text/plain": [
              "<Figure size 300x300 with 1 Axes>"
            ],
            "image/png": "[encoded data removed]"
          },
          "metadata": {}
        },
        {
          "output_type": "stream",
          "name": "stdout",
          "text": [
            "7\n",
            "loss: 0.008482  [    0/ 1876]\n",
            "loss: 0.008156  [  187/ 1876]\n",
            "loss: 0.009592  [  374/ 1876]\n",
            "loss: 0.008865  [  561/ 1876]\n",
            "loss: 0.008346  [  748/ 1876]\n",
            "loss: 0.009049  [  935/ 1876]\n",
            "loss: 0.008645  [ 1122/ 1876]\n",
            "loss: 0.009722  [ 1309/ 1876]\n",
            "loss: 0.009540  [ 1496/ 1876]\n",
            "loss: 0.009661  [ 1683/ 1876]\n"
          ]
        },
        {
          "output_type": "stream",
          "name": "stderr",
          "text": [
            "WARNING:matplotlib.image:Clipping input data to the valid range for imshow with RGB data ([0..1] for floats or [0..255] for integers).\n"
          ]
        },
        {
          "output_type": "stream",
          "name": "stdout",
          "text": [
            "loss: 0.009091  [ 1870/ 1876]\n"
          ]
        },
        {
          "output_type": "display_data",
          "data": {
            "text/plain": [
              "<Figure size 300x300 with 1 Axes>"
            ],
            "image/png": "[encoded data removed]"
          },
          "metadata": {}
        },
        {
          "output_type": "stream",
          "name": "stderr",
          "text": [
            "WARNING:matplotlib.image:Clipping input data to the valid range for imshow with RGB data ([0..1] for floats or [0..255] for integers).\n"
          ]
        },
        {
          "output_type": "display_data",
          "data": {
            "text/plain": [
              "<Figure size 300x300 with 1 Axes>"
            ],
            "image/png": "[encoded data removed]"
          },
          "metadata": {}
        },
        {
          "output_type": "stream",
          "name": "stdout",
          "text": [
            "8\n",
            "loss: 0.009121  [    0/ 1876]\n",
            "loss: 0.006985  [  187/ 1876]\n",
            "loss: 0.008990  [  374/ 1876]\n",
            "loss: 0.008890  [  561/ 1876]\n",
            "loss: 0.007748  [  748/ 1876]\n",
            "loss: 0.008359  [  935/ 1876]\n",
            "loss: 0.008696  [ 1122/ 1876]\n",
            "loss: 0.008657  [ 1309/ 1876]\n",
            "loss: 0.008287  [ 1496/ 1876]\n",
            "loss: 0.009914  [ 1683/ 1876]\n",
            "loss: 0.007068  [ 1870/ 1876]\n"
          ]
        },
        {
          "output_type": "stream",
          "name": "stderr",
          "text": [
            "WARNING:matplotlib.image:Clipping input data to the valid range for imshow with RGB data ([0..1] for floats or [0..255] for integers).\n"
          ]
        },
        {
          "output_type": "display_data",
          "data": {
            "text/plain": [
              "<Figure size 300x300 with 1 Axes>"
            ],
            "image/png": "[encoded data removed]"
          },
          "metadata": {}
        },
        {
          "output_type": "stream",
          "name": "stderr",
          "text": [
            "WARNING:matplotlib.image:Clipping input data to the valid range for imshow with RGB data ([0..1] for floats or [0..255] for integers).\n"
          ]
        },
        {
          "output_type": "display_data",
          "data": {
            "text/plain": [
              "<Figure size 300x300 with 1 Axes>"
            ],
            "image/png": "[encoded data removed]"
          },
          "metadata": {}
        },
        {
          "output_type": "stream",
          "name": "stdout",
          "text": [
            "9\n",
            "loss: 0.008311  [    0/ 1876]\n",
            "loss: 0.007594  [  187/ 1876]\n",
            "loss: 0.009056  [  374/ 1876]\n",
            "loss: 0.008921  [  561/ 1876]\n",
            "loss: 0.008673  [  748/ 1876]\n",
            "loss: 0.008917  [  935/ 1876]\n",
            "loss: 0.009853  [ 1122/ 1876]\n",
            "loss: 0.008173  [ 1309/ 1876]\n",
            "loss: 0.007476  [ 1496/ 1876]\n",
            "loss: 0.008260  [ 1683/ 1876]\n"
          ]
        },
        {
          "output_type": "stream",
          "name": "stderr",
          "text": [
            "WARNING:matplotlib.image:Clipping input data to the valid range for imshow with RGB data ([0..1] for floats or [0..255] for integers).\n"
          ]
        },
        {
          "output_type": "stream",
          "name": "stdout",
          "text": [
            "loss: 0.008952  [ 1870/ 1876]\n"
          ]
        },
        {
          "output_type": "display_data",
          "data": {
            "text/plain": [
              "<Figure size 300x300 with 1 Axes>"
            ],
            "image/png": "[encoded data removed]"
          },
          "metadata": {}
        },
        {
          "output_type": "stream",
          "name": "stderr",
          "text": [
            "WARNING:matplotlib.image:Clipping input data to the valid range for imshow with RGB data ([0..1] for floats or [0..255] for integers).\n"
          ]
        },
        {
          "output_type": "display_data",
          "data": {
            "text/plain": [
              "<Figure size 300x300 with 1 Axes>"
            ],
            "image/png": "[encoded data removed]"
          },
          "metadata": {}
        }
      ],
      "source": [
        "# @title train autoencoder\n",
        "# optim = torch.optim.AdamW(model.parameters(), 1e-3, (0.9, 0.95)) # 256 lr = 1e-3\n",
        "# optim = torch.optim.AdamW(model.parameters(), 1e-4, (0.9, 0.95)) # lr = 1e-3\n",
        "# optim = torch.optim.AdamW(model.parameters(), 1e-3, (0.9, 0.95)) # lr = 1e-3\n",
        "\n",
        "def train(dataloader, model, optimizer, scheduler=None, verbose=True):\n",
        "    size = len(dataloader)\n",
        "    model.train()\n",
        "    for batch, state in enumerate(dataloader):\n",
        "        state = state.to(device)\n",
        "        # sx_ = agent.jepa.enc(state)\n",
        "        # state_ = agent.conv(sx_)\n",
        "        state_ = model(state)\n",
        "        # # s1,s2,state_ = model(state)\n",
        "        loss = F.mse_loss(state_, state)\n",
        "        # std_loss, cov_loss, dec_loss = model.loss(state)\n",
        "        # loss = std_loss + cov_loss + dec_loss\n",
        "        loss.backward()\n",
        "        optimizer.step()\n",
        "        optimizer.zero_grad()\n",
        "        if scheduler is not None: scheduler.step()\n",
        "        # print(\"loss std,cov,dec\", std_loss.item(), cov_loss.item(), dec_loss.item())\n",
        "        try: wandb.log({\"loss\": loss.item()})\n",
        "        # try: wandb.log({\"std\": std_loss.item(), \"cov\": cov_loss.item(), \"dec\": dec_loss.item()})\n",
        "        except: pass\n",
        "        if batch % (size//10) == 0:\n",
        "            loss, current = loss.item(), batch\n",
        "            if verbose: print(f\"loss: {loss:>7f}  [{current:>5d}/{size:>5d}]\")\n",
        "\n",
        "\n",
        "for i in range(10):\n",
        "    print(i)\n",
        "    # print(optim.param_groups[0]['lr'])\n",
        "    train(train_loader,model,optim)\n",
        "    state = buffer[12][40][0]\n",
        "    transform = transforms.Compose([transforms.ToTensor(), transforms.Normalize((0.5, 0.5, 0.5), (0.5, 0.5, 0.5))])\n",
        "    state = transform(state).unsqueeze(0).to(device)[0]\n",
        "    # print(state.shape)\n",
        "    # sx_ = model.encode(state.unsqueeze(0))\n",
        "    # # print(sx_.shape)\n",
        "    # out= model.decode(sx_.unsqueeze(0)).squeeze(0)\n",
        "    out =model(state.unsqueeze(0)).squeeze(0)\n",
        "    # out= model.decode(sx_)\n",
        "    # print(out, state)\n",
        "    # print(out.shape)\n",
        "    imshow(state.detach().cpu())\n",
        "    imshow(out.detach().cpu())\n",
        "    # imshow(out[0].squeeze(0).detach().cpu())\n",
        "    # imshow(out[1].squeeze(0).detach().cpu())\n",
        "    # imshow(out[2].squeeze(0).detach().cpu())\n"
      ]
    },
    {
      "cell_type": "code",
      "execution_count": null,
      "metadata": {
        "cellView": "form",
        "id": "b-zq1HgoMSH1"
      },
      "outputs": [],
      "source": [
        "# @title autoencoder down\n",
        "\n",
        "class autoencoder(torch.nn.Module):\n",
        "    def __init__(self):\n",
        "        super().__init__()\n",
        "        d_list=[64, 512, 4096]\n",
        "        # r_list=[(360,640), (240,426), (144,256)] # https://en.wikipedia.org/wiki/Low-definition_television\n",
        "        self.enc = nn.Sequential( # nn.Conv2d(in_channels, out_channels, kernel_size=1, stride=1, padding=0), nn.ReLU(), nn.MaxPool2d(kernel_size=2, stride=2),\n",
        "            nn.Conv2d(3, d_list[0], 7, 2, 3), nn.BatchNorm2d(d_list[0]), nn.ReLU(), nn.MaxPool2d(2, 2),\n",
        "            nn.Conv2d(d_list[0], d_list[1], 5, 2, 2), nn.BatchNorm2d(d_list[1]), nn.ReLU(), nn.MaxPool2d(2, 2),\n",
        "            nn.Conv2d(d_list[1], d_list[2], 3, 2, 1), nn.ReLU(), nn.MaxPool2d(2, 2),\n",
        "            nn.AdaptiveMaxPool2d(1), # AdaptiveAvgPool2d AdaptiveMaxPool2d\n",
        "            nn.Flatten(start_dim=1),\n",
        "            # nn.Linear()\n",
        "        )\n",
        "\n",
        "        self.deconv = nn.Sequential( # 'nearest', 'linear', 'bilinear', 'bicubic', 'trilinear'. # https://pytorch.org/docs/stable/generated/torch.nn.Upsample.html\n",
        "            nn.Upsample(scale_factor=2), nn.ConvTranspose2d(d_list[2], d_list[1], 3, 2, 1, output_padding=1), nn.BatchNorm2d(d_list[1]), nn.ReLU(),\n",
        "            nn.Upsample(scale_factor=2), nn.ConvTranspose2d(d_list[1], d_list[0], 5, 2, 2, output_padding=1), nn.BatchNorm2d(d_list[0]), nn.ReLU(),\n",
        "            nn.Upsample(scale_factor=2), nn.ConvTranspose2d(d_list[0], 3, 7, 2, 3, output_padding=1), nn.Sigmoid(),\n",
        "        )\n",
        "\n",
        "    def forward(self, x):\n",
        "        x = self.encode(x)\n",
        "        x = self.decode(x)\n",
        "        return x\n",
        "\n",
        "    def encode(self, x): return self.enc(x).squeeze()\n",
        "    def decode(self, x): return self.deconv(x.unsqueeze(-1).unsqueeze(-1))\n",
        "    # def decode(self, x): return self.deconv(x)\n",
        "\n",
        "\n",
        "device = \"cuda\" if torch.cuda.is_available() else \"cpu\"\n",
        "model = autoencoder().to(device)\n",
        "print(sum(p.numel() for p in model.enc.parameters() if p.requires_grad)) # res 2775104, convpool 2951424, stride 2957315\n",
        "print(sum(p.numel() for p in model.deconv.parameters() if p.requires_grad)) # 2957315\n",
        "\n",
        "input = torch.rand((4,3,64,64), device=device)\n",
        "out = model.encode(input)\n",
        "print(out.shape)\n",
        "i2= model.decode(out)\n",
        "print(i2.shape)\n",
        "\n"
      ]
    },
    {
      "cell_type": "code",
      "execution_count": null,
      "metadata": {
        "id": "6S7-iCGE13Yb"
      },
      "outputs": [],
      "source": [
        "import torch\n",
        "import torch_xla\n",
        "import torch_xla.core.xla_model as xm\n",
        "# https://pytorch.org/xla/release/2.3/index.html\n",
        "# https://github.com/pytorch/xla\n",
        "\n",
        "xm.xla_device()\n",
        "\n",
        "device = \"cuda\" if torch.cuda.is_available() else \"cpu\"\n",
        "\n",
        "\n",
        "\n",
        "xm.mark_step()\n",
        "xm.optimizer_step(optimizer)\n",
        "\n"
      ]
    },
    {
      "cell_type": "markdown",
      "metadata": {
        "id": "yIlxDkaGuRW3"
      },
      "source": [
        "### trash"
      ]
    },
    {
      "cell_type": "code",
      "execution_count": null,
      "metadata": {
        "cellView": "form",
        "id": "YciLCug9_2pN"
      },
      "outputs": [],
      "source": [
        "# @title vit\n",
        "# https://arxiv.org/pdf/2010.11929.pdf\n",
        "import torch\n",
        "import torch.nn as nn\n",
        "from torchvision import models\n",
        "# https://pytorch.org/vision/main/models/vision_transformer.html\n",
        "# https://pytorch.org/vision/main/models/generated/torchvision.models.vit_b_16.html#torchvision.models.vit_b_16\n",
        "# model = models.vit_l_16(weights='DEFAULT') # small vit_b_16 vit_b_32 vit_l_16 vit_l_32 vit_h_14 big\n",
        "# # VisionTransformer(image_size, patch_size, num_layers, num_heads, hidden_dim, mlp_dim)\n",
        "# num_ftrs = model.heads.head.in_features\n",
        "# # num_ftrs = model.heads[-1].in_features\n",
        "# model.heads = nn.Sequential(\n",
        "#     # nn.Dropout(0.2),\n",
        "#     nn.Linear(num_ftrs, 6, bias=False),\n",
        "#     nn.Softmax(dim=1),\n",
        "#     )\n",
        "\n",
        "\n",
        "!pip install timm\n",
        "# https://github.com/huggingface/pytorch-image-models/issues/908\n",
        "import timm\n",
        "# model = timm.create_model('vit_base_patch16_224', pretrained=True)\n",
        "model = timm.create_model('vit_base_patch16_224', img_size=(400, 640), pretrained=True)\n",
        "# [print(x) for x in timm.list_models('vit*',pretrained=True)]\n",
        "# https://huggingface.co/google/vit-base-patch16-224\n",
        "# https://github.com/huggingface/pytorch-image-models/blob/main/timm/models/vision_transformer.py\n",
        "# vit_base_patch16_224 compile,no ckpt # patch_size=16, embed_dim=768, depth=12, num_heads=12\n",
        "# vit_base_patch16_384\n",
        "# vit_large_patch16_224 explodesgpu # patch_size=16, embed_dim=1024, depth=24, num_heads=16\n",
        "# vit_large_patch16_384 # patch_size=16, embed_dim=1024, depth=24, num_heads=16\n",
        "\n",
        "# or fine tune huge\n",
        "# vit_large_patch14_224 # patch_size=16, embed_dim=1024, depth=24, num_heads=16\n",
        "# vit_large_patch16_384\n",
        "\n",
        "\n",
        "num_ftrs = model.head.in_features\n",
        "model.head = nn.Sequential(\n",
        "    nn.Linear(num_ftrs, 6, bias=False),\n",
        "    nn.Softmax(dim=1),\n",
        "    )\n",
        "# model.set_grad_checkpointing()\n",
        "\n",
        "# print(model.patch_embed.grid_size) # (25, 40)\n",
        "# print(model.pos_embed.shape) # [1, 1001, 768]\n",
        "# https://github.com/rwightman/pytorch-image-models/blob/master/timm/models/vision_transformer.py\n",
        "\n",
        "# print(model)\n",
        "\n",
        "device = torch.device('cuda' if torch.cuda.is_available() else 'cpu')\n",
        "# model = model.to(device)\n",
        "model = torch.compile(model.to(device))\n",
        "# model = torch.compile(model.to(device),mode='reduce-overhead')\n",
        "# model = torch.compile(model.to(device),mode='max-autotune')\n",
        "\n",
        "# vit_base_patch16_224 batch16 maxcompile nockpt gradacc lr1e-5,1e-4\n"
      ]
    },
    {
      "cell_type": "code",
      "execution_count": null,
      "metadata": {
        "colab": {
          "base_uri": "https://localhost:8080/",
          "height": 333
        },
        "id": "NT1oOipu8IwG",
        "outputId": "f6d0b434-08e3-4c3a-b18e-3f89a46a1ff9"
      },
      "outputs": [
        {
          "name": "stderr",
          "output_type": "stream",
          "text": [
            "WARNING:matplotlib.image:Clipping input data to the valid range for imshow with RGB data ([0..1] for floats or [0..255] for integers).\n"
          ]
        },
        {
          "data": {
            "image/png": "[encoded data removed]",
            "text/plain": [
              "<Figure size 300x300 with 1 Axes>"
            ]
          },
          "metadata": {},
          "output_type": "display_data"
        }
      ],
      "source": [
        "imshow(state.detach().cpu()-out.detach().cpu())"
      ]
    },
    {
      "cell_type": "code",
      "execution_count": null,
      "metadata": {
        "cellView": "form",
        "colab": {
          "base_uri": "https://localhost:8080/"
        },
        "id": "06ZdYB-GTyIk",
        "outputId": "81b0fb4e-9cb4-4ca9-c95b-89d610b8a949"
      },
      "outputs": [
        {
          "name": "stdout",
          "output_type": "stream",
          "text": [
            "[torch.Size([4, 64, 16, 16]), torch.Size([4, 512, 4, 4]), torch.Size([4, 4096])]\n",
            "[torch.Size([4, 3, 64, 64]), torch.Size([4, 3, 64, 64]), torch.Size([4, 3, 64, 64])]\n"
          ]
        }
      ],
      "source": [
        "# @title autoencoder split\n",
        "\n",
        "class autoencoder(torch.nn.Module):\n",
        "    def __init__(self):\n",
        "        super().__init__()\n",
        "        d_list=[64, 512, 4096]\n",
        "        # r_list=[(360,640), (240,426), (144,256)] # https://en.wikipedia.org/wiki/Low-definition_television\n",
        "        self.enc1 = nn.Sequential(nn.Conv2d(3, d_list[0], 7, 2, 3), nn.BatchNorm2d(d_list[0]), nn.ReLU(), nn.MaxPool2d(2, 2),)\n",
        "        self.enc2 = nn.Sequential(nn.Conv2d(d_list[0], d_list[1], 5, 2, 2), nn.BatchNorm2d(d_list[1]), nn.ReLU(), nn.MaxPool2d(2, 2),)\n",
        "        self.enc3 = nn.Sequential(nn.Conv2d(d_list[1], d_list[2], 3, 2, 1), nn.ReLU(), nn.MaxPool2d(2, 2),\n",
        "            nn.AdaptiveMaxPool2d(1), # AdaptiveAvgPool2d AdaptiveMaxPool2d\n",
        "            nn.Flatten(start_dim=1),\n",
        "            # nn.Linear()\n",
        "        )\n",
        "\n",
        "        # self.deconv1 = nn.Sequential(nn.Upsample(scale_factor=2), nn.ConvTranspose2d(d_list[2], d_list[1], 3, 2, 1, output_padding=1), nn.BatchNorm2d(d_list[1]), nn.ReLU(),)\n",
        "        # self.deconv2 = nn.Sequential(nn.Upsample(scale_factor=2), nn.ConvTranspose2d(d_list[1], d_list[0], 5, 2, 2, output_padding=1), nn.BatchNorm2d(d_list[0]), nn.ReLU(),)\n",
        "        # self.deconv3 = nn.Sequential(nn.Upsample(scale_factor=2), nn.ConvTranspose2d(d_list[0], 3, 7, 2, 3, output_padding=1), nn.Sigmoid(),)\n",
        "        self.deconv1 = nn.Sequential(nn.Upsample(scale_factor=2, mode='bilinear'), nn.ConvTranspose2d(d_list[2], d_list[1], 3, 2, 1, output_padding=1), nn.BatchNorm2d(d_list[1]), nn.ReLU(),)\n",
        "        self.deconv2 = nn.Sequential(nn.Upsample(scale_factor=2, mode='bilinear'), nn.ConvTranspose2d(d_list[1], d_list[0], 5, 2, 2, output_padding=1), nn.BatchNorm2d(d_list[0]), nn.ReLU(),)\n",
        "        self.deconv3 = nn.Sequential(nn.Upsample(scale_factor=2, mode='bilinear'), nn.ConvTranspose2d(d_list[0], 3, 7, 2, 3, output_padding=1), nn.Sigmoid(),)\n",
        "\n",
        "    def forward(self, x):\n",
        "        x = self.encode(x)\n",
        "        x = self.decode(x)\n",
        "        return x[-1]\n",
        "\n",
        "    def encode(self, x):\n",
        "        x1=self.enc1(x)\n",
        "        x2=self.enc2(x1)\n",
        "        x3=self.enc3(x2)\n",
        "        # return self.enc(x).squeeze()\n",
        "        return x1,x2,x3\n",
        "    def decode(self, x123):\n",
        "        x1,x2,x3=x123\n",
        "        x3=x3.unsqueeze(-1).unsqueeze(-1)\n",
        "        o3=self.deconv3(self.deconv2(self.deconv1(x3)))\n",
        "        o2=self.deconv3(self.deconv2(x2))\n",
        "        o1=self.deconv3(x1)\n",
        "        return o1,o2,o3\n",
        "        # return self.deconv(x.unsqueeze(-1).unsqueeze(-1))\n",
        "    # def decode(self, x): return self.deconv(x)\n",
        "\n",
        "\n",
        "device = \"cuda\" if torch.cuda.is_available() else \"cpu\"\n",
        "model = autoencoder().to(device)\n",
        "# print(sum(p.numel() for p in model.enc.parameters() if p.requires_grad)) # res 2775104, convpool 2951424, stride 2957315\n",
        "# print(sum(p.numel() for p in model.deconv.parameters() if p.requires_grad)) # 2957315\n",
        "\n",
        "input = torch.rand((4,3,64,64), device=device)\n",
        "out = model.encode(input)\n",
        "# print(out.shape)\n",
        "print([o.shape for o in out])\n",
        "i2= model.decode(out)\n",
        "# print(i2.shape)\n",
        "print([i.shape for i in i2])\n",
        "\n"
      ]
    },
    {
      "cell_type": "code",
      "execution_count": null,
      "metadata": {
        "colab": {
          "base_uri": "https://localhost:8080/",
          "height": 643
        },
        "id": "Zf6gooDVfiIR",
        "outputId": "70736c04-d8e4-47f3-f58d-b7d1cf60cff5"
      },
      "outputs": [
        {
          "name": "stderr",
          "output_type": "stream",
          "text": [
            "WARNING:matplotlib.image:Clipping input data to the valid range for imshow with RGB data ([0..1] for floats or [0..255] for integers).\n"
          ]
        },
        {
          "name": "stdout",
          "output_type": "stream",
          "text": [
            "torch.Size([3, 16, 16])\n"
          ]
        },
        {
          "data": {
            "image/png": "[encoded data removed]",
            "text/plain": [
              "<Figure size 300x300 with 1 Axes>"
            ]
          },
          "metadata": {},
          "output_type": "display_data"
        },
        {
          "name": "stderr",
          "output_type": "stream",
          "text": [
            "WARNING:matplotlib.image:Clipping input data to the valid range for imshow with RGB data ([0..1] for floats or [0..255] for integers).\n"
          ]
        },
        {
          "data": {
            "image/png": "[encoded data removed]",
            "text/plain": [
              "<Figure size 300x300 with 1 Axes>"
            ]
          },
          "metadata": {},
          "output_type": "display_data"
        }
      ],
      "source": [
        "epochs=30\n",
        "# num_batches=len(train_loader)\n",
        "# total_steps=int(num_batches*epochs)\n",
        "# max_lr=1e-4\n",
        "# min_lr=1e-7\n",
        "# # max_lr* gamma^total_steps = min_lr\n",
        "# gamma = np.exp(np.log(min_lr/max_lr)/total_steps)\n",
        "# print(gamma)\n",
        "# scheduler = torch.optim.lr_scheduler.ExponentialLR(optim, gamma=gamma) # 0.75(20)-0.9(100)\n",
        "# train(train_loader,model,optim,scheduler)\n",
        "\n",
        "state = buffer[7][80][0]\n",
        "transform = transforms.Compose([transforms.ToTensor(), transforms.Normalize((0.5, 0.5, 0.5), (0.5, 0.5, 0.5))])\n",
        "state = transform(state).unsqueeze(0).to(device)[0]\n",
        "# print(state.shape)\n",
        "pool = nn.AdaptiveMaxPool2d(16) # AdaptiveAvgPool2d AdaptiveMaxPool2d\n",
        "# sx_ = model.encode(state.unsqueeze(0))\n",
        "# # print(sx_.shape)\n",
        "# out= model.decode(sx_.unsqueeze(0)).squeeze(0)\n",
        "out = pool(state)\n",
        "\n",
        "print(out.shape)\n",
        "imshow(state.detach().cpu())\n",
        "imshow(out.detach().cpu())\n",
        "\n"
      ]
    },
    {
      "cell_type": "code",
      "source": [
        "# import torcheval\n",
        "# from torcheval.metrics import StructuralSimilarity, FrechetInceptionDistance\n",
        "# # https://pytorch.org/torcheval/main/torcheval.metrics.html#image-metrics\n",
        "# loss_fn = torcheval.metrics.StructuralSimilarity()\n",
        "# loss_fn = torcheval.metrics.FrechetInceptionDistance()\n",
        "# from torchmetrics.image import StructuralSimilarityIndexMeasure # no backward\n",
        "# from ignite.metrics import SSIM\n",
        "# loss = SSIM(state_, state)\n",
        "# loss = FrechetInceptionDistance(state_, state)"
      ],
      "metadata": {
        "id": "qqkpV4uwV8Gp"
      },
      "execution_count": null,
      "outputs": []
    }
  ],
  "metadata": {
    "colab": {
      "provenance": [],
      "include_colab_link": true
    },
    "kernelspec": {
      "display_name": "Python 3",
      "name": "python3"
    },
    "language_info": {
      "name": "python"
    },
    "widgets": {
      "application/vnd.jupyter.widget-state+json": {
        "e8a4d4ea2091473da1e6db818f305bdd": {
          "model_module": "@jupyter-widgets/controls",
          "model_name": "VBoxModel",
          "model_module_version": "1.5.0",
          "state": {
            "_dom_classes": [],
            "_model_module": "@jupyter-widgets/controls",
            "_model_module_version": "1.5.0",
            "_model_name": "VBoxModel",
            "_view_count": null,
            "_view_module": "@jupyter-widgets/controls",
            "_view_module_version": "1.5.0",
            "_view_name": "VBoxView",
            "box_style": "",
            "children": [
              "IPY_MODEL_a49b5834c94e4a73a057054a8c6e390e",
              "IPY_MODEL_5d7b3965d45b41adad436025dd95f13c"
            ],
            "layout": "IPY_MODEL_d5eef792e4e64ef1a6d057498d72a29d"
          }
        },
        "a49b5834c94e4a73a057054a8c6e390e": {
          "model_module": "@jupyter-widgets/controls",
          "model_name": "LabelModel",
          "model_module_version": "1.5.0",
          "state": {
            "_dom_classes": [],
            "_model_module": "@jupyter-widgets/controls",
            "_model_module_version": "1.5.0",
            "_model_name": "LabelModel",
            "_view_count": null,
            "_view_module": "@jupyter-widgets/controls",
            "_view_module_version": "1.5.0",
            "_view_name": "LabelView",
            "description": "",
            "description_tooltip": null,
            "layout": "IPY_MODEL_c19afb5d6f8240a488a94784f8013be2",
            "placeholder": "​",
            "style": "IPY_MODEL_ae96bc2c0cc3452f9ec98a5b2d9eb397",
            "value": "0.019 MB of 0.019 MB uploaded\r"
          }
        },
        "5d7b3965d45b41adad436025dd95f13c": {
          "model_module": "@jupyter-widgets/controls",
          "model_name": "FloatProgressModel",
          "model_module_version": "1.5.0",
          "state": {
            "_dom_classes": [],
            "_model_module": "@jupyter-widgets/controls",
            "_model_module_version": "1.5.0",
            "_model_name": "FloatProgressModel",
            "_view_count": null,
            "_view_module": "@jupyter-widgets/controls",
            "_view_module_version": "1.5.0",
            "_view_name": "ProgressView",
            "bar_style": "",
            "description": "",
            "description_tooltip": null,
            "layout": "IPY_MODEL_cb1f2744a821408ea86a9ae3f38650bb",
            "max": 1,
            "min": 0,
            "orientation": "horizontal",
            "style": "IPY_MODEL_1cceb38b0dd04095a5e8d02194eb4746",
            "value": 1
          }
        },
        "d5eef792e4e64ef1a6d057498d72a29d": {
          "model_module": "@jupyter-widgets/base",
          "model_name": "LayoutModel",
          "model_module_version": "1.2.0",
          "state": {
            "_model_module": "@jupyter-widgets/base",
            "_model_module_version": "1.2.0",
            "_model_name": "LayoutModel",
            "_view_count": null,
            "_view_module": "@jupyter-widgets/base",
            "_view_module_version": "1.2.0",
            "_view_name": "LayoutView",
            "align_content": null,
            "align_items": null,
            "align_self": null,
            "border": null,
            "bottom": null,
            "display": null,
            "flex": null,
            "flex_flow": null,
            "grid_area": null,
            "grid_auto_columns": null,
            "grid_auto_flow": null,
            "grid_auto_rows": null,
            "grid_column": null,
            "grid_gap": null,
            "grid_row": null,
            "grid_template_areas": null,
            "grid_template_columns": null,
            "grid_template_rows": null,
            "height": null,
            "justify_content": null,
            "justify_items": null,
            "left": null,
            "margin": null,
            "max_height": null,
            "max_width": null,
            "min_height": null,
            "min_width": null,
            "object_fit": null,
            "object_position": null,
            "order": null,
            "overflow": null,
            "overflow_x": null,
            "overflow_y": null,
            "padding": null,
            "right": null,
            "top": null,
            "visibility": null,
            "width": null
          }
        },
        "c19afb5d6f8240a488a94784f8013be2": {
          "model_module": "@jupyter-widgets/base",
          "model_name": "LayoutModel",
          "model_module_version": "1.2.0",
          "state": {
            "_model_module": "@jupyter-widgets/base",
            "_model_module_version": "1.2.0",
            "_model_name": "LayoutModel",
            "_view_count": null,
            "_view_module": "@jupyter-widgets/base",
            "_view_module_version": "1.2.0",
            "_view_name": "LayoutView",
            "align_content": null,
            "align_items": null,
            "align_self": null,
            "border": null,
            "bottom": null,
            "display": null,
            "flex": null,
            "flex_flow": null,
            "grid_area": null,
            "grid_auto_columns": null,
            "grid_auto_flow": null,
            "grid_auto_rows": null,
            "grid_column": null,
            "grid_gap": null,
            "grid_row": null,
            "grid_template_areas": null,
            "grid_template_columns": null,
            "grid_template_rows": null,
            "height": null,
            "justify_content": null,
            "justify_items": null,
            "left": null,
            "margin": null,
            "max_height": null,
            "max_width": null,
            "min_height": null,
            "min_width": null,
            "object_fit": null,
            "object_position": null,
            "order": null,
            "overflow": null,
            "overflow_x": null,
            "overflow_y": null,
            "padding": null,
            "right": null,
            "top": null,
            "visibility": null,
            "width": null
          }
        },
        "ae96bc2c0cc3452f9ec98a5b2d9eb397": {
          "model_module": "@jupyter-widgets/controls",
          "model_name": "DescriptionStyleModel",
          "model_module_version": "1.5.0",
          "state": {
            "_model_module": "@jupyter-widgets/controls",
            "_model_module_version": "1.5.0",
            "_model_name": "DescriptionStyleModel",
            "_view_count": null,
            "_view_module": "@jupyter-widgets/base",
            "_view_module_version": "1.2.0",
            "_view_name": "StyleView",
            "description_width": ""
          }
        },
        "cb1f2744a821408ea86a9ae3f38650bb": {
          "model_module": "@jupyter-widgets/base",
          "model_name": "LayoutModel",
          "model_module_version": "1.2.0",
          "state": {
            "_model_module": "@jupyter-widgets/base",
            "_model_module_version": "1.2.0",
            "_model_name": "LayoutModel",
            "_view_count": null,
            "_view_module": "@jupyter-widgets/base",
            "_view_module_version": "1.2.0",
            "_view_name": "LayoutView",
            "align_content": null,
            "align_items": null,
            "align_self": null,
            "border": null,
            "bottom": null,
            "display": null,
            "flex": null,
            "flex_flow": null,
            "grid_area": null,
            "grid_auto_columns": null,
            "grid_auto_flow": null,
            "grid_auto_rows": null,
            "grid_column": null,
            "grid_gap": null,
            "grid_row": null,
            "grid_template_areas": null,
            "grid_template_columns": null,
            "grid_template_rows": null,
            "height": null,
            "justify_content": null,
            "justify_items": null,
            "left": null,
            "margin": null,
            "max_height": null,
            "max_width": null,
            "min_height": null,
            "min_width": null,
            "object_fit": null,
            "object_position": null,
            "order": null,
            "overflow": null,
            "overflow_x": null,
            "overflow_y": null,
            "padding": null,
            "right": null,
            "top": null,
            "visibility": null,
            "width": null
          }
        },
        "1cceb38b0dd04095a5e8d02194eb4746": {
          "model_module": "@jupyter-widgets/controls",
          "model_name": "ProgressStyleModel",
          "model_module_version": "1.5.0",
          "state": {
            "_model_module": "@jupyter-widgets/controls",
            "_model_module_version": "1.5.0",
            "_model_name": "ProgressStyleModel",
            "_view_count": null,
            "_view_module": "@jupyter-widgets/base",
            "_view_module_version": "1.2.0",
            "_view_name": "StyleView",
            "bar_color": null,
            "description_width": ""
          }
        }
      }
    }
  },
  "nbformat": 4,
  "nbformat_minor": 0
}
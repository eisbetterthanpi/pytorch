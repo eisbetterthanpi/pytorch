{
  "cells": [
    {
      "cell_type": "markdown",
      "metadata": {
        "id": "view-in-github",
        "colab_type": "text"
      },
      "source": [
        "<a href=\"https://colab.research.google.com/github/eisbetterthanpi/pytorch/blob/main/conv_autoencoder.ipynb\" target=\"_parent\"><img src=\"https://colab.research.google.com/assets/colab-badge.svg\" alt=\"Open In Colab\"/></a>"
      ]
    },
    {
      "cell_type": "code",
      "execution_count": null,
      "metadata": {
        "id": "Wi4ODp-XlZoU",
        "cellView": "form"
      },
      "outputs": [],
      "source": [
        "# @title data\n",
        "import torch\n",
        "import torch.nn as nn\n",
        "import torchvision\n",
        "import torchvision.transforms as transforms\n",
        "\n",
        "import matplotlib.pyplot as plt\n",
        "import numpy as np\n",
        "# https://www.geeksforgeeks.org/implementing-an-autoencoder-in-pytorch/\n",
        "\n",
        "train_data = torchvision.datasets.MNIST(root=\"data\", train=True, download=True,transform=transforms.ToTensor(),)\n",
        "test_data = torchvision.datasets.MNIST(root=\"data\", train=False, download=True, transform=transforms.ToTensor(),) #opt no download\n",
        "batch_size = 4 # 512\n",
        "train_loader = torch.utils.data.DataLoader(train_data, batch_size=batch_size, shuffle=True)\n",
        "test_loader = torch.utils.data.DataLoader(test_data, batch_size=batch_size, shuffle=False)\n"
      ]
    },
    {
      "cell_type": "code",
      "execution_count": null,
      "metadata": {
        "id": "r0mXVAUnVYX-",
        "cellView": "form"
      },
      "outputs": [],
      "source": [
        "# @title resnet\n",
        "import torch\n",
        "import torch.nn as nn\n",
        "from torchvision import models # https://pytorch.org/vision/0.12/models.html#id10\n",
        "\n",
        "device = torch.device('cuda' if torch.cuda.is_available() else 'cpu')\n",
        "\n",
        "def get_res(dim_embd):\n",
        "    model = models.resnet18(weights='DEFAULT') # 18 34 50 101 152\n",
        "    num_ftrs = model.fc.in_features # 1000\n",
        "    # model.conv1 = nn.Conv2d(1, 64, kernel_size=3, stride=2, padding=1, bias=False)\n",
        "    model.layer4 = nn.Sequential()\n",
        "    model.fc = nn.Sequential( # og\n",
        "        # nn.Linear(num_ftrs, dim_embd, bias=None),\n",
        "        # nn.Linear(512, dim_embd, bias=None),\n",
        "        # nn.Softmax(dim=1),\n",
        "        )\n",
        "    return model\n",
        "\n",
        "model = models.resnet18(weights='DEFAULT') # 18 34 50 101 152\n",
        "# model = get_res(256).to(device)\n",
        "print(model)\n",
        "# input = torch.rand(16,3,64,64)\n",
        "# input = torch.rand(16,1,256,256)\n",
        "# out = model(input)\n",
        "# print(out.shape)\n"
      ]
    },
    {
      "cell_type": "code",
      "execution_count": 34,
      "metadata": {
        "id": "4oqycJZ5s3RR",
        "colab": {
          "base_uri": "https://localhost:8080/"
        },
        "outputId": "f2de5e1e-052e-4910-81d8-ad02f1e89459"
      },
      "outputs": [
        {
          "output_type": "stream",
          "name": "stdout",
          "text": [
            "23296\n",
            "23265\n",
            "torch.Size([4, 32])\n",
            "torch.Size([4, 1, 28, 28])\n"
          ]
        }
      ],
      "source": [
        "# @title autoencoder\n",
        "import torch\n",
        "import torch.nn as nn\n",
        "\n",
        "class autoencoder(torch.nn.Module):\n",
        "    def __init__(self):\n",
        "        super().__init__()\n",
        "        # self.encoder = torch.nn.Sequential(\n",
        "        #     nn.Linear(28 * 28, 512), nn.ReLU(),\n",
        "        #     nn.Linear(512, 128), nn.ReLU(),\n",
        "        #     nn.Linear(128, 64), nn.ReLU(),\n",
        "        #     nn.Linear(64, 32),  nn.ReLU(), # 32>10 to account for variation of members within the same class\n",
        "        # )\n",
        "\n",
        "        self.encoder = nn.Sequential( # 28 # nn.Conv2d(in_channels, out_channels, kernel_size=1, stride=1, padding=0),\n",
        "            nn.Conv2d(1, 16, 3, stride=1, padding=1), nn.ReLU(), nn.MaxPool2d(kernel_size=2, stride=2), # 14\n",
        "            nn.Conv2d(16, 32, 3, stride=1, padding=1), nn.ReLU(), nn.MaxPool2d(2, 2), # 7\n",
        "            nn.Conv2d(32, 32, 3, stride=1, padding=1), nn.ReLU(), nn.MaxPool2d(2, 2), # 3\n",
        "            nn.Conv2d(32, 32, 3, stride=1, padding=1), nn.ReLU(), nn.MaxPool2d(2, 2), # 1\n",
        "            # nn.Conv2d(32, 32, 3, stride=1, padding=1), # 1\n",
        "            # nn.Conv2d(16, 8, 3, stride=1, padding=1), nn.ReLU(), nn.MaxPool2d(2, 2),\n",
        "            # nn.AdaptiveAvgPool2d(output_size=(1, 1)),\n",
        "        )\n",
        "        # self.decoder = nn.Sequential(\n",
        "        #     nn.ConvTranspose2d(32, 32, 3, stride=2, padding=0, output_padding=0), nn.ReLU(),\n",
        "        #     nn.ConvTranspose2d(32, 32, 3, stride=2, padding=0, output_padding=0), nn.ReLU(),\n",
        "        #     nn.ConvTranspose2d(32, 16, 3, stride=2, padding=1, output_padding=1), nn.ReLU(),\n",
        "        #     nn.ConvTranspose2d(16, 1, 3, stride=2, padding=1, output_padding=1), nn.Sigmoid()\n",
        "        # )\n",
        "\n",
        "        self.decoder = nn.Sequential( # 'nearest', 'linear', 'bilinear', 'bicubic', 'trilinear'. # https://pytorch.org/docs/stable/generated/torch.nn.Upsample.html\n",
        "            nn.Upsample((3,3)), nn.ConvTranspose2d(32, 32, 3, 1, padding=1), nn.ReLU(),\n",
        "            nn.Upsample((7,7)), nn.ConvTranspose2d(32, 32, 3, 1, padding=1), nn.ReLU(),\n",
        "            nn.Upsample(scale_factor=2), nn.ConvTranspose2d(32, 16, 3, 1, padding=1), nn.ReLU(),\n",
        "            nn.Upsample(scale_factor=2), nn.ConvTranspose2d(16, 1, 3, 1, padding=1), nn.Sigmoid()\n",
        "        )\n",
        "\n",
        "        # self.decoder = torch.nn.Sequential(\n",
        "        #     nn.Linear(32, 64), nn.ReLU(),\n",
        "        #     nn.Linear(64, 128), nn.ReLU(),\n",
        "        #     nn.Linear(128, 512), nn.ReLU(),\n",
        "        #     nn.Linear(512, 28 * 28), nn.ReLU(),\n",
        "        # )\n",
        "\n",
        "    def forward(self, x):\n",
        "        x = self.encode(x)\n",
        "        x = self.decode(x)\n",
        "        return x\n",
        "\n",
        "    def encode(self, x): return self.encoder(x).squeeze()\n",
        "    def decode(self, x): return self.decoder(x.unsqueeze(-1).unsqueeze(-1))\n",
        "\n",
        "\n",
        "device = \"cuda\" if torch.cuda.is_available() else \"cpu\"\n",
        "model = autoencoder().to(device)\n",
        "print(sum(p.numel() for p in model.encoder.parameters() if p.requires_grad))\n",
        "print(sum(p.numel() for p in model.decoder.parameters() if p.requires_grad))\n",
        "\n",
        "# 477920\n",
        "# 23296, 23265\n",
        "\n",
        "input = torch.rand((4,1,28,28), device=device)\n",
        "out = model.encode(input)\n",
        "print(out.shape)\n",
        "i2= model.decode(out)\n",
        "print(i2.shape)\n",
        "\n"
      ]
    },
    {
      "cell_type": "code",
      "execution_count": null,
      "metadata": {
        "colab": {
          "base_uri": "https://localhost:8080/"
        },
        "id": "t46jFUzstGAQ",
        "outputId": "06d2eeda-4839-448a-e105-02e75263e55a"
      },
      "outputs": [
        {
          "output_type": "stream",
          "name": "stdout",
          "text": [
            "loss:  0.011691850610077381\n",
            "loss:  0.012030640617012978\n",
            "loss:  0.009366992861032486\n"
          ]
        }
      ],
      "source": [
        "# @title train\n",
        "loss_function = torch.nn.MSELoss()\n",
        "optimizer = torch.optim.SGD(model.parameters(), lr = 1e-1, momentum=0.9)\n",
        "# optimizer = torch.optim.Adam(model.parameters(), lr = 1e-3, weight_decay = 1e-8)\n",
        "# scheduler = torch.optim.lr_scheduler.StepLR(optimizer, step_size=3, gamma=0.1)\n",
        "scheduler = torch.optim.lr_scheduler.ExponentialLR(optimizer, gamma=0.7)\n",
        "\n",
        "epochs = 10\n",
        "outputs = []\n",
        "losses = []\n",
        "model.train()\n",
        "for epoch in range(epochs):\n",
        "    for image, _ in train_loader:\n",
        "        image = image.to(device)#.reshape(-1, 28*28)\n",
        "        reconstructed = model(image)\n",
        "        loss = loss_function(reconstructed, image)\n",
        "        optimizer.zero_grad()\n",
        "        loss.backward()\n",
        "        optimizer.step()\n",
        "        losses.append(loss.cpu())\n",
        "    scheduler.step()\n",
        "    lr=optimizer.param_groups[0][\"lr\"]\n",
        "    # print(lr)\n",
        "    print(\"loss: \",sum(losses[-batch_size:]).item()/batch_size)\n",
        "    outputs.append((epochs, image, reconstructed))\n"
      ]
    },
    {
      "cell_type": "code",
      "source": [
        "# print(item[0].shape)\n",
        "print(image.shape)\n"
      ],
      "metadata": {
        "colab": {
          "base_uri": "https://localhost:8080/"
        },
        "id": "rjRlU0-rqPfP",
        "outputId": "2bc76152-95eb-45f4-d69a-e25201e2cc87"
      },
      "execution_count": 79,
      "outputs": [
        {
          "output_type": "stream",
          "name": "stdout",
          "text": [
            "torch.Size([4, 1, 28, 28])\n"
          ]
        }
      ]
    },
    {
      "cell_type": "code",
      "execution_count": null,
      "metadata": {
        "id": "arU-tUdktPc_"
      },
      "outputs": [],
      "source": [
        "# @title evaluate\n",
        "\n",
        "# dataiter = iter(test_loader)\n",
        "dataiter = iter(test_data)\n",
        "# item, labels = dataiter.next() # images, labels\n",
        "item, labels = next(dataiter) # images, labels\n",
        "# item = item.reshape(-1, 28, 28)\n",
        "print(\"original:\")\n",
        "plt.imshow(item.cpu()[0])\n",
        "plt.show()\n",
        "\n",
        "model.eval()\n",
        "# reconstructed = model(item[0].flatten().to(device))\n",
        "# encoded = model.encode(item[0].flatten().to(device))\n",
        "encoded = model.encode(item[0].unsqueeze(0).to(device))\n",
        "print(\"encoded: \",encoded)\n",
        "reconstructed = model.decode(encoded)\n",
        "\n",
        "print(\"reconstructed:\")\n",
        "# reconstructed = reconstructed.reshape(-1, 28, 28)\n",
        "# reconstructed = reconstructed.unsqueeze(0)\n",
        "plt.imshow(reconstructed.detach().cpu()[0])\n",
        "plt.show()\n"
      ]
    }
  ],
  "metadata": {
    "colab": {
      "provenance": [],
      "authorship_tag": "ABX9TyOUFItoUI76f4DTlZ6Pb5Ci",
      "include_colab_link": true
    },
    "kernelspec": {
      "display_name": "Python 3",
      "name": "python3"
    },
    "language_info": {
      "name": "python"
    }
  },
  "nbformat": 4,
  "nbformat_minor": 0
}
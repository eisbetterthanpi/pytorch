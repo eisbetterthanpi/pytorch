{
  "nbformat": 4,
  "nbformat_minor": 0,
  "metadata": {
    "colab": {
      "provenance": [],
      "authorship_tag": "ABX9TyNSrI6BoRPdMWV6Yl5azK0Z",
      "include_colab_link": true
    },
    "kernelspec": {
      "name": "python3",
      "display_name": "Python 3"
    },
    "language_info": {
      "name": "python"
    }
  },
  "cells": [
    {
      "cell_type": "markdown",
      "metadata": {
        "id": "view-in-github",
        "colab_type": "text"
      },
      "source": [
        "<a href=\"https://colab.research.google.com/github/eisbetterthanpi/pytorch/blob/main/learn_fn.ipynb\" target=\"_parent\"><img src=\"https://colab.research.google.com/assets/colab-badge.svg\" alt=\"Open In Colab\"/></a>"
      ]
    },
    {
      "cell_type": "code",
      "source": [
        "import torch\n",
        "from torch import nn\n",
        "\n",
        "class Model(nn.Module):\n",
        "    def __init__(self):\n",
        "        super(Model, self).__init__()\n",
        "        hidden=4\n",
        "        self.linear = nn.Sequential(\n",
        "            # nn.Linear(2, hidden), nn.ReLU(),\n",
        "            nn.Linear(2, hidden), nn.Tanh(),\n",
        "            # nn.Linear(hidden, hidden), nn.ReLU(),\n",
        "            nn.Linear(hidden, hidden), nn.Tanh(),\n",
        "            nn.Linear(hidden, 1),\n",
        "            )\n",
        "\n",
        "    def forward(self, x,y):\n",
        "        xy = torch.cat([x, y], dim=-1)\n",
        "        logits = self.linear(xy)\n",
        "        # print(\"###\",xy,logits)\n",
        "        return logits\n",
        "\n",
        "def fn(x,y): return (x**2)-y\n",
        "\n",
        "def train(model, loss_fn, optimizer):\n",
        "    model.train()\n",
        "    epoch=10000\n",
        "    for i in range(epoch):\n",
        "        x=torch.rand(1)\n",
        "        y=torch.rand(1)\n",
        "        pred = model(x,y) # Compute prediction error\n",
        "        z= fn(x,y)\n",
        "        loss = loss_fn(pred, z)\n",
        "        optimizer.zero_grad() # reset gradients of model parameters, to prevent double-counting\n",
        "        loss.backward() # Backpropagate gradients\n",
        "        optimizer.step() # adjust the parameters by the gradients\n",
        "        if i % 1000 == 0:\n",
        "            # print(pred, z,loss_fn(pred, z))\n",
        "            loss = loss.item()\n",
        "            print(f\"loss: {loss:>7f}  [{i:>5d}/{epoch:>5d}]\")\n",
        "\n",
        "\n",
        "def test(model, loss_fn):\n",
        "    model.eval()\n",
        "    test_loss, correct = 0, 0\n",
        "    batch=20\n",
        "    with torch.no_grad():\n",
        "        for i in range(batch):\n",
        "            x=torch.rand(1)\n",
        "            y=torch.rand(1)\n",
        "            pred = model(x,y)\n",
        "            z = fn(x,y)\n",
        "            # print(pred, z,loss_fn(pred, z))\n",
        "            test_loss += loss_fn(pred, z).item()\n",
        "\n",
        "\n",
        "model=Model()\n",
        "# loss_fn = nn.CrossEntropyLoss()\n",
        "loss_fn = nn.MSELoss()\n",
        "\n",
        "optimizer = torch.optim.SGD(model.parameters(), lr=1e-3)\n",
        "train(model, loss_fn, optimizer)\n",
        "test(model, loss_fn)\n",
        "\n"
      ],
      "metadata": {
        "colab": {
          "base_uri": "https://localhost:8080/"
        },
        "id": "hvcROlV-oVlo",
        "outputId": "11b77481-5acc-4c63-f5e5-ab4ed6eaa650"
      },
      "execution_count": 3,
      "outputs": [
        {
          "output_type": "stream",
          "name": "stdout",
          "text": [
            "loss: 0.023770  [    0/10000]\n",
            "loss: 0.096827  [ 1000/10000]\n",
            "loss: 0.013703  [ 2000/10000]\n",
            "loss: 0.191528  [ 3000/10000]\n",
            "loss: 0.015143  [ 4000/10000]\n",
            "loss: 0.029780  [ 5000/10000]\n",
            "loss: 0.000000  [ 6000/10000]\n",
            "loss: 0.067526  [ 7000/10000]\n",
            "loss: 0.000834  [ 8000/10000]\n",
            "loss: 0.003378  [ 9000/10000]\n"
          ]
        }
      ]
    },
    {
      "cell_type": "code",
      "source": [
        "z=model(torch.tensor([0.3]),torch.tensor([0.5]))\n",
        "print(z.item())\n",
        "# 0.3^2 -0.5 = -0.41"
      ],
      "metadata": {
        "colab": {
          "base_uri": "https://localhost:8080/"
        },
        "id": "TVJf7ncu-FKG",
        "outputId": "b1802021-fbad-456b-8fca-e5448e5dc4e0"
      },
      "execution_count": 5,
      "outputs": [
        {
          "output_type": "stream",
          "name": "stdout",
          "text": [
            "-0.37997281551361084\n"
          ]
        }
      ]
    }
  ]
}
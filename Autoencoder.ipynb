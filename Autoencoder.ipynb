{
  "cells": [
    {
      "cell_type": "markdown",
      "metadata": {
        "id": "view-in-github",
        "colab_type": "text"
      },
      "source": [
        "<a href=\"https://colab.research.google.com/github/eisbetterthanpi/python/blob/master/Autoencoder.ipynb\" target=\"_parent\"><img src=\"https://colab.research.google.com/assets/colab-badge.svg\" alt=\"Open In Colab\"/></a>"
      ]
    },
    {
      "cell_type": "code",
      "execution_count": null,
      "metadata": {
        "id": "Wi4ODp-XlZoU"
      },
      "outputs": [],
      "source": [
        "\n",
        "import torch\n",
        "import torch.nn as nn\n",
        "# import torch.optim as optim\n",
        "import torchvision\n",
        "import torchvision.transforms as transforms\n",
        "\n",
        "import matplotlib.pyplot as plt\n",
        "import numpy as np\n",
        "# https://www.geeksforgeeks.org/implementing-an-autoencoder-in-pytorch/\n",
        "\n",
        "\n",
        "# transform = torchvision.transforms.Compose([torchvision.transforms.ToTensor()])\n",
        "# train_dataset = torchvision.datasets.MNIST(root='./data', train=True, download=True, transform=transform)\n",
        "# test_dataset = torchvision.datasets.MNIST(root='./data', train=False, download=True, transform=transform)\n",
        "\n",
        "train_data = torchvision.datasets.MNIST(root=\"data\", train=True, download=True,transform=transforms.ToTensor(),)\n",
        "test_data = torchvision.datasets.MNIST(root=\"data\", train=False, download=True, transform=transforms.ToTensor(),) #opt no download\n",
        "batch_size = 4 # 512\n",
        "train_loader = torch.utils.data.DataLoader(train_data, batch_size=batch_size, shuffle=True)\n",
        "test_loader = torch.utils.data.DataLoader(test_data, batch_size=batch_size, shuffle=False)\n",
        "\n"
      ]
    },
    {
      "cell_type": "code",
      "execution_count": null,
      "metadata": {
        "id": "4oqycJZ5s3RR"
      },
      "outputs": [],
      "source": [
        "\n",
        "\n",
        "class AE(torch.nn.Module):\n",
        "    def __init__(self):\n",
        "        super().__init__()\n",
        "        self.encoder = torch.nn.Sequential(\n",
        "            nn.Linear(28 * 28, 128),\n",
        "            nn.ReLU(),\n",
        "            nn.Linear(128, 64),\n",
        "            nn.ReLU(),\n",
        "            nn.Linear(64, 36),\n",
        "            nn.ReLU(),\n",
        "            nn.Linear(36, 18),\n",
        "            nn.ReLU(),\n",
        "            nn.Linear(18, 10),\n",
        "        )\n",
        "          \n",
        "        self.decoder = torch.nn.Sequential(\n",
        "            nn.Linear(10, 18),\n",
        "            nn.ReLU(),\n",
        "            nn.Linear(18, 36),\n",
        "            nn.ReLU(),\n",
        "            nn.Linear(36, 64),\n",
        "            nn.ReLU(),\n",
        "            nn.Linear(64, 128),\n",
        "            nn.ReLU(),\n",
        "            nn.Linear(128, 28 * 28),\n",
        "            nn.Sigmoid(),\n",
        "        )\n",
        "  \n",
        "    def forward(self, x):\n",
        "        encoded = self.encoder(x)\n",
        "        decoded = self.decoder(encoded)\n",
        "        return decoded\n",
        "\n",
        "device = \"cuda\" if torch.cuda.is_available() else \"cpu\"\n",
        "model = AE().to(device)\n",
        "# model = AE()\n",
        "loss_function = torch.nn.MSELoss()\n",
        "optimizer = torch.optim.Adam(model.parameters(), lr = 1e-1, weight_decay = 1e-8)\n",
        "# optimizer = torch.optim.Adam(model.parameters(), lr = 1e-3, weight_decay = 1e-8)"
      ]
    },
    {
      "cell_type": "code",
      "execution_count": null,
      "metadata": {
        "colab": {
          "background_save": true,
          "base_uri": "https://localhost:8080/"
        },
        "id": "t46jFUzstGAQ",
        "outputId": "56b67308-6e6c-43f8-96d6-eebed1ce1034"
      },
      "outputs": [
        {
          "name": "stdout",
          "output_type": "stream",
          "text": [
            "tensor(0.0712, grad_fn=<DivBackward0>)\n",
            "tensor(0.0669, grad_fn=<DivBackward0>)\n",
            "tensor(0.0814, grad_fn=<DivBackward0>)\n",
            "tensor(0.0680, grad_fn=<DivBackward0>)\n",
            "tensor(0.0661, grad_fn=<DivBackward0>)\n",
            "tensor(0.0648, grad_fn=<DivBackward0>)\n",
            "tensor(0.0752, grad_fn=<DivBackward0>)\n",
            "tensor(0.0602, grad_fn=<DivBackward0>)\n"
          ]
        }
      ],
      "source": [
        "\n",
        "epochs = 20\n",
        "outputs = []\n",
        "losses = []\n",
        "for epoch in range(epochs):\n",
        "    for (image, _) in train_loader:\n",
        "        image = image.to(device).reshape(-1, 28*28)\n",
        "        # image = image.reshape(-1, 28*28)\n",
        "        reconstructed = model(image)\n",
        "        loss = loss_function(reconstructed, image)\n",
        "        optimizer.zero_grad()\n",
        "        loss.backward()\n",
        "        optimizer.step()\n",
        "        losses.append(loss)\n",
        "    print(sum(losses[-batch_size:])/batch_size)\n",
        "    outputs.append((epochs, image, reconstructed))\n",
        "  \n",
        "# https://blog.paperspace.com/adversarial-autoencoders-with-pytorch/\n",
        "plt.style.use('fivethirtyeight')\n",
        "plt.xlabel('Iterations')\n",
        "plt.ylabel('Loss')\n",
        "plt.plot(losses[-100:])"
      ]
    },
    {
      "cell_type": "code",
      "execution_count": null,
      "metadata": {
        "id": "arU-tUdktPc_"
      },
      "outputs": [],
      "source": [
        "for i, item in enumerate(image):\n",
        "  item = item.reshape(-1, 28, 28)\n",
        "  plt.imshow(item[0])\n",
        "  \n",
        "for i, item in enumerate(reconstructed):\n",
        "  item = item.reshape(-1, 28, 28)\n",
        "  plt.imshow(item[0])"
      ]
    }
  ],
  "metadata": {
    "colab": {
      "name": "Autoencoder.ipynb",
      "provenance": [],
      "authorship_tag": "ABX9TyPMWHWrsn2SoXuuihzna9f0",
      "include_colab_link": true
    },
    "kernelspec": {
      "display_name": "Python 3",
      "name": "python3"
    },
    "language_info": {
      "name": "python"
    }
  },
  "nbformat": 4,
  "nbformat_minor": 0
}

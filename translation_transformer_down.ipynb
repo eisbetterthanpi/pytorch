{
  "cells": [
    {
      "cell_type": "markdown",
      "metadata": {
        "id": "view-in-github",
        "colab_type": "text"
      },
      "source": [
        "<a href=\"https://colab.research.google.com/github/eisbetterthanpi/pytorch/blob/main/translation_transformer_down.ipynb\" target=\"_parent\"><img src=\"https://colab.research.google.com/assets/colab-badge.svg\" alt=\"Open In Colab\"/></a>"
      ]
    },
    {
      "cell_type": "code",
      "execution_count": null,
      "metadata": {
        "id": "V1teyZuwff9_",
        "cellView": "form"
      },
      "outputs": [],
      "source": [
        "# @title setup\n",
        "\n",
        "# https://pytorch.org/tutorials/beginner/translation_transformer.html\n",
        "# https://colab.research.google.com/github/pytorch/tutorials/blob/gh-pages/_downloads/c64c91cf87c13c0e83586b8e66e4d74e/translation_transformer.ipynb\n",
        "\n",
        "# https://github.com/pytorch/data\n",
        "%pip install portalocker\n",
        "%pip install torchdata\n",
        "\n",
        "# Create source and target language tokenizer. Make sure to install the dependencies.\n",
        "!pip install -U torchdata\n",
        "!pip install -U spacy\n",
        "!python -m spacy download en_core_web_sm\n",
        "!python -m spacy download de_core_news_sm\n"
      ]
    },
    {
      "cell_type": "code",
      "source": [
        "# @title data\n",
        "\n",
        "from torchtext.datasets import multi30k, Multi30k\n",
        "# modify the URLs for the dataset since the links to the original dataset are broken https://github.com/pytorch/text/issues/1756#issuecomment-1163664163\n",
        "multi30k.URL[\"train\"] = \"https://raw.githubusercontent.com/neychev/small_DL_repo/master/datasets/Multi30k/training.tar.gz\"\n",
        "multi30k.URL[\"valid\"] = \"https://raw.githubusercontent.com/neychev/small_DL_repo/master/datasets/Multi30k/validation.tar.gz\"\n",
        "\n",
        "SRC_LANGUAGE = 'de'\n",
        "TGT_LANGUAGE = 'en'\n",
        "\n",
        "from torchtext.data.utils import get_tokenizer\n",
        "de_tokenizer = get_tokenizer('spacy', language='de_core_news_sm')\n",
        "en_tokenizer = get_tokenizer('spacy', language='en_core_web_sm')\n",
        "\n",
        "\n",
        "UNK_IDX, PAD_IDX, BOS_IDX, EOS_IDX = 0, 1, 2, 3 # unknown, pad, bigining, end of sentence\n",
        "special_symbols = ['<unk>', '<pad>', '<bos>', '<eos>']\n",
        "\n",
        "from torchtext.vocab import build_vocab_from_iterator\n",
        "train_iter = Multi30k(split='train', language_pair=(SRC_LANGUAGE, TGT_LANGUAGE))\n",
        "\n",
        "de_tokens = [de_tokenizer(data_sample[0]) for data_sample in train_iter]\n",
        "en_tokens = [en_tokenizer(data_sample[1]) for data_sample in train_iter]\n",
        "\n",
        "de_vocab = build_vocab_from_iterator(de_tokens, min_freq=1, specials=special_symbols, special_first=True)\n",
        "en_vocab = build_vocab_from_iterator(en_tokens, min_freq=1, specials=special_symbols, special_first=True)\n",
        "de_vocab.set_default_index(UNK_IDX)\n",
        "en_vocab.set_default_index(UNK_IDX)\n",
        "\n",
        "import torch\n",
        "\n",
        "def de_transform(o):\n",
        "    o=de_tokenizer(o)\n",
        "    o=de_vocab(o)\n",
        "    return torch.cat((torch.tensor([BOS_IDX]), torch.tensor(o), torch.tensor([EOS_IDX])))\n",
        "\n",
        "def en_transform(o):\n",
        "    o=en_tokenizer(o)\n",
        "    o=en_vocab(o)\n",
        "    return torch.cat((torch.tensor([BOS_IDX]), torch.tensor(o), torch.tensor([EOS_IDX])))\n",
        "\n",
        "\n",
        "from torch.nn.utils.rnn import pad_sequence\n",
        "# function to collate data samples into batch tensors\n",
        "def collate_fn(batch): # convert a batch of raw strings into batch tensors\n",
        "    src_batch, tgt_batch = [], []\n",
        "    for src_sample, tgt_sample in batch:\n",
        "        src_batch.append(de_transform(src_sample.rstrip(\"\\n\")))\n",
        "        tgt_batch.append(en_transform(tgt_sample.rstrip(\"\\n\")))\n",
        "    src_batch = pad_sequence(src_batch, padding_value=PAD_IDX)\n",
        "    tgt_batch = pad_sequence(tgt_batch, padding_value=PAD_IDX)\n",
        "    # src_batch = pad_sequence(src_batch, batch_first=True, padding_value=PAD_IDX)\n",
        "    # tgt_batch = pad_sequence(tgt_batch, batch_first=True, padding_value=PAD_IDX)\n",
        "    return src_batch, tgt_batch\n",
        "\n",
        "\n",
        "torch.manual_seed(0)\n",
        "\n",
        "train_iter = Multi30k(split='train', language_pair=(SRC_LANGUAGE, TGT_LANGUAGE))\n",
        "val_iter = Multi30k(split='valid', language_pair=(SRC_LANGUAGE, TGT_LANGUAGE))\n",
        "batch_size = 128 # 128\n",
        "train_loader = torch.utils.data.DataLoader(train_iter, batch_size=batch_size, collate_fn=collate_fn)\n",
        "val_loader = torch.utils.data.DataLoader(val_iter, batch_size=batch_size, collate_fn=collate_fn)\n",
        "\n",
        "# vocab_transform = {SRC_LANGUAGE:de_vocab, TGT_LANGUAGE:en_vocab}\n",
        "# text_transform = {SRC_LANGUAGE:de_transform, TGT_LANGUAGE:en_transform}\n"
      ],
      "metadata": {
        "id": "5BFat7RgKSwR",
        "colab": {
          "base_uri": "https://localhost:8080/"
        },
        "outputId": "1d2fc226-3623-49a0-a949-44ea5c6f47ac",
        "cellView": "form"
      },
      "execution_count": 2,
      "outputs": [
        {
          "output_type": "stream",
          "name": "stderr",
          "text": [
            "/usr/local/lib/python3.10/dist-packages/torch/utils/data/datapipes/iter/combining.py:333: UserWarning: Some child DataPipes are not exhausted when __iter__ is called. We are resetting the buffer and each child DataPipe will read from the start again.\n",
            "  warnings.warn(\"Some child DataPipes are not exhausted when __iter__ is called. We are resetting \"\n"
          ]
        }
      ]
    },
    {
      "cell_type": "code",
      "source": [
        "# @title test\n",
        "# trainiter = iter(train_iter)\n",
        "# x = next(trainiter)\n",
        "# src_batch, tgt_batch = [], []\n",
        "\n",
        "# # src_sample, tgt_sample = next(trainiter)\n",
        "# # for src_sample, tgt_sample in x:\n",
        "# for i, (src_sample, tgt_sample) in enumerate(train_iter):\n",
        "#     # src_batch.append(de_transform(src_sample.rstrip(\"\\n\")))\n",
        "\n",
        "#     # o=src_sample.rstrip(\"\\n\")\n",
        "#     o=tgt_sample.rstrip(\"\\n\")\n",
        "#     print(o)\n",
        "#     # o=de_tokenizer(o)\n",
        "#     o=en_tokenizer(o)\n",
        "#     print(o)\n",
        "#     # o=de_vocab(o)\n",
        "#     o=en_vocab(o)\n",
        "#     print(o)\n",
        "#     o=torch.cat((torch.tensor([BOS_IDX]), torch.tensor(o), torch.tensor([EOS_IDX])))\n",
        "#     print(o)\n",
        "\n",
        "#     # src_batch.append(de_transform(src_sample.rstrip(\"\\n\")))\n",
        "#     # tgt_batch.append(en_transform(tgt_sample.rstrip(\"\\n\")))\n",
        "#     tgt_batch.append(o)\n",
        "#     if i >=3: break\n",
        "\n",
        "# # src_batch = pad_sequence(src_batch, padding_value=PAD_IDX)\n",
        "# # tgt_batch = pad_sequence(tgt_batch, padding_value=PAD_IDX)\n",
        "# tgt_batch = pad_sequence(tgt_batch, batch_first=True, padding_value=PAD_IDX)\n",
        "\n",
        "\n",
        "# print(\"#########\")\n",
        "# for tgt_tokens in tgt_batch:\n",
        "#     out = \" \".join(en_vocab.lookup_tokens(list(tgt_tokens.cpu().numpy()))).replace(\"<bos>\", \"\").replace(\"<eos>\", \"\")\n",
        "#     print(out)\n"
      ],
      "metadata": {
        "id": "JWCZAeQ-5eNi",
        "cellView": "form"
      },
      "execution_count": 3,
      "outputs": []
    },
    {
      "cell_type": "code",
      "source": [
        "# @title model\n",
        "import torch\n",
        "import torch.nn as nn\n",
        "import math\n",
        "device = torch.device('cuda' if torch.cuda.is_available() else 'cpu')\n",
        "\n",
        "class PositionalEncoding(nn.Module):\n",
        "    def __init__(self, emb_size, dropout, maxlen = 5000):\n",
        "        super(PositionalEncoding, self).__init__()\n",
        "        self.dropout = nn.Dropout(dropout)\n",
        "        den = torch.exp(- torch.arange(0, emb_size, 2)* math.log(10000) / emb_size)\n",
        "        pos = torch.arange(0, maxlen).reshape(maxlen, 1) # .reshape(-1, 1)\n",
        "        pos_emb = torch.zeros((maxlen, emb_size))\n",
        "        pos_emb[:, 0::2] = torch.sin(pos * den) # PE(pos, 2i) = sin(pos/1000^(2i/dim_model))\n",
        "        pos_emb[:, 1::2] = torch.cos(pos * den) # PE(pos, 2i + 1) = cos(pos/1000^(2i/dim_model))\n",
        "        pos_emb = pos_emb.unsqueeze(-2)\n",
        "        self.register_buffer('pos_emb', pos_emb) # register as buffer so optimizer wont update it\n",
        "\n",
        "    def forward(self, token_emb):\n",
        "        return self.dropout(token_emb + self.pos_emb[:token_emb.size(0), :])\n",
        "\n",
        "\n",
        "class TokenEmbedding(nn.Module):\n",
        "    def __init__(self, vocab_size, emb_size):\n",
        "        super(TokenEmbedding, self).__init__()\n",
        "        self.embedding = nn.Embedding(vocab_size, emb_size)\n",
        "        self.emb_size = emb_size\n",
        "\n",
        "    def forward(self, tokens):\n",
        "        return self.embedding(tokens.long()) * math.sqrt(self.emb_size)\n",
        "\n",
        "\n",
        "class Transformer(nn.Module):\n",
        "    def __init__(self, num_encoder_layers, num_decoder_layers, emb_size, nhead, src_vocab_size, tgt_vocab_size, dim_feedforward = 512, dropout = 0.1):\n",
        "        super(Transformer, self).__init__()\n",
        "        self.emb_size = emb_size\n",
        "        # self.src_tok_emb = nn.Embedding(src_vocab_size, emb_size)\n",
        "        # self.tgt_tok_emb = nn.Embedding(tgt_vocab_size, emb_size)\n",
        "        self.pos_enc = PositionalEncoding(emb_size, dropout=dropout)\n",
        "        self.transformer = nn.Transformer(d_model=emb_size, nhead=nhead, num_encoder_layers=num_encoder_layers, num_decoder_layers=num_decoder_layers, dim_feedforward=dim_feedforward, dropout=dropout)\n",
        "        self.generator = nn.Linear(emb_size, tgt_vocab_size)\n",
        "\n",
        "        self.src_tok_emb = TokenEmbedding(src_vocab_size, emb_size)\n",
        "        self.tgt_tok_emb = TokenEmbedding(tgt_vocab_size, emb_size)\n",
        "        for p in self.parameters():\n",
        "        # for p in transformer.parameters():\n",
        "            if p.dim() > 1:\n",
        "                nn.init.xavier_uniform_(p)\n",
        "\n",
        "    def forward(self, src, tgt, src_mask, tgt_mask, src_padding_mask, tgt_padding_mask, memory_key_padding_mask):\n",
        "        src_emb = self.pos_enc(self.src_tok_emb(src))\n",
        "        tgt_emb = self.pos_enc(self.tgt_tok_emb(tgt))\n",
        "\n",
        "        # src = self.src_tok_emb(src.long()) * math.sqrt(self.emb_size) # https://datascience.stackexchange.com/questions/87906/transformer-model-why-are-word-embeddings-scaled-before-adding-positional-encod\n",
        "        # src_emb = self.pos_enc(src)\n",
        "        # tgt = self.src_tok_emb(tgt.long()) * math.sqrt(self.emb_size)\n",
        "        # tgt_emb = self.pos_enc(tgt)\n",
        "\n",
        "        outs = self.transformer(src_emb, tgt_emb, src_mask, tgt_mask, None, src_padding_mask, tgt_padding_mask, memory_key_padding_mask)\n",
        "        return self.generator(outs)\n",
        "\n",
        "    def encode(self, src, src_mask):\n",
        "        return self.transformer.encoder(self.pos_enc(self.src_tok_emb(src)), src_mask)\n",
        "\n",
        "        # src = self.src_tok_emb(src.long()) * math.sqrt(self.emb_size)\n",
        "        # src_emb = self.pos_enc(src)\n",
        "        # return self.transformer.encoder(src_emb, src_mask)\n",
        "\n",
        "    def decode(self, tgt, memory, tgt_mask):\n",
        "        return self.transformer.decoder(self.pos_enc(self.tgt_tok_emb(tgt)), memory, tgt_mask)\n",
        "\n",
        "        # tgt = self.tgt_tok_emb(tgt.long()) * math.sqrt(self.emb_size)\n",
        "        # tgt_emb = self.pos_enc(tgt)\n",
        "        # return self.transformer.decoder(tgt_emb, memory, tgt_mask)\n",
        "\n",
        "\n",
        "def greedy_decode(model, src, src_mask, max_len, start_symbol):\n",
        "    src = src.to(device)\n",
        "    src_mask = src_mask.to(device)\n",
        "    memory = model.encode(src, src_mask)\n",
        "    ys = torch.ones(1, 1).fill_(start_symbol).type(torch.long).to(device)\n",
        "    for i in range(max_len-1):\n",
        "        memory = memory.to(device)\n",
        "        tgt_mask = (generate_square_subsequent_mask(ys.size(0)).type(torch.bool)).to(device)\n",
        "        out = model.decode(ys, memory, tgt_mask)\n",
        "        out = out.transpose(0, 1)\n",
        "        prob = model.generator(out[:, -1])\n",
        "        _, next_word = torch.max(prob, dim=1)\n",
        "        next_word = next_word.item()\n",
        "        ys = torch.cat([ys, torch.ones(1, 1).type_as(src.data).fill_(next_word)], dim=0)\n",
        "        if next_word == EOS_IDX:\n",
        "            break\n",
        "    return ys\n",
        "\n",
        "# actual function to translate input sentence into target language\n",
        "def translate(model, src_sentence):\n",
        "    model.eval()\n",
        "    src = de_transform(src_sentence).view(-1, 1)\n",
        "    num_tokens = src.shape[0]\n",
        "    src_mask = (torch.zeros(num_tokens, num_tokens)).type(torch.bool)\n",
        "    tgt_tokens = greedy_decode(model,  src, src_mask, max_len=num_tokens + 5, start_symbol=BOS_IDX).flatten()\n",
        "    return \" \".join(en_vocab.lookup_tokens(list(tgt_tokens.cpu().numpy()))).replace(\"<bos>\", \"\").replace(\"<eos>\", \"\")\n",
        "\n",
        "\n",
        "src_vocab_size = len(de_vocab)\n",
        "tgt_vocab_size = len(en_vocab)\n",
        "\n",
        "emb_size = 512\n",
        "nhead = 8\n",
        "dim_feedforward = 512\n",
        "num_encoder_layers = 3\n",
        "num_decoder_layers = 3\n",
        "\n",
        "transformer = Transformer(num_encoder_layers, num_decoder_layers, emb_size, nhead, src_vocab_size, tgt_vocab_size, dim_feedforward).to(device)\n"
      ],
      "metadata": {
        "id": "if8SlPVzEDnl",
        "colab": {
          "base_uri": "https://localhost:8080/"
        },
        "outputId": "3ba903fb-9f21-403d-b2e4-1b4a3b87cb9c"
      },
      "execution_count": 4,
      "outputs": [
        {
          "output_type": "stream",
          "name": "stderr",
          "text": [
            "/usr/local/lib/python3.10/dist-packages/torch/nn/modules/transformer.py:282: UserWarning: enable_nested_tensor is True, but self.use_nested_tensor is False because encoder_layer.self_attn.batch_first was not True(use batch_first for better inference performance)\n",
            "  warnings.warn(f\"enable_nested_tensor is True, but self.use_nested_tensor is False because {why_not_sparsity_fast_path}\")\n"
          ]
        }
      ]
    },
    {
      "cell_type": "code",
      "source": [
        "# @title Transformer small?\n",
        "# class TokenEmbedding(nn.Module):\n",
        "#     def __init__(self, vocab_size, emb_size):\n",
        "#         super(TokenEmbedding, self).__init__()\n",
        "#         self.embedding = nn.Embedding(vocab_size, emb_size)\n",
        "#         self.emb_size = emb_size\n",
        "\n",
        "#     def forward(self, tokens):\n",
        "#         # return self.embedding(tokens.long())\n",
        "#         return self.embedding(tokens.long()) * math.sqrt(self.emb_size)\n",
        "\n",
        "# class Transformer(nn.Module):\n",
        "#     def __init__(self, src_vocab_size, emb_size):\n",
        "#         super(Transformer, self).__init__()\n",
        "#         self.emb_size = emb_size\n",
        "#         self.src_tok_emb1 = nn.Embedding(src_vocab_size, emb_size)\n",
        "#         self.src_tok_emb2 = TokenEmbedding(src_vocab_size, emb_size)\n",
        "\n",
        "#     def forward(self, tokens):\n",
        "#         return self.src_tok_emb1(tokens) * math.sqrt(self.emb_size)\n",
        "#         # return self.src_tok_emb2(tokens)\n",
        "\n",
        "# transformer = Transformer(src_vocab_size, emb_size)\n",
        "\n",
        "# for name, parameter in transformer.named_parameters():\n",
        "#     print(name, parameter.dim())\n",
        "\n",
        "# # src_tok_emb1.weight 2\n",
        "# # src_tok_emb2.embedding.weight 2\n"
      ],
      "metadata": {
        "id": "C8Ki3BX0IGDb",
        "cellView": "form"
      },
      "execution_count": 5,
      "outputs": []
    },
    {
      "cell_type": "code",
      "source": [
        "\n",
        "# src = torch.randint(0,100,(33,128))\n",
        "# src_tok_emb = nn.Embedding(src_vocab_size, emb_size)\n",
        "# print(src_tok_emb(src) * math.sqrt(emb_size))\n",
        "# src_tok_emb = TokenEmbedding(src_vocab_size, emb_size)\n",
        "# print(src_tok_emb(src))\n"
      ],
      "metadata": {
        "id": "vdaAyQ_PPeVZ"
      },
      "execution_count": 6,
      "outputs": []
    },
    {
      "cell_type": "code",
      "source": [
        "# @title train eval\n",
        "\n",
        "# subsequent word mask that will prevent the model from looking into the future words when making predictions.\n",
        "# also need masks to hide source and target padding token\n",
        "def generate_square_subsequent_mask(sz):\n",
        "    mask = (torch.triu(torch.ones((sz, sz), device=device)) == 1).transpose(0, 1)\n",
        "    # mask = (torch.tril(torch.ones((sz, sz), device=device)) == 1)\n",
        "    mask = mask.float().masked_fill(mask == 0, float('-inf')).masked_fill(mask == 1, float(0.0))\n",
        "    return mask\n",
        "\n",
        "def create_mask(src, tgt):\n",
        "    src_seq_len = src.shape[0]\n",
        "    tgt_seq_len = tgt.shape[0]\n",
        "    tgt_mask = generate_square_subsequent_mask(tgt_seq_len)\n",
        "    src_mask = torch.zeros((src_seq_len, src_seq_len),device=device).type(torch.bool)\n",
        "    src_padding_mask = (src == PAD_IDX).transpose(0, 1)\n",
        "    tgt_padding_mask = (tgt == PAD_IDX).transpose(0, 1)\n",
        "    return src_mask, tgt_mask, src_padding_mask, tgt_padding_mask\n",
        "\n",
        "# def train_epoch(dataloader, model, loss_fn, optimizer, scheduler=None, verbose=True):\n",
        "def train_epoch(dataloader, model, loss_fn, optimizer):\n",
        "    model.train()\n",
        "    losses = 0\n",
        "    for src, tgt in dataloader:\n",
        "        src = src.to(device)\n",
        "        tgt = tgt.to(device)\n",
        "        tgt_input = tgt[:-1, :]\n",
        "        src_mask, tgt_mask, src_padding_mask, tgt_padding_mask = create_mask(src, tgt_input)\n",
        "        logits = model(src, tgt_input, src_mask, tgt_mask,src_padding_mask, tgt_padding_mask, src_padding_mask)\n",
        "        optimizer.zero_grad()\n",
        "        tgt_out = tgt[1:, :]\n",
        "        loss = loss_fn(logits.reshape(-1, logits.shape[-1]), tgt_out.reshape(-1))\n",
        "        loss.backward()\n",
        "        optimizer.step()\n",
        "        losses += loss.item()\n",
        "    return losses / len(list(dataloader))\n",
        "\n",
        "# def evaluate(dataloader, model, loss_fn, verbose=True):\n",
        "def evaluate(dataloader, model, loss_fn):\n",
        "    model.eval()\n",
        "    losses = 0\n",
        "    for src, tgt in dataloader:\n",
        "        src = src.to(device)\n",
        "        tgt = tgt.to(device)\n",
        "        tgt_input = tgt[:-1, :]\n",
        "        src_mask, tgt_mask, src_padding_mask, tgt_padding_mask = create_mask(src, tgt_input)\n",
        "        logits = model(src, tgt_input, src_mask, tgt_mask,src_padding_mask, tgt_padding_mask, src_padding_mask)\n",
        "        tgt_out = tgt[1:, :]\n",
        "        loss = loss_fn(logits.reshape(-1, logits.shape[-1]), tgt_out.reshape(-1))\n",
        "        losses += loss.item()\n",
        "    return losses / len(list(dataloader))\n",
        "\n",
        "\n",
        "print(translate(transformer, \"Eine Gruppe von Menschen steht vor einem Iglu .\"))\n"
      ],
      "metadata": {
        "colab": {
          "base_uri": "https://localhost:8080/"
        },
        "id": "RNSK9Tm8B2W5",
        "outputId": "cb945d87-c0ee-42df-b924-05525ff1edc8"
      },
      "execution_count": 7,
      "outputs": [
        {
          "output_type": "stream",
          "name": "stdout",
          "text": [
            " Russia cloth spoof Russia sewing Madrid Madrid Russia silhouetted Madrid Russia Madrid Madrid Russia cloth\n"
          ]
        }
      ]
    },
    {
      "cell_type": "code",
      "execution_count": 8,
      "metadata": {
        "id": "K654rT4_3Y2i",
        "colab": {
          "base_uri": "https://localhost:8080/"
        },
        "outputId": "a6f7b499-7561-42ba-eb19-9fc96ae6830c"
      },
      "outputs": [
        {
          "output_type": "stream",
          "name": "stderr",
          "text": [
            "/usr/local/lib/python3.10/dist-packages/torch/nn/functional.py:5076: UserWarning: Support for mismatched key_padding_mask and attn_mask is deprecated. Use same type for both instead.\n",
            "  warnings.warn(\n",
            "/usr/local/lib/python3.10/dist-packages/torch/utils/data/datapipes/iter/combining.py:333: UserWarning: Some child DataPipes are not exhausted when __iter__ is called. We are resetting the buffer and each child DataPipe will read from the start again.\n",
            "  warnings.warn(\"Some child DataPipes are not exhausted when __iter__ is called. We are resetting \"\n"
          ]
        },
        {
          "output_type": "stream",
          "name": "stdout",
          "text": [
            "Epoch: 1, Train loss: 5.344, Val loss: 4.106, Epoch time = 43.115s\n",
            " A group of people are are playing in a red . \n",
            "Epoch: 2, Train loss: 3.761, Val loss: 3.309, Epoch time = 44.197s\n",
            " A group of people are standing in front of a crowd . \n",
            "Epoch: 3, Train loss: 3.157, Val loss: 2.887, Epoch time = 42.969s\n",
            " A group of people standing in front of a crowd . \n",
            "Epoch: 4, Train loss: 2.767, Val loss: 2.640, Epoch time = 43.478s\n",
            " A group of people standing in front of a crowd . \n",
            "Epoch: 5, Train loss: 2.477, Val loss: 2.442, Epoch time = 43.432s\n",
            " A group of people standing in front of a store . \n",
            "Epoch: 6, Train loss: 2.247, Val loss: 2.306, Epoch time = 43.888s\n",
            " A group of people standing in front of a concert . \n",
            "Epoch: 7, Train loss: 2.055, Val loss: 2.207, Epoch time = 43.191s\n",
            " A group of people stand in front of an empty concert . \n",
            "Epoch: 8, Train loss: 1.893, Val loss: 2.114, Epoch time = 43.313s\n",
            " A group of people standing in front of an empty concert . \n",
            "Epoch: 9, Train loss: 1.754, Val loss: 2.054, Epoch time = 43.594s\n",
            " A group of people standing in front of an empty auditorium . \n",
            "Epoch: 10, Train loss: 1.628, Val loss: 2.008, Epoch time = 43.845s\n",
            " A group of people standing in front of an empty airport . \n",
            "Epoch: 11, Train loss: 1.520, Val loss: 1.961, Epoch time = 43.334s\n",
            " A group of people standing in front of an airport . \n",
            "Epoch: 12, Train loss: 1.420, Val loss: 1.958, Epoch time = 43.309s\n",
            " A group of people standing in front of an empty auditorium . \n",
            "Epoch: 13, Train loss: 1.330, Val loss: 1.972, Epoch time = 43.559s\n",
            " A group of people standing in front of an empty auditorium . \n",
            "Epoch: 14, Train loss: 1.245, Val loss: 1.978, Epoch time = 43.919s\n",
            " A group of people standing in front of an auditorium . \n",
            "Epoch: 15, Train loss: 1.173, Val loss: 1.929, Epoch time = 43.311s\n",
            " A group of people standing in front of an auditorium . \n",
            "Epoch: 16, Train loss: 1.103, Val loss: 1.901, Epoch time = 43.417s\n",
            " A group of people standing in front of an igloo \n",
            "Epoch: 17, Train loss: 1.035, Val loss: 1.912, Epoch time = 43.577s\n",
            " A group of people standing in front of an igloo \n",
            "Epoch: 18, Train loss: 0.973, Val loss: 1.927, Epoch time = 43.895s\n",
            " A group of people standing in front of an igloo \n"
          ]
        }
      ],
      "source": [
        "# @title wwwwwwwwwwwwww\n",
        "\n",
        "loss_fn = torch.nn.CrossEntropyLoss(ignore_index=PAD_IDX)\n",
        "optimizer = torch.optim.Adam(transformer.parameters(), lr=0.0001, betas=(0.9, 0.98), eps=1e-9) # lr=0.0001\n",
        "\n",
        "import time\n",
        "epochs = 18\n",
        "\n",
        "for epoch in range(epochs):\n",
        "    start_time = time.time()\n",
        "    train_loss = train_epoch(train_loader, transformer, loss_fn, optimizer)\n",
        "    end_time = time.time()\n",
        "    val_loss = evaluate(val_loader, transformer, loss_fn)\n",
        "    print((f\"Epoch: {epoch+1}, Train loss: {train_loss:.3f}, Val loss: {val_loss:.3f}, \"f\"Epoch time = {(end_time - start_time):.3f}s\"))\n",
        "    print(translate(transformer, \"Eine Gruppe von Menschen steht vor einem Iglu .\"))\n"
      ]
    },
    {
      "cell_type": "code",
      "execution_count": 9,
      "metadata": {
        "id": "6q94CS1Sff-I",
        "colab": {
          "base_uri": "https://localhost:8080/"
        },
        "outputId": "e5e794f8-f8fa-49dd-b507-8ade3f9492a1"
      },
      "outputs": [
        {
          "output_type": "stream",
          "name": "stdout",
          "text": [
            " A group of people standing in front of an igloo \n"
          ]
        }
      ],
      "source": [
        "# @title inference\n",
        "\n",
        "print(translate(transformer, \"Eine Gruppe von Menschen steht vor einem Iglu .\"))\n"
      ]
    }
  ],
  "metadata": {
    "colab": {
      "provenance": [],
      "gpuType": "T4",
      "include_colab_link": true
    },
    "kernelspec": {
      "display_name": "Python 3",
      "name": "python3"
    },
    "language_info": {
      "codemirror_mode": {
        "name": "ipython",
        "version": 3
      },
      "file_extension": ".py",
      "mimetype": "text/x-python",
      "name": "python",
      "nbconvert_exporter": "python",
      "pygments_lexer": "ipython3",
      "version": "3.10.12"
    },
    "accelerator": "GPU"
  },
  "nbformat": 4,
  "nbformat_minor": 0
}
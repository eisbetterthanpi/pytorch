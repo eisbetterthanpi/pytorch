{
  "cells": [
    {
      "cell_type": "markdown",
      "metadata": {
        "id": "view-in-github",
        "colab_type": "text"
      },
      "source": [
        "<a href=\"https://colab.research.google.com/github/eisbetterthanpi/pytorch/blob/main/translation_transformer_down.ipynb\" target=\"_parent\"><img src=\"https://colab.research.google.com/assets/colab-badge.svg\" alt=\"Open In Colab\"/></a>"
      ]
    },
    {
      "cell_type": "code",
      "execution_count": null,
      "metadata": {
        "id": "V1teyZuwff9_",
        "cellView": "form"
      },
      "outputs": [],
      "source": [
        "# @title setup\n",
        "\n",
        "# https://pytorch.org/tutorials/beginner/translation_transformer.html\n",
        "# https://colab.research.google.com/github/pytorch/tutorials/blob/gh-pages/_downloads/c64c91cf87c13c0e83586b8e66e4d74e/translation_transformer.ipynb\n",
        "\n",
        "# https://github.com/pytorch/data\n",
        "%pip install portalocker\n",
        "%pip install torchdata\n",
        "\n",
        "# Create source and target language tokenizer. Make sure to install the dependencies.\n",
        "!pip install -U torchdata\n",
        "!pip install -U spacy\n",
        "!python -m spacy download en_core_web_sm\n",
        "!python -m spacy download de_core_news_sm\n"
      ]
    },
    {
      "cell_type": "code",
      "source": [
        "# @title data\n",
        "\n",
        "from torchtext.datasets import multi30k, Multi30k\n",
        "# modify the URLs for the dataset since the links to the original dataset are broken https://github.com/pytorch/text/issues/1756#issuecomment-1163664163\n",
        "multi30k.URL[\"train\"] = \"https://raw.githubusercontent.com/neychev/small_DL_repo/master/datasets/Multi30k/training.tar.gz\"\n",
        "multi30k.URL[\"valid\"] = \"https://raw.githubusercontent.com/neychev/small_DL_repo/master/datasets/Multi30k/validation.tar.gz\"\n",
        "\n",
        "SRC_LANGUAGE = 'de'\n",
        "TGT_LANGUAGE = 'en'\n",
        "\n",
        "from torchtext.data.utils import get_tokenizer\n",
        "de_tokenizer = get_tokenizer('spacy', language='de_core_news_sm')\n",
        "en_tokenizer = get_tokenizer('spacy', language='en_core_web_sm')\n",
        "\n",
        "\n",
        "UNK_IDX, PAD_IDX, BOS_IDX, EOS_IDX = 0, 1, 2, 3 # unknown, pad, bigining, end of sentence\n",
        "special_symbols = ['<unk>', '<pad>', '<bos>', '<eos>']\n",
        "\n",
        "from torchtext.vocab import build_vocab_from_iterator\n",
        "train_iter = Multi30k(split='train', language_pair=(SRC_LANGUAGE, TGT_LANGUAGE))\n",
        "\n",
        "de_tokens = [de_tokenizer(data_sample[0]) for data_sample in train_iter]\n",
        "en_tokens = [en_tokenizer(data_sample[1]) for data_sample in train_iter]\n",
        "\n",
        "de_vocab = build_vocab_from_iterator(de_tokens, min_freq=1, specials=special_symbols, special_first=True)\n",
        "en_vocab = build_vocab_from_iterator(en_tokens, min_freq=1, specials=special_symbols, special_first=True)\n",
        "de_vocab.set_default_index(UNK_IDX)\n",
        "en_vocab.set_default_index(UNK_IDX)\n",
        "\n",
        "import torch\n",
        "\n",
        "def de_transform(o):\n",
        "    o=de_tokenizer(o)\n",
        "    o=de_vocab(o)\n",
        "    return torch.cat((torch.tensor([BOS_IDX]), torch.tensor(o), torch.tensor([EOS_IDX])))\n",
        "\n",
        "def en_transform(o):\n",
        "    o=en_tokenizer(o)\n",
        "    o=en_vocab(o)\n",
        "    return torch.cat((torch.tensor([BOS_IDX]), torch.tensor(o), torch.tensor([EOS_IDX])))\n",
        "\n",
        "\n",
        "from torch.nn.utils.rnn import pad_sequence\n",
        "# function to collate data samples into batch tensors\n",
        "def collate_fn(batch): # convert a batch of raw strings into batch tensors\n",
        "    src_batch, tgt_batch = [], []\n",
        "    for src_sample, tgt_sample in batch:\n",
        "        src_batch.append(de_transform(src_sample.rstrip(\"\\n\")))\n",
        "        tgt_batch.append(en_transform(tgt_sample.rstrip(\"\\n\")))\n",
        "    # src_batch = pad_sequence(src_batch, padding_value=PAD_IDX)\n",
        "    # tgt_batch = pad_sequence(tgt_batch, padding_value=PAD_IDX)\n",
        "    src_batch = pad_sequence(src_batch, batch_first=True, padding_value=PAD_IDX)\n",
        "    tgt_batch = pad_sequence(tgt_batch, batch_first=True, padding_value=PAD_IDX)\n",
        "    return src_batch, tgt_batch\n",
        "\n",
        "\n",
        "torch.manual_seed(0)\n",
        "\n",
        "train_iter = Multi30k(split='train', language_pair=(SRC_LANGUAGE, TGT_LANGUAGE))\n",
        "val_iter = Multi30k(split='valid', language_pair=(SRC_LANGUAGE, TGT_LANGUAGE))\n",
        "batch_size = 128 # 128\n",
        "train_loader = torch.utils.data.DataLoader(train_iter, batch_size=batch_size, collate_fn=collate_fn)\n",
        "val_loader = torch.utils.data.DataLoader(val_iter, batch_size=batch_size, collate_fn=collate_fn)\n",
        "\n",
        "# vocab_transform = {SRC_LANGUAGE:de_vocab, TGT_LANGUAGE:en_vocab}\n",
        "# text_transform = {SRC_LANGUAGE:de_transform, TGT_LANGUAGE:en_transform}\n"
      ],
      "metadata": {
        "id": "5BFat7RgKSwR",
        "cellView": "form"
      },
      "execution_count": null,
      "outputs": []
    },
    {
      "cell_type": "code",
      "source": [
        "# @title model\n",
        "import torch\n",
        "import torch.nn as nn\n",
        "import math\n",
        "device = torch.device('cuda' if torch.cuda.is_available() else 'cpu')\n",
        "\n",
        "class PositionalEncoding(nn.Module):\n",
        "    def __init__(self, emb_size, dropout, maxlen = 5000):\n",
        "        super(PositionalEncoding, self).__init__()\n",
        "        self.dropout = nn.Dropout(dropout)\n",
        "        den = torch.exp(- torch.arange(0, emb_size, 2)* math.log(10000) / emb_size)\n",
        "        pos = torch.arange(0, maxlen).reshape(maxlen, 1) # .reshape(-1, 1)\n",
        "        pos_emb = torch.zeros((maxlen, emb_size))\n",
        "        pos_emb[:, 0::2] = torch.sin(pos * den) # PE(pos, 2i) = sin(pos/1000^(2i/dim_model))\n",
        "        pos_emb[:, 1::2] = torch.cos(pos * den) # PE(pos, 2i + 1) = cos(pos/1000^(2i/dim_model))\n",
        "        pos_emb = pos_emb.unsqueeze(0) # batch_first=F -> unsqueeze(-2)\n",
        "        self.register_buffer('pos_emb', pos_emb) # register as buffer so optimizer wont update it\n",
        "\n",
        "    def forward(self, token_emb):\n",
        "        return self.dropout(token_emb + self.pos_emb[:, :token_emb.size(1)]) # batch_first=F -> [:token_emb.size(0), :]\n",
        "\n",
        "\n",
        "class TokenEmbedding(nn.Module):\n",
        "    def __init__(self, vocab_size, emb_size):\n",
        "        super(TokenEmbedding, self).__init__()\n",
        "        self.embedding = nn.Embedding(vocab_size, emb_size)\n",
        "        self.emb_size = emb_size\n",
        "\n",
        "    def forward(self, tokens):\n",
        "        return self.embedding(tokens.long()) * math.sqrt(self.emb_size)\n",
        "\n",
        "\n",
        "class Transformer(nn.Module):\n",
        "    def __init__(self, src_vocab_size, tgt_vocab_size, d_model=512, nhead=8, num_encoder_layers=6, num_decoder_layers=6, dim_feedforward=2048, dropout=0.1):\n",
        "        super(Transformer, self).__init__()\n",
        "        self.d_model = d_model\n",
        "        # self.src_tok_emb = nn.Embedding(src_vocab_size, emb_size)\n",
        "        # self.tgt_tok_emb = nn.Embedding(tgt_vocab_size, emb_size)\n",
        "        self.pos_enc = PositionalEncoding(d_model, dropout=dropout)\n",
        "        self.transformer = nn.Transformer(d_model=d_model, nhead=nhead, num_encoder_layers=num_encoder_layers, num_decoder_layers=num_decoder_layers, dim_feedforward=dim_feedforward, dropout=dropout, batch_first=True)\n",
        "        self.generator = nn.Linear(d_model, tgt_vocab_size)\n",
        "\n",
        "        self.src_tok_emb = TokenEmbedding(src_vocab_size, d_model)\n",
        "        self.tgt_tok_emb = TokenEmbedding(tgt_vocab_size, d_model)\n",
        "        for p in self.parameters():\n",
        "            if p.dim() > 1:\n",
        "                nn.init.xavier_uniform_(p)\n",
        "\n",
        "    # def forward(self, src, tgt, src_mask, tgt_mask):\n",
        "    def forward(self, src, tgt, src_mask=None, tgt_mask=None, memory_mask=None, src_key_padding_mask=None, tgt_key_padding_mask=None):\n",
        "        src_emb = self.pos_enc(self.src_tok_emb(src))\n",
        "        tgt_emb = self.pos_enc(self.tgt_tok_emb(tgt))\n",
        "\n",
        "        # out = self.transformer(src_emb, tgt_emb, src_mask=src_mask, tgt_mask=tgt_mask)\n",
        "        out = self.transformer(src_emb, tgt_emb, src_mask=src_mask, tgt_mask=tgt_mask, memory_mask=memory_mask, src_key_padding_mask=src_key_padding_mask, tgt_key_padding_mask=tgt_key_padding_mask)\n",
        "        return self.generator(out)\n",
        "\n",
        "    def encode(self, src, src_mask=None):\n",
        "        return self.transformer.encoder(self.pos_enc(self.src_tok_emb(src)), src_mask)\n",
        "\n",
        "    def decode(self, tgt, memory, tgt_mask=None, memory_mask=None):\n",
        "        return self.transformer.decoder(self.pos_enc(self.tgt_tok_emb(tgt)), memory, tgt_mask, memory_mask)\n",
        "\n",
        "\n",
        "src_vocab_size = len(de_vocab)\n",
        "tgt_vocab_size = len(en_vocab)\n",
        "\n",
        "emb_size = 512 # d_model\n",
        "nhead = 8\n",
        "dim_feedforward = 512\n",
        "num_encoder_layers = 3\n",
        "num_decoder_layers = 3\n",
        "\n",
        "model = Transformer(src_vocab_size, tgt_vocab_size, d_model=512, nhead=8, num_encoder_layers=3, num_decoder_layers=3, dim_feedforward=512, dropout=0.1).to(device)\n"
      ],
      "metadata": {
        "id": "if8SlPVzEDnl"
      },
      "execution_count": 3,
      "outputs": []
    },
    {
      "cell_type": "code",
      "source": [
        "# @title mask translate\n",
        "\n",
        "# subsequent word mask that will prevent the model from looking into the future words when making predictions.\n",
        "# also need masks to hide source and target padding token\n",
        "def generate_square_subsequent_mask(sz):\n",
        "    mask = torch.tril(torch.ones((sz, sz), device=device))#.bool()\n",
        "    mask = mask.float().masked_fill(mask == 0, float('-inf')).masked_fill(mask == 1, float(0.0))\n",
        "    return mask\n",
        "\n",
        "\n",
        "def create_mask(src, tgt):\n",
        "    src_seq_len = src.shape[1] # batch_first=F -> [0]\n",
        "    tgt_seq_len = tgt.shape[1] # batch_first=F -> [0]\n",
        "    tgt_mask = generate_square_subsequent_mask(tgt_seq_len)\n",
        "    src_mask = torch.zeros((src_seq_len, src_seq_len),device=device).type(torch.bool)\n",
        "    src_padding_mask = (src == PAD_IDX) # batch_first=F -> .transpose(0, 1)\n",
        "    tgt_padding_mask = (tgt == PAD_IDX) # batch_first=F -> .transpose(0, 1)\n",
        "    return src_mask, tgt_mask, src_padding_mask, tgt_padding_mask\n",
        "\n",
        "\n",
        "def translate(model, src_sentence):\n",
        "    model.eval()\n",
        "    src = de_transform(src_sentence).view(1,-1).to(device)\n",
        "    num_tokens = src.shape[1] # batch_first=F -> [0]\n",
        "    src_mask = torch.zeros((num_tokens, num_tokens), dtype=bool, device=device)\n",
        "    trg_indexes = [BOS_IDX]\n",
        "    max_len = src.shape[1]+5\n",
        "    for i in range(max_len):\n",
        "        trg_tensor = torch.tensor(trg_indexes, dtype=torch.long, device=device).unsqueeze(0)\n",
        "        trg_mask = generate_square_subsequent_mask(trg_tensor.size(1))\n",
        "        with torch.no_grad():\n",
        "            output = model(src, trg_tensor, src_mask, trg_mask)\n",
        "        pred_token = output.argmax(2)[:,-1].item() # batch_first=F -> ?\n",
        "        trg_indexes.append(pred_token)\n",
        "        if pred_token == EOS_IDX: break\n",
        "    tgt_tokens = torch.tensor(trg_indexes[1:-1]).flatten()\n",
        "    return \" \".join(en_vocab.lookup_tokens(list(tgt_tokens.cpu().numpy())))\n",
        "\n",
        "# UNK_IDX, PAD_IDX, BOS_IDX, EOS_IDX = 0, 1, 2, 3 # unknown, pad, bigining, end of sentence\n",
        "print(translate(model, \"Eine Gruppe von Menschen steht vor einem Iglu .\"))\n"
      ],
      "metadata": {
        "id": "wCMEIOFDnZa4",
        "outputId": "3c14f1f1-ec5e-44f7-c5b2-c69693987f1d",
        "colab": {
          "base_uri": "https://localhost:8080/"
        },
        "cellView": "form"
      },
      "execution_count": 6,
      "outputs": [
        {
          "output_type": "stream",
          "name": "stdout",
          "text": [
            "Russia cloth spoof Russia sewing Madrid Madrid Russia silhouetted Madrid Russia Madrid Madrid Russia cloth\n"
          ]
        }
      ]
    },
    {
      "cell_type": "code",
      "source": [
        "# @title train test\n",
        "\n",
        "def train(dataloader, model, loss_fn, optimizer):\n",
        "    model.train()\n",
        "    losses = 0\n",
        "    for src, tgt in dataloader:\n",
        "        src = src.to(device)\n",
        "        tgt = tgt.to(device)\n",
        "        tgt_input = tgt[:, :-1] # batch_first=F -> [:-1, :]\n",
        "        src_mask, tgt_mask, src_padding_mask, tgt_padding_mask = create_mask(src, tgt_input)\n",
        "        logits = model(src, tgt_input, src_mask, tgt_mask, None, src_padding_mask, tgt_padding_mask)\n",
        "        # logits = model(src, tgt_input, src_mask, tgt_mask)\n",
        "        optimizer.zero_grad()\n",
        "        loss = loss_fn(logits.reshape(-1, logits.shape[-1]), tgt[:, 1:].reshape(-1)) # batch_first=F -> tgt[1:, :]\n",
        "        loss.backward()\n",
        "        optimizer.step()\n",
        "        losses += loss.item()\n",
        "    return losses / len(list(dataloader))\n",
        "\n",
        "def test(dataloader, model, loss_fn):\n",
        "    model.eval()\n",
        "    losses = 0\n",
        "    for src, tgt in dataloader:\n",
        "        src = src.to(device)\n",
        "        tgt = tgt.to(device)\n",
        "        tgt_input = tgt[:, :-1] # batch_first=F -> [:-1, :]\n",
        "        src_mask, tgt_mask, src_padding_mask, tgt_padding_mask = create_mask(src, tgt_input)\n",
        "        # logits = model(src, tgt_input, src_mask, tgt_mask,src_padding_mask, tgt_padding_mask, src_padding_mask)\n",
        "        logits = model(src, tgt_input, src_mask, tgt_mask, None, src_padding_mask, tgt_padding_mask)\n",
        "        tgt_out = tgt[:, 1:] # batch_first=F -> [1:, :]\n",
        "        loss = loss_fn(logits.reshape(-1, logits.shape[-1]), tgt_out.reshape(-1))\n",
        "        losses += loss.item()\n",
        "    return losses / len(list(dataloader))\n"
      ],
      "metadata": {
        "id": "RNSK9Tm8B2W5",
        "cellView": "form"
      },
      "execution_count": 8,
      "outputs": []
    },
    {
      "cell_type": "code",
      "execution_count": 9,
      "metadata": {
        "id": "K654rT4_3Y2i",
        "colab": {
          "base_uri": "https://localhost:8080/"
        },
        "outputId": "542c3451-be95-4934-ccb4-e69ea8567629"
      },
      "outputs": [
        {
          "output_type": "stream",
          "name": "stderr",
          "text": [
            "/usr/local/lib/python3.10/dist-packages/torch/nn/functional.py:5076: UserWarning: Support for mismatched key_padding_mask and attn_mask is deprecated. Use same type for both instead.\n",
            "  warnings.warn(\n",
            "/usr/local/lib/python3.10/dist-packages/torch/utils/data/datapipes/iter/combining.py:333: UserWarning: Some child DataPipes are not exhausted when __iter__ is called. We are resetting the buffer and each child DataPipe will read from the start again.\n",
            "  warnings.warn(\"Some child DataPipes are not exhausted when __iter__ is called. We are resetting \"\n"
          ]
        },
        {
          "output_type": "stream",
          "name": "stdout",
          "text": [
            "Epoch: 1, Train loss: 5.339, Val loss: 4.117, Epoch time = 43.515s\n",
            "A group of people are playing in a red .\n",
            "Epoch: 2, Train loss: 3.791, Val loss: 3.371, Epoch time = 44.869s\n",
            "A group of people are standing in front of a crowd of people .\n",
            "Epoch: 3, Train loss: 3.205, Val loss: 2.948, Epoch time = 43.700s\n",
            "A group of people standing in front of a building .\n",
            "Epoch: 4, Train loss: 2.807, Val loss: 2.674, Epoch time = 45.057s\n",
            "A group of people standing in front of a crowd of people stand .\n",
            "Epoch: 5, Train loss: 2.513, Val loss: 2.467, Epoch time = 44.487s\n",
            "A group of people standing in front of a store .\n",
            "Epoch: 6, Train loss: 2.274, Val loss: 2.322, Epoch time = 45.964s\n",
            "A group of people standing in front of an orange instrument in front of an\n",
            "Epoch: 7, Train loss: 2.076, Val loss: 2.226, Epoch time = 45.011s\n",
            "A group of people standing in front of an orange instrument in front of an\n",
            "Epoch: 8, Train loss: 1.908, Val loss: 2.127, Epoch time = 45.747s\n",
            "A group of people standing in front of an orange instrument in front of an\n",
            "Epoch: 9, Train loss: 1.768, Val loss: 2.067, Epoch time = 45.590s\n",
            "A group of people stand in front of an orange instrument in front of an\n",
            "Epoch: 10, Train loss: 1.642, Val loss: 2.009, Epoch time = 45.414s\n",
            "A group of people stand in front of an orange instrument in front of an\n",
            "Epoch: 11, Train loss: 1.527, Val loss: 1.981, Epoch time = 46.529s\n",
            "A group of people standing in front of an orange instrument in front of an\n",
            "Epoch: 12, Train loss: 1.429, Val loss: 1.949, Epoch time = 45.324s\n",
            "A group of people standing in front an orange machines in front of an orange\n",
            "Epoch: 13, Train loss: 1.340, Val loss: 1.954, Epoch time = 46.021s\n",
            "A group of people standing in front an auditorium an axe .\n",
            "Epoch: 14, Train loss: 1.254, Val loss: 1.972, Epoch time = 45.662s\n",
            "A group of people stand in front an ATM machines in front of an ATM\n",
            "Epoch: 15, Train loss: 1.178, Val loss: 1.975, Epoch time = 45.249s\n",
            "A group of people stand in front an ATM machines in front of an ATM\n",
            "Epoch: 16, Train loss: 1.109, Val loss: 1.942, Epoch time = 46.443s\n",
            "A group of people standing in front an auditorium in front of an igloo .\n",
            "Epoch: 17, Train loss: 1.045, Val loss: 1.942, Epoch time = 46.774s\n",
            "A group of people standing in front an igloo\n",
            "Epoch: 18, Train loss: 0.981, Val loss: 1.938, Epoch time = 45.325s\n",
            "A group of people standing in front an auditorium in an igloo .\n"
          ]
        }
      ],
      "source": [
        "# @title run\n",
        "\n",
        "loss_fn = torch.nn.CrossEntropyLoss(ignore_index=PAD_IDX)\n",
        "optimizer = torch.optim.Adam(model.parameters(), lr=0.0001, betas=(0.9, 0.98), eps=1e-9) # lr=0.0001\n",
        "\n",
        "import time\n",
        "for epoch in range(18):\n",
        "    start_time = time.time()\n",
        "    train_loss = train(train_loader, model, loss_fn, optimizer)\n",
        "    end_time = time.time()\n",
        "    val_loss = test(val_loader, model, loss_fn)\n",
        "    print((f\"Epoch: {epoch+1}, Train loss: {train_loss:.3f}, Val loss: {val_loss:.3f}, \"f\"Epoch time = {(end_time - start_time):.3f}s\"))\n",
        "    print(translate(model, \"Eine Gruppe von Menschen steht vor einem Iglu .\"))\n"
      ]
    },
    {
      "cell_type": "code",
      "execution_count": 10,
      "metadata": {
        "id": "6q94CS1Sff-I",
        "colab": {
          "base_uri": "https://localhost:8080/"
        },
        "outputId": "cca49bdb-8393-4b87-cafb-a35b0a3223dd"
      },
      "outputs": [
        {
          "output_type": "stream",
          "name": "stdout",
          "text": [
            "A group of people standing in front an auditorium in an igloo .\n",
            "A chef in a white uniform preparing food in a restaurant kitchen kitchen .\n",
            "Two young girls playing soccer on a field in a field .\n",
            "A woman wearing a hat and sunglasses stands on the beach at the beach .\n",
            "Two friends smile and enjoying ice cream on a beautiful field of a beautiful field .\n"
          ]
        }
      ],
      "source": [
        "# @title inference\n",
        "print(translate(model, \"Eine Gruppe von Menschen steht vor einem Iglu .\")) # A group of people stand in front of an igloo .\n",
        "print(translate(model, \"Ein Koch in weißer Uniform bereitet Essen in einer Restaurantküche zu .\")) # A chef in a white uniform prepares food in a restaurant kitchen .\n",
        "print(translate(model, \"Zwei junge Mädchen spielen Fußball auf einem Feld. .\")) # Two young girls play soccer on a field. .\n",
        "print(translate(model, \"Eine Frau mit Hut und Sonnenbrille steht am Strand .\")) # A woman wearing a hat and sunglasses stands on the beach .\n",
        "print(translate(model, \"Zwei Freunde lachen und genießen ein Eis auf einer wunderschönen Wiese .\")) # Two friends laugh and enjoy ice cream on a beautiful meadow .\n"
      ]
    }
  ],
  "metadata": {
    "colab": {
      "provenance": [],
      "gpuType": "T4",
      "include_colab_link": true
    },
    "kernelspec": {
      "display_name": "Python 3",
      "name": "python3"
    },
    "language_info": {
      "codemirror_mode": {
        "name": "ipython",
        "version": 3
      },
      "file_extension": ".py",
      "mimetype": "text/x-python",
      "name": "python",
      "nbconvert_exporter": "python",
      "pygments_lexer": "ipython3",
      "version": "3.10.12"
    },
    "accelerator": "GPU"
  },
  "nbformat": 4,
  "nbformat_minor": 0
}
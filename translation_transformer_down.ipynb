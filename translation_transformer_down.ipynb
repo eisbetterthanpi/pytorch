{
  "cells": [
    {
      "cell_type": "markdown",
      "metadata": {
        "id": "view-in-github",
        "colab_type": "text"
      },
      "source": [
        "<a href=\"https://colab.research.google.com/github/eisbetterthanpi/pytorch/blob/main/translation_transformer_down.ipynb\" target=\"_parent\"><img src=\"https://colab.research.google.com/assets/colab-badge.svg\" alt=\"Open In Colab\"/></a>"
      ]
    },
    {
      "cell_type": "code",
      "execution_count": null,
      "metadata": {
        "id": "V1teyZuwff9_",
        "cellView": "form"
      },
      "outputs": [],
      "source": [
        "# @title setup\n",
        "\n",
        "# https://pytorch.org/tutorials/beginner/translation_transformer.html\n",
        "# https://colab.research.google.com/github/pytorch/tutorials/blob/gh-pages/_downloads/c64c91cf87c13c0e83586b8e66e4d74e/translation_transformer.ipynb\n",
        "\n",
        "# https://github.com/pytorch/data\n",
        "%pip install portalocker\n",
        "%pip install torchdata\n",
        "\n",
        "# Create source and target language tokenizer. Make sure to install the dependencies.\n",
        "!pip install -U torchdata\n",
        "!pip install -U spacy\n",
        "!python -m spacy download en_core_web_sm\n",
        "!python -m spacy download de_core_news_sm\n"
      ]
    },
    {
      "cell_type": "code",
      "source": [
        "# @title data\n",
        "\n",
        "from torchtext.datasets import multi30k, Multi30k\n",
        "# modify the URLs for the dataset since the links to the original dataset are broken https://github.com/pytorch/text/issues/1756#issuecomment-1163664163\n",
        "multi30k.URL[\"train\"] = \"https://raw.githubusercontent.com/neychev/small_DL_repo/master/datasets/Multi30k/training.tar.gz\"\n",
        "multi30k.URL[\"valid\"] = \"https://raw.githubusercontent.com/neychev/small_DL_repo/master/datasets/Multi30k/validation.tar.gz\"\n",
        "\n",
        "SRC_LANGUAGE = 'de'\n",
        "TGT_LANGUAGE = 'en'\n",
        "\n",
        "from torchtext.data.utils import get_tokenizer\n",
        "de_tokenizer = get_tokenizer('spacy', language='de_core_news_sm')\n",
        "en_tokenizer = get_tokenizer('spacy', language='en_core_web_sm')\n",
        "\n",
        "\n",
        "UNK_IDX, PAD_IDX, BOS_IDX, EOS_IDX = 0, 1, 2, 3 # unknown, pad, bigining, end of sentence\n",
        "special_symbols = ['<unk>', '<pad>', '<bos>', '<eos>']\n",
        "\n",
        "from torchtext.vocab import build_vocab_from_iterator\n",
        "train_iter = Multi30k(split='train', language_pair=(SRC_LANGUAGE, TGT_LANGUAGE))\n",
        "\n",
        "de_tokens = [de_tokenizer(data_sample[0]) for data_sample in train_iter]\n",
        "en_tokens = [en_tokenizer(data_sample[1]) for data_sample in train_iter]\n",
        "\n",
        "de_vocab = build_vocab_from_iterator(de_tokens, min_freq=1, specials=special_symbols, special_first=True)\n",
        "en_vocab = build_vocab_from_iterator(en_tokens, min_freq=1, specials=special_symbols, special_first=True)\n",
        "de_vocab.set_default_index(UNK_IDX)\n",
        "en_vocab.set_default_index(UNK_IDX)\n",
        "\n",
        "import torch\n",
        "\n",
        "def de_transform(o):\n",
        "    o=de_tokenizer(o)\n",
        "    o=de_vocab(o)\n",
        "    return torch.cat((torch.tensor([BOS_IDX]), torch.tensor(o), torch.tensor([EOS_IDX])))\n",
        "\n",
        "def en_transform(o):\n",
        "    o=en_tokenizer(o)\n",
        "    o=en_vocab(o)\n",
        "    return torch.cat((torch.tensor([BOS_IDX]), torch.tensor(o), torch.tensor([EOS_IDX])))\n",
        "\n",
        "\n",
        "from torch.nn.utils.rnn import pad_sequence\n",
        "# function to collate data samples into batch tensors\n",
        "def collate_fn(batch): # convert a batch of raw strings into batch tensors\n",
        "    src_batch, tgt_batch = [], []\n",
        "    for src_sample, tgt_sample in batch:\n",
        "        src_batch.append(de_transform(src_sample.rstrip(\"\\n\")))\n",
        "        tgt_batch.append(en_transform(tgt_sample.rstrip(\"\\n\")))\n",
        "    # src_batch = pad_sequence(src_batch, padding_value=PAD_IDX)\n",
        "    # tgt_batch = pad_sequence(tgt_batch, padding_value=PAD_IDX)\n",
        "    src_batch = pad_sequence(src_batch, batch_first=True, padding_value=PAD_IDX)\n",
        "    tgt_batch = pad_sequence(tgt_batch, batch_first=True, padding_value=PAD_IDX)\n",
        "    return src_batch, tgt_batch\n",
        "\n",
        "\n",
        "torch.manual_seed(0)\n",
        "\n",
        "train_iter = Multi30k(split='train', language_pair=(SRC_LANGUAGE, TGT_LANGUAGE))\n",
        "val_iter = Multi30k(split='valid', language_pair=(SRC_LANGUAGE, TGT_LANGUAGE))\n",
        "batch_size = 128 # 128\n",
        "train_loader = torch.utils.data.DataLoader(train_iter, batch_size=batch_size, collate_fn=collate_fn)\n",
        "val_loader = torch.utils.data.DataLoader(val_iter, batch_size=batch_size, collate_fn=collate_fn)\n",
        "\n",
        "# vocab_transform = {SRC_LANGUAGE:de_vocab, TGT_LANGUAGE:en_vocab}\n",
        "# text_transform = {SRC_LANGUAGE:de_transform, TGT_LANGUAGE:en_transform}\n"
      ],
      "metadata": {
        "id": "5BFat7RgKSwR",
        "cellView": "form"
      },
      "execution_count": null,
      "outputs": []
    },
    {
      "cell_type": "code",
      "source": [
        "# @title model\n",
        "import torch\n",
        "import torch.nn as nn\n",
        "import math\n",
        "device = torch.device('cuda' if torch.cuda.is_available() else 'cpu')\n",
        "\n",
        "class PositionalEncoding(nn.Module):\n",
        "    def __init__(self, emb_size, dropout, maxlen = 5000):\n",
        "        super(PositionalEncoding, self).__init__()\n",
        "        self.dropout = nn.Dropout(dropout)\n",
        "        den = torch.exp(- torch.arange(0, emb_size, 2)* math.log(10000) / emb_size)\n",
        "        pos = torch.arange(0, maxlen).reshape(maxlen, 1) # .reshape(-1, 1)\n",
        "        pos_emb = torch.zeros((maxlen, emb_size))\n",
        "        pos_emb[:, 0::2] = torch.sin(pos * den) # PE(pos, 2i) = sin(pos/1000^(2i/dim_model))\n",
        "        pos_emb[:, 1::2] = torch.cos(pos * den) # PE(pos, 2i + 1) = cos(pos/1000^(2i/dim_model))\n",
        "        pos_emb = pos_emb.unsqueeze(0) # batch_first=F -> unsqueeze(-2)\n",
        "        self.register_buffer('pos_emb', pos_emb) # register as buffer so optimizer wont update it\n",
        "\n",
        "    def forward(self, token_emb):\n",
        "        return self.dropout(token_emb + self.pos_emb[:, :token_emb.size(1)]) # batch_first=F -> [:token_emb.size(0), :]\n",
        "\n",
        "\n",
        "class TokenEmbedding(nn.Module):\n",
        "    def __init__(self, vocab_size, emb_size):\n",
        "        super(TokenEmbedding, self).__init__()\n",
        "        self.embedding = nn.Embedding(vocab_size, emb_size)\n",
        "        self.emb_size = emb_size\n",
        "\n",
        "    def forward(self, tokens):\n",
        "        return self.embedding(tokens.long()) * math.sqrt(self.emb_size)\n",
        "\n",
        "\n",
        "class Transformer(nn.Module):\n",
        "    def __init__(self, src_vocab_size, tgt_vocab_size, d_model=512, nhead=8, num_encoder_layers=6, num_decoder_layers=6, dim_feedforward=2048, dropout=0.1):\n",
        "        super(Transformer, self).__init__()\n",
        "        self.d_model = d_model\n",
        "        # self.src_tok_emb = nn.Embedding(src_vocab_size, emb_size)\n",
        "        # self.tgt_tok_emb = nn.Embedding(tgt_vocab_size, emb_size)\n",
        "        self.pos_enc = PositionalEncoding(d_model, dropout=dropout)\n",
        "        self.transformer = nn.Transformer(d_model=d_model, nhead=nhead, num_encoder_layers=num_encoder_layers, num_decoder_layers=num_decoder_layers, dim_feedforward=dim_feedforward, dropout=dropout, batch_first=True)\n",
        "        self.generator = nn.Linear(d_model, tgt_vocab_size)\n",
        "\n",
        "        self.src_tok_emb = TokenEmbedding(src_vocab_size, d_model)\n",
        "        self.tgt_tok_emb = TokenEmbedding(tgt_vocab_size, d_model)\n",
        "        for p in self.parameters():\n",
        "            if p.dim() > 1:\n",
        "                nn.init.xavier_uniform_(p)\n",
        "\n",
        "    # def forward(self, src, tgt, src_mask, tgt_mask):\n",
        "    def forward(self, src, tgt, src_mask=None, tgt_mask=None, memory_mask=None, src_key_padding_mask=None, tgt_key_padding_mask=None):\n",
        "        src_emb = self.pos_enc(self.src_tok_emb(src))\n",
        "        tgt_emb = self.pos_enc(self.tgt_tok_emb(tgt))\n",
        "\n",
        "        # out = self.transformer(src_emb, tgt_emb, src_mask=src_mask, tgt_mask=tgt_mask)\n",
        "        out = self.transformer(src_emb, tgt_emb, src_mask=src_mask, tgt_mask=tgt_mask, memory_mask=memory_mask, src_key_padding_mask=src_key_padding_mask, tgt_key_padding_mask=tgt_key_padding_mask)\n",
        "        return self.generator(out)\n",
        "\n",
        "    def encode(self, src, src_mask=None):\n",
        "        return self.transformer.encoder(self.pos_enc(self.src_tok_emb(src)), src_mask)\n",
        "\n",
        "    def decode(self, tgt, memory, tgt_mask=None, memory_mask=None):\n",
        "        return self.transformer.decoder(self.pos_enc(self.tgt_tok_emb(tgt)), memory, tgt_mask, memory_mask)\n",
        "\n",
        "\n",
        "src_vocab_size = len(de_vocab)\n",
        "tgt_vocab_size = len(en_vocab)\n",
        "\n",
        "emb_size = 512 # d_model\n",
        "nhead = 8\n",
        "dim_feedforward = 512\n",
        "num_encoder_layers = 3\n",
        "num_decoder_layers = 3\n",
        "\n",
        "model = Transformer(src_vocab_size, tgt_vocab_size, d_model=512, nhead=8, num_encoder_layers=3, num_decoder_layers=3, dim_feedforward=512, dropout=0.1).to(device)\n"
      ],
      "metadata": {
        "id": "if8SlPVzEDnl"
      },
      "execution_count": null,
      "outputs": []
    },
    {
      "cell_type": "code",
      "source": [
        "# @title translate\n",
        "\n",
        "# subsequent word mask that will prevent the model from looking into the future words when making predictions.\n",
        "# also need masks to hide source and target padding token\n",
        "def generate_square_subsequent_mask(sz):\n",
        "    mask = torch.tril(torch.ones((sz, sz), device=device)).bool()\n",
        "    mask = mask.float().masked_fill(mask == 0, float('-inf')).masked_fill(mask == 1, float(0.0))\n",
        "    return mask\n",
        "\n",
        "\n",
        "def create_mask(src, tgt):\n",
        "    src_seq_len = src.shape[1] # batch_first=F -> [0]\n",
        "    tgt_seq_len = tgt.shape[1] # batch_first=F -> [0]\n",
        "    tgt_mask = generate_square_subsequent_mask(tgt_seq_len)\n",
        "    src_mask = torch.zeros((src_seq_len, src_seq_len),device=device).type(torch.bool)\n",
        "    src_padding_mask = (src == PAD_IDX) # batch_first=F -> .transpose(0, 1)\n",
        "    tgt_padding_mask = (tgt == PAD_IDX) # batch_first=F -> .transpose(0, 1)\n",
        "    return src_mask, tgt_mask, src_padding_mask, tgt_padding_mask\n",
        "\n",
        "\n",
        "def translate(model, src_sentence):\n",
        "    model.eval()\n",
        "    src = de_transform(src_sentence).view(1,-1).to(device)\n",
        "    num_tokens = src.shape[1] # batch_first=F -> [0]\n",
        "    src_mask = torch.zeros((num_tokens, num_tokens), dtype=bool, device=device)\n",
        "    trg_indexes = [BOS_IDX]\n",
        "    max_len = src.shape[1]+5\n",
        "    for i in range(max_len):\n",
        "        trg_tensor = torch.tensor(trg_indexes, dtype=torch.long, device=device).unsqueeze(0)\n",
        "        trg_mask = generate_square_subsequent_mask(trg_tensor.size(1))\n",
        "        with torch.no_grad():\n",
        "            output = model(src, trg_tensor, src_mask, trg_mask)\n",
        "        pred_token = output.argmax(2)[:,-1].item() # batch_first=F -> ?\n",
        "        trg_indexes.append(pred_token)\n",
        "        if pred_token == EOS_IDX: break\n",
        "    tgt_tokens = torch.tensor(trg_indexes[1:-1]).flatten()\n",
        "    return \" \".join(en_vocab.lookup_tokens(list(tgt_tokens.cpu().numpy())))\n",
        "\n",
        "# UNK_IDX, PAD_IDX, BOS_IDX, EOS_IDX = 0, 1, 2, 3 # unknown, pad, bigining, end of sentence\n",
        "print(translate(model, \"Eine Gruppe von Menschen steht vor einem Iglu .\"))\n"
      ],
      "metadata": {
        "id": "wCMEIOFDnZa4",
        "outputId": "2eca2d35-7d94-4dff-9af1-111fedec13d8",
        "colab": {
          "base_uri": "https://localhost:8080/"
        }
      },
      "execution_count": null,
      "outputs": [
        {
          "output_type": "stream",
          "name": "stdout",
          "text": [
            "A group of people standing in front of a crowd of people .\n"
          ]
        }
      ]
    },
    {
      "cell_type": "code",
      "source": [
        "# @title train test\n",
        "\n",
        "def train(dataloader, model, loss_fn, optimizer):\n",
        "    model.train()\n",
        "    losses = 0\n",
        "    for src, tgt in dataloader:\n",
        "        src = src.to(device)\n",
        "        tgt = tgt.to(device)\n",
        "        tgt_input = tgt[:, :-1] # batch_first=F -> [:-1, :]\n",
        "        src_mask, tgt_mask, src_padding_mask, tgt_padding_mask = create_mask(src, tgt_input)\n",
        "        logits = model(src, tgt_input, src_mask, tgt_mask, None, src_padding_mask, tgt_padding_mask)\n",
        "        # logits = model(src, tgt_input, src_mask, tgt_mask)\n",
        "        optimizer.zero_grad()\n",
        "        tgt_out = tgt[:, 1:] # [1:, :]\n",
        "        loss = loss_fn(logits.reshape(-1, logits.shape[-1]), tgt_out.reshape(-1))\n",
        "        loss.backward()\n",
        "        optimizer.step()\n",
        "        losses += loss.item()\n",
        "    return losses / len(list(dataloader))\n",
        "\n",
        "def test(dataloader, model, loss_fn):\n",
        "    model.eval()\n",
        "    losses = 0\n",
        "    for src, tgt in dataloader:\n",
        "        src = src.to(device)\n",
        "        tgt = tgt.to(device)\n",
        "        tgt_input = tgt[:, :-1] # batch_first=F -> [:-1, :]\n",
        "        src_mask, tgt_mask, src_padding_mask, tgt_padding_mask = create_mask(src, tgt_input)\n",
        "        # logits = model(src, tgt_input, src_mask, tgt_mask,src_padding_mask, tgt_padding_mask, src_padding_mask)\n",
        "        logits = model(src, tgt_input, src_mask, tgt_mask, None, src_padding_mask, tgt_padding_mask)\n",
        "        tgt_out = tgt[:, 1:] # batch_first=F -> [1:, :]\n",
        "        loss = loss_fn(logits.reshape(-1, logits.shape[-1]), tgt_out.reshape(-1))\n",
        "        losses += loss.item()\n",
        "    return losses / len(list(dataloader))\n"
      ],
      "metadata": {
        "id": "RNSK9Tm8B2W5"
      },
      "execution_count": null,
      "outputs": []
    },
    {
      "cell_type": "code",
      "execution_count": null,
      "metadata": {
        "id": "K654rT4_3Y2i",
        "colab": {
          "base_uri": "https://localhost:8080/"
        },
        "outputId": "aac2a294-431f-4668-fb2f-ea9f5fa2b5a9"
      },
      "outputs": [
        {
          "output_type": "stream",
          "name": "stdout",
          "text": [
            "Epoch: 1, Train loss: 5.335, Val loss: 4.149, Epoch time = 45.124s\n",
            "A group of people are in a blue shirt in a white .\n",
            "Epoch: 2, Train loss: 3.813, Val loss: 3.406, Epoch time = 44.780s\n",
            "A group of people are standing in front of a building .\n",
            "Epoch: 3, Train loss: 3.217, Val loss: 2.964, Epoch time = 45.156s\n",
            "A group of people standing in front of a building .\n",
            "Epoch: 4, Train loss: 2.819, Val loss: 2.678, Epoch time = 45.168s\n",
            "A group of people standing in front of a store .\n",
            "Epoch: 5, Train loss: 2.520, Val loss: 2.484, Epoch time = 45.269s\n",
            "A group of people standing in front of a store .\n",
            "Epoch: 6, Train loss: 2.282, Val loss: 2.334, Epoch time = 44.601s\n",
            "A group of people standing in front of an outdoor area .\n",
            "Epoch: 7, Train loss: 2.083, Val loss: 2.222, Epoch time = 44.482s\n",
            "A group of people stand in front of an outdoor area .\n",
            "Epoch: 8, Train loss: 1.918, Val loss: 2.123, Epoch time = 44.723s\n",
            "A group of people stand in front of an empty store .\n",
            "Epoch: 9, Train loss: 1.774, Val loss: 2.068, Epoch time = 44.546s\n",
            "A group of people stand in front of an empty store .\n",
            "Epoch: 10, Train loss: 1.648, Val loss: 2.018, Epoch time = 44.726s\n",
            "A group of people stand in front of an empty store .\n",
            "Epoch: 11, Train loss: 1.534, Val loss: 1.980, Epoch time = 45.789s\n",
            "A group of people stand in front of an urban area .\n",
            "Epoch: 12, Train loss: 1.435, Val loss: 1.963, Epoch time = 45.173s\n",
            "A group of people stand in front of an empty cone in an urban area\n",
            "Epoch: 13, Train loss: 1.344, Val loss: 1.958, Epoch time = 45.061s\n",
            "A group of people stand in front of an empty alleyway in an urban area\n",
            "Epoch: 14, Train loss: 1.260, Val loss: 1.964, Epoch time = 45.007s\n",
            "A group of people stand in front of an empty store in an alleyway .\n",
            "Epoch: 15, Train loss: 1.183, Val loss: 1.979, Epoch time = 44.468s\n",
            "A group of people stand in front of an empty alleyway in an alleyway in\n",
            "Epoch: 16, Train loss: 1.112, Val loss: 1.919, Epoch time = 44.595s\n",
            "A group of people stand in an auditorium in an auditorium .\n",
            "Epoch: 17, Train loss: 1.045, Val loss: 1.909, Epoch time = 44.643s\n",
            "A group of people stand in front of an igloo an igloo .\n",
            "Epoch: 18, Train loss: 0.985, Val loss: 1.917, Epoch time = 44.926s\n",
            "A group of people stand in front of an industrial store in an igloo .\n"
          ]
        }
      ],
      "source": [
        "# @title wwwwwwwwwwwwww\n",
        "\n",
        "loss_fn = torch.nn.CrossEntropyLoss(ignore_index=PAD_IDX)\n",
        "optimizer = torch.optim.Adam(model.parameters(), lr=0.0001, betas=(0.9, 0.98), eps=1e-9) # lr=0.0001\n",
        "\n",
        "import time\n",
        "for epoch in range(18):\n",
        "    start_time = time.time()\n",
        "    train_loss = train(train_loader, model, loss_fn, optimizer)\n",
        "    end_time = time.time()\n",
        "    val_loss = test(val_loader, model, loss_fn)\n",
        "    print((f\"Epoch: {epoch+1}, Train loss: {train_loss:.3f}, Val loss: {val_loss:.3f}, \"f\"Epoch time = {(end_time - start_time):.3f}s\"))\n",
        "    print(translate(model, \"Eine Gruppe von Menschen steht vor einem Iglu .\"))\n"
      ]
    },
    {
      "cell_type": "code",
      "execution_count": null,
      "metadata": {
        "id": "6q94CS1Sff-I",
        "colab": {
          "base_uri": "https://localhost:8080/"
        },
        "outputId": "65c6614b-ef38-4995-dac6-fc31118c47ca"
      },
      "outputs": [
        {
          "output_type": "stream",
          "name": "stdout",
          "text": [
            "A group of people stand in front of an industrial store in an igloo .\n",
            "A chef in a white uniform prepares food in a restaurant kitchen .\n",
            "Two young girls are playing soccer on a field of soccer .\n",
            "A woman wearing a hat and sunglasses stands on the beach at the beach .\n",
            "Two friends smile and enjoy ice ice cream on a beautiful field of beautiful field .\n"
          ]
        }
      ],
      "source": [
        "# @title inference\n",
        "print(translate(model, \"Eine Gruppe von Menschen steht vor einem Iglu .\")) # A group of people stand in front of an igloo .\n",
        "print(translate(model, \"Ein Koch in weißer Uniform bereitet Essen in einer Restaurantküche zu .\")) # A chef in a white uniform prepares food in a restaurant kitchen .\n",
        "print(translate(model, \"Zwei junge Mädchen spielen Fußball auf einem Feld. .\")) # Two young girls play soccer on a field. .\n",
        "print(translate(model, \"Eine Frau mit Hut und Sonnenbrille steht am Strand .\")) # A woman wearing a hat and sunglasses stands on the beach .\n",
        "print(translate(model, \"Zwei Freunde lachen und genießen ein Eis auf einer wunderschönen Wiese .\")) # Two friends laugh and enjoy ice cream on a beautiful meadow .\n"
      ]
    }
  ],
  "metadata": {
    "colab": {
      "provenance": [],
      "gpuType": "T4",
      "include_colab_link": true
    },
    "kernelspec": {
      "display_name": "Python 3",
      "name": "python3"
    },
    "language_info": {
      "codemirror_mode": {
        "name": "ipython",
        "version": 3
      },
      "file_extension": ".py",
      "mimetype": "text/x-python",
      "name": "python",
      "nbconvert_exporter": "python",
      "pygments_lexer": "ipython3",
      "version": "3.10.12"
    },
    "accelerator": "GPU"
  },
  "nbformat": 4,
  "nbformat_minor": 0
}
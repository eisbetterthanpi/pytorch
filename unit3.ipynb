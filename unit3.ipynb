{
  "cells": [
    {
      "cell_type": "markdown",
      "metadata": {
        "id": "view-in-github",
        "colab_type": "text"
      },
      "source": [
        "<a href=\"https://colab.research.google.com/github/eisbetterthanpi/pytorch/blob/main/unit3.ipynb\" target=\"_parent\"><img src=\"https://colab.research.google.com/assets/colab-badge.svg\" alt=\"Open In Colab\"/></a>"
      ]
    },
    {
      "cell_type": "code",
      "source": [
        "# https://github.com/DLR-RM/rl-baselines3-zoo\n",
        "# https://stable-baselines3.readthedocs.io/en/master/\n",
        "# SpacesInvadersNoFrameskip-v4\n",
        "# BeamRiderNoFrameskip-v4\n",
        "# BreakoutNoFrameskip-v4\n",
        "# EnduroNoFrameskip-v4\n",
        "# PongNoFrameskip-v4"
      ],
      "metadata": {
        "id": "dk5-ab3TDFWb"
      },
      "execution_count": null,
      "outputs": []
    },
    {
      "cell_type": "code",
      "execution_count": null,
      "metadata": {
        "id": "J9S713biXntc"
      },
      "outputs": [],
      "source": [
        "%%html\n",
        "<video controls autoplay><source src=\"https://huggingface.co/ThomasSimonini/ppo-SpaceInvadersNoFrameskip-v4/resolve/main/replay.mp4\" type=\"video/mp4\"></video>"
      ]
    },
    {
      "cell_type": "markdown",
      "metadata": {
        "id": "Zg8eWiQ1efcU"
      },
      "source": [
        "- `Hardware Accelerator > GPU`"
      ]
    },
    {
      "cell_type": "code",
      "execution_count": null,
      "metadata": {
        "id": "jV6wjQ7Be7p5"
      },
      "outputs": [],
      "source": [
        "# Setup a Virtual Display, install virtual screen libraries and create and run a virtual screen\n",
        "%%capture\n",
        "!pip install pyglet==1.5.1 \n",
        "!apt install python-opengl ffmpeg xvfb\n",
        "!pip3 install pyvirtualdisplay\n",
        "\n",
        "# Additional dependencies for RL Baselines3 Zoo\n",
        "!apt-get install swig cmake freeglut3-dev \n",
        "\n",
        "# Virtual display\n",
        "from pyvirtualdisplay import Display\n",
        "\n",
        "virtual_display = Display(visible=0, size=(1400, 900))\n",
        "virtual_display.start()"
      ]
    },
    {
      "cell_type": "code",
      "execution_count": null,
      "metadata": {
        "id": "RLRGKFR39l9s"
      },
      "outputs": [],
      "source": [
        "!git clone https://github.com/DLR-RM/rl-baselines3-zoo\n",
        "%cd /content/rl-baselines3-zoo/\n",
        "!pip install -r requirements.txt\n",
        "%%capture\n",
        "!pip install huggingface_sb3 #Additional code for Stable-baselines3 to load and upload models from the Hugging Face 🤗 Hub.\n"
      ]
    },
    {
      "cell_type": "code",
      "source": [
        "# define the hyperparameters in rl-baselines3-zoo/hyperparams/dqn.yml\n",
        "\n",
        "atari:\n",
        "  env_wrapper:\n",
        "    - stable_baselines3.common.atari_wrappers.AtariWrapper\n",
        "  frame_stack: 4\n",
        "  policy: 'CnnPolicy'\n",
        "  n_timesteps: !!float 1e7\n",
        "  buffer size: 100000\n",
        "  learning_rate: !!float 1e-4\n",
        "  batch_size: 32\n",
        "  learning starts: 100000\n",
        "  target_update_interval: 1000\n",
        "  train_freq: 4\n",
        "  gradient_steps: 1\n",
        "  exploration_fraction: 0.1\n",
        "  exploration_final_eps: 0.01\n",
        "  optimize_memory_usage: True\n"
      ],
      "metadata": {
        "id": "OplhkKawEnQG"
      },
      "execution_count": null,
      "outputs": []
    },
    {
      "cell_type": "code",
      "source": [
        "\n",
        "# Atari Wrapper that preprocess the input (Frame reduction ,grayscale, stack 4 frames)\n",
        "# We use CnnPolicy, since we use Convolutional layers to process the frames\n",
        "# We train it for 10 million n_timesteps\n",
        "# Memory (Experience Replay) size is 100000\n",
        "\n",
        "# https://stable-baselines3.readthedocs.io/en/master/modules/dqn.html?highlight=deep%20q%20learning#parameters\n"
      ],
      "metadata": {
        "id": "QJvY-TL4GK_W"
      },
      "execution_count": null,
      "outputs": []
    },
    {
      "cell_type": "code",
      "execution_count": null,
      "metadata": {
        "id": "PuocgdokSab9"
      },
      "outputs": [],
      "source": [
        "# run train.py and save the models on logs folder\n",
        "!python train.py --algo dqn  --env SpaceInvadersNoFrameskip-v4 -f logs/\n"
      ]
    },
    {
      "cell_type": "code",
      "execution_count": null,
      "metadata": {
        "id": "P_uSmwGRSk0z"
      },
      "outputs": [],
      "source": [
        "\n",
        "# evaluate agent using enjoy.py from RL-Baselines3-Zoo\n",
        "Let's evaluate it for 5000 timesteps\n",
        "!python enjoy.py  --algo dqn  --env SpaceInvadersNoFrameskip-v4  --no-render  --n-timesteps 5000  --folder logs/"
      ]
    }
  ],
  "metadata": {
    "colab": {
      "collapsed_sections": [],
      "name": "Copie de Unit 3: Deep Q-Learning with Space Invaders.ipynb",
      "private_outputs": true,
      "provenance": [],
      "include_colab_link": true
    },
    "kernelspec": {
      "display_name": "Python 3",
      "name": "python3"
    },
    "language_info": {
      "name": "python"
    }
  },
  "nbformat": 4,
  "nbformat_minor": 0
}
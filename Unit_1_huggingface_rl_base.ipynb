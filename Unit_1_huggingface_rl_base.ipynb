{
  "cells": [
    {
      "cell_type": "markdown",
      "metadata": {
        "id": "view-in-github",
        "colab_type": "text"
      },
      "source": [
        "<a href=\"https://colab.research.google.com/github/eisbetterthanpi/pytorch/blob/main/Unit_1_huggingface_rl_base.ipynb\" target=\"_parent\"><img src=\"https://colab.research.google.com/assets/colab-badge.svg\" alt=\"Open In Colab\"/></a>"
      ]
    },
    {
      "cell_type": "code",
      "source": [
        "!pip install gym[box2d] stable-baselines3[extra] #huggingface_sb3 pyglet ale-py==0.7.4\n",
        "import gym\n",
        "# https://huggingface.co/models?pipeline_tag=reinforcement-learning&sort=downloads\n",
        "from stable_baselines3 import PPO\n",
        "from stable_baselines3.common.evaluation import evaluate_policy\n",
        "from stable_baselines3.common.env_util import make_vec_env\n"
      ],
      "metadata": {
        "id": "dlx9uWHuhqfh"
      },
      "execution_count": null,
      "outputs": []
    },
    {
      "cell_type": "code",
      "source": [
        "# !apt install python-opengl ffmpeg xvfb\n",
        "# https://github.com/openai/gym/issues/1898#issuecomment-860034155\n",
        "!apt-get install python-opengl -y xvfb\n",
        "!pip install pyvirtualdisplay \n",
        "from pyvirtualdisplay import Display\n",
        "virtual_display = Display(visible=0, size=(1400, 900))\n",
        "virtual_display.start()\n",
        "\n",
        "\n",
        "# init Environment\n",
        "# env = gym.make(\"CartPole-v0\")\n",
        "env = gym.make(\"LunarLander-v2\")\n",
        "action_space = env.action_space.n\n",
        "state_space = env.observation_space.shape[0]\n",
        "max_reward = 200 #CartPole-v0\n",
        "\n",
        "state = env.reset()\n",
        "print(\"state\",state,state.shape)\n",
        "action = env.action_space.sample() # Take a random action\n",
        "observation, reward, done, info = env.step(action)\n",
        "print(observation)\n",
        "display = Display(visible=0, size=(1400, 900))\n",
        "display.start()\n",
        "screen = env.render('rgb_array')\n",
        "\n",
        "import matplotlib.pyplot as plt\n",
        "plt.imshow(screen)\n",
        "plt.imshow(screen[:,:,0])\n",
        "plt.grid(False)\n",
        "print(screen.shape) #(400, 600, 3)\n"
      ],
      "metadata": {
        "id": "wnY3tQ-USDqg",
        "outputId": "a9cdb02e-5c8e-4652-acfc-48595549769f",
        "colab": {
          "base_uri": "https://localhost:8080/",
          "height": 547
        }
      },
      "execution_count": null,
      "outputs": [
        {
          "output_type": "stream",
          "name": "stdout",
          "text": [
            "Reading package lists... Done\n",
            "Building dependency tree       \n",
            "Reading state information... Done\n",
            "python-opengl is already the newest version (3.1.0+dfsg-1).\n",
            "xvfb is already the newest version (2:1.19.6-1ubuntu4.10).\n",
            "The following package was automatically installed and is no longer required:\n",
            "  libnvidia-common-460\n",
            "Use 'apt autoremove' to remove it.\n",
            "0 upgraded, 0 newly installed, 0 to remove and 45 not upgraded.\n",
            "Looking in indexes: https://pypi.org/simple, https://us-python.pkg.dev/colab-wheels/public/simple/\n",
            "Requirement already satisfied: pyvirtualdisplay in /usr/local/lib/python3.7/dist-packages (3.0)\n",
            "state [ 0.00753279  1.4118962   0.7629716   0.04336127 -0.00872179 -0.17282452\n",
            "  0.          0.        ] (8,)\n",
            "[ 0.0149828   1.412293    0.7515303   0.01757826 -0.01517433 -0.1290621\n",
            "  0.          0.        ]\n",
            "(400, 600, 3)\n"
          ]
        },
        {
          "output_type": "display_data",
          "data": {
            "text/plain": [
              "<Figure size 432x288 with 1 Axes>"
            ],
            "image/png": "[encoded data removed]"
          },
          "metadata": {
            "needs_background": "light"
          }
        }
      ]
    },
    {
      "cell_type": "code",
      "source": [
        "env = gym.make(\"LunarLander-v2\")\n",
        "env.reset()\n",
        "prev_screen = env.render(mode='rgb_array')\n",
        "plt.imshow(prev_screen)\n",
        "\n",
        "from IPython import display\n",
        "# https://stackoverflow.com/questions/50107530/how-to-render-openai-gym-in-google-colab\n",
        "for i in range(50):\n",
        "  action = env.action_space.sample()\n",
        "  obs, reward, done, info = env.step(action)\n",
        "  screen = env.render(mode='rgb_array')\n",
        "  plt.imshow(screen)\n",
        "#   ipythondisplay.clear_output(wait=True)\n",
        "#   ipythondisplay.display(plt.gcf())\n",
        "  display.display(plt.gcf())\n",
        "  display.clear_output(wait=True)\n",
        "  if done:\n",
        "    break\n",
        "\n",
        "# ipythondisplay.clear_output(wait=True)\n",
        "env.close()"
      ],
      "metadata": {
        "id": "ZkcIDNZVU2s2",
        "outputId": "875309ba-d1d8-4466-cea4-1d16a0760994",
        "colab": {
          "base_uri": "https://localhost:8080/",
          "height": 269
        }
      },
      "execution_count": null,
      "outputs": [
        {
          "output_type": "display_data",
          "data": {
            "text/plain": [
              "<Figure size 432x288 with 1 Axes>"
            ],
            "image/png": "[encoded data removed]"
          },
          "metadata": {
            "needs_background": "light"
          }
        }
      ]
    },
    {
      "cell_type": "code",
      "source": [
        "# env = gym.make(\"LunarLander-v2\")\n",
        "env = make_vec_env('LunarLander-v2', n_envs=16)\n",
        "import torch\n",
        "device = \"cuda\" if torch.cuda.is_available() else \"cpu\"\n",
        "\n",
        "model = PPO(\n",
        "    policy = 'MlpPolicy', #MultiLayerPerceptron for when input is a vector\n",
        "    # policy = 'CnnPolicy', #for when input are frames\n",
        "    env = env,\n",
        "    n_steps = 1024,\n",
        "    batch_size = 64,\n",
        "    n_epochs = 4,\n",
        "    gamma = 0.999,\n",
        "    gae_lambda = 0.98,\n",
        "    ent_coef = 0.01,\n",
        "    verbose=1,\n",
        "    device=device,)\n",
        "\n",
        "model.learn(total_timesteps=10000) # 500000 Train the agent\n",
        "model.save(\"ppo-LunarLander-v2\") # Save the model"
      ],
      "metadata": {
        "id": "d6GLOdkZjh-Z"
      },
      "execution_count": null,
      "outputs": []
    },
    {
      "cell_type": "code",
      "execution_count": null,
      "metadata": {
        "id": "zpz8kHlt_a_m"
      },
      "outputs": [],
      "source": [
        "# evaluate\n",
        "eval_env = gym.make(\"LunarLander-v2\")\n",
        "mean_reward, std_reward = evaluate_policy(model, eval_env, n_eval_episodes=10, deterministic=True)\n",
        "print(f\"mean_reward={mean_reward:.2f} +/- {std_reward}\")\n",
        "# https://stable-baselines3.readthedocs.io/en/master/guide/examples.html#basic-usage-training-saving-loading\n",
        "# mean_reward=-21.81 +/- 17.647\n",
        "############### end ###################"
      ]
    }
  ],
  "metadata": {
    "accelerator": "GPU",
    "colab": {
      "collapsed_sections": [
        "QAN7B0_HCVZC",
        "1bQzQ-QcE3zo",
        "BqPKw3jt_pG5",
        "Avf6gufJBGMw"
      ],
      "name": "Unit 1 huggingface rl base.ipynb",
      "provenance": [],
      "include_colab_link": true
    },
    "kernelspec": {
      "display_name": "Python 3",
      "name": "python3"
    },
    "language_info": {
      "name": "python"
    }
  },
  "nbformat": 4,
  "nbformat_minor": 0
}